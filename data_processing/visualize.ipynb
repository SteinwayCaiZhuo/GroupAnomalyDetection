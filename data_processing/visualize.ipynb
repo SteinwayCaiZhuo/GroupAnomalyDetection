{
 "cells": [
  {
   "cell_type": "code",
   "execution_count": 1,
   "metadata": {},
   "outputs": [],
   "source": [
    "import numpy as np\n",
    "import matplotlib.pyplot as plt"
   ]
  },
  {
   "cell_type": "code",
   "execution_count": 3,
   "metadata": {},
   "outputs": [],
   "source": [
    "def get_attack_interval(label):\n",
    "    starts = []\n",
    "    ends = []\n",
    "\n",
    "    for i in range(len(label) - 1):\n",
    "        if (label[i] == 0 and label[i + 1] == 1):\n",
    "            starts.append(i + 1)\n",
    "        if (label[i] == 1 and label[i + 1] == 0):\n",
    "            ends.append(i + 1)\n",
    "    int_num = np.min((len(starts), len(ends)))\n",
    "    return np.concatenate((starts[:int_num], ends[:int_num])).reshape(2, int_num).transpose(1, 0)\n",
    "attack_level = np.load('../../data/wadi/attack_level.npy')\n",
    "attack_interval = get_attack_interval(attack_level)"
   ]
  },
  {
   "cell_type": "code",
   "execution_count": 5,
   "metadata": {},
   "outputs": [
    {
     "data": {
      "image/png": "[encoded data removed]",
      "text/plain": [
       "<Figure size 432x288 with 1 Axes>"
      ]
     },
     "metadata": {
      "needs_background": "light"
     },
     "output_type": "display_data"
    }
   ],
   "source": [
    "for j in range(len(attack_interval)):\n",
    "    plt.axvspan(attack_interval[j][0], attack_interval[j][1], alpha=0.3, color=\"red\")"
   ]
  },
  {
   "cell_type": "code",
   "execution_count": null,
   "metadata": {},
   "outputs": [],
   "source": []
  }
 ],
 "metadata": {
  "kernelspec": {
   "display_name": "Python 3",
   "language": "python",
   "name": "python3"
  },
  "language_info": {
   "codemirror_mode": {
    "name": "ipython",
    "version": 3
   },
   "file_extension": ".py",
   "mimetype": "text/x-python",
   "name": "python",
   "nbconvert_exporter": "python",
   "pygments_lexer": "ipython3",
   "version": "3.7.4"
  }
 },
 "nbformat": 4,
 "nbformat_minor": 2
}
