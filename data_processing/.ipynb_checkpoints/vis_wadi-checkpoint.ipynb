{
 "cells": [
  {
   "cell_type": "code",
   "execution_count": 2,
   "metadata": {},
   "outputs": [],
   "source": [
    "import pandas as pd\n",
    "import numpy as np\n",
    "import os\n",
    "import matplotlib.pyplot as plt"
   ]
  },
  {
   "cell_type": "code",
   "execution_count": 12,
   "metadata": {},
   "outputs": [
    {
     "data": {
      "text/plain": [
       "['WADI_14days.csv',\n",
       " 'WADI_attackdata.csv',\n",
       " 'WADI_technical_details-161018-v1.2.pdf',\n",
       " 'anomaly_1.npy',\n",
       " 'anomaly_continuous.npy',\n",
       " 'anomaly_np1_5.npy',\n",
       " 'anomaly_np2.npy',\n",
       " 'anomaly_np3.npy',\n",
       " 'anomaly_np4.npy',\n",
       " 'anomaly_np5.npy',\n",
       " 'anomaly_pc4.npy',\n",
       " 'anomaly_status.npy',\n",
       " 'attack_level.npy',\n",
       " 'attack_level1_5.npy',\n",
       " 'loss.npy',\n",
       " 'normal.csv',\n",
       " 'normal_1.npy',\n",
       " 'normal_continuous.npy',\n",
       " 'normal_np2.npy',\n",
       " 'normal_np4.npy',\n",
       " 'normal_pc4.npy',\n",
       " 'normal_status.npy',\n",
       " 'outer_interval.npy',\n",
       " 'sensors.txt',\n",
       " 'table_WADI.pdf']"
      ]
     },
     "execution_count": 12,
     "metadata": {},
     "output_type": "execute_result"
    }
   ],
   "source": [
    "sorted(os.listdir(\"../../data/wadi\"))"
   ]
  },
  {
   "cell_type": "code",
   "execution_count": 6,
   "metadata": {},
   "outputs": [
    {
     "data": {
      "text/plain": [
       "150"
      ]
     },
     "execution_count": 6,
     "metadata": {},
     "output_type": "execute_result"
    }
   ],
   "source": [
    "s = ''\n",
    "with open('../../data/wadi/sensors.txt', 'r') as f:\n",
    "    s = f.readlines()\n",
    "len(s)"
   ]
  },
  {
   "cell_type": "code",
   "execution_count": 7,
   "metadata": {},
   "outputs": [
    {
     "data": {
      "text/html": [
       "<div>\n",
       "<style scoped>\n",
       "    .dataframe tbody tr th:only-of-type {\n",
       "        vertical-align: middle;\n",
       "    }\n",
       "\n",
       "    .dataframe tbody tr th {\n",
       "        vertical-align: top;\n",
       "    }\n",
       "\n",
       "    .dataframe thead th {\n",
       "        text-align: right;\n",
       "    }\n",
       "</style>\n",
       "<table border=\"1\" class=\"dataframe\">\n",
       "  <thead>\n",
       "    <tr style=\"text-align: right;\">\n",
       "      <th></th>\n",
       "      <th>Row</th>\n",
       "      <th>Date</th>\n",
       "      <th>Time</th>\n",
       "      <th>\\\\WIN-25J4RO10SBF\\LOG_DATA\\SUTD_WADI\\LOG_DATA\\1_AIT_001_PV</th>\n",
       "      <th>\\\\WIN-25J4RO10SBF\\LOG_DATA\\SUTD_WADI\\LOG_DATA\\1_AIT_002_PV</th>\n",
       "      <th>\\\\WIN-25J4RO10SBF\\LOG_DATA\\SUTD_WADI\\LOG_DATA\\1_AIT_003_PV</th>\n",
       "      <th>\\\\WIN-25J4RO10SBF\\LOG_DATA\\SUTD_WADI\\LOG_DATA\\1_AIT_004_PV</th>\n",
       "      <th>\\\\WIN-25J4RO10SBF\\LOG_DATA\\SUTD_WADI\\LOG_DATA\\1_AIT_005_PV</th>\n",
       "      <th>\\\\WIN-25J4RO10SBF\\LOG_DATA\\SUTD_WADI\\LOG_DATA\\1_FIT_001_PV</th>\n",
       "      <th>\\\\WIN-25J4RO10SBF\\LOG_DATA\\SUTD_WADI\\LOG_DATA\\1_LS_001_AL</th>\n",
       "      <th>...</th>\n",
       "      <th>\\\\WIN-25J4RO10SBF\\LOG_DATA\\SUTD_WADI\\LOG_DATA\\3_MV_001_STATUS</th>\n",
       "      <th>\\\\WIN-25J4RO10SBF\\LOG_DATA\\SUTD_WADI\\LOG_DATA\\3_MV_002_STATUS</th>\n",
       "      <th>\\\\WIN-25J4RO10SBF\\LOG_DATA\\SUTD_WADI\\LOG_DATA\\3_MV_003_STATUS</th>\n",
       "      <th>\\\\WIN-25J4RO10SBF\\LOG_DATA\\SUTD_WADI\\LOG_DATA\\3_P_001_STATUS</th>\n",
       "      <th>\\\\WIN-25J4RO10SBF\\LOG_DATA\\SUTD_WADI\\LOG_DATA\\3_P_002_STATUS</th>\n",
       "      <th>\\\\WIN-25J4RO10SBF\\LOG_DATA\\SUTD_WADI\\LOG_DATA\\3_P_003_STATUS</th>\n",
       "      <th>\\\\WIN-25J4RO10SBF\\LOG_DATA\\SUTD_WADI\\LOG_DATA\\3_P_004_STATUS</th>\n",
       "      <th>\\\\WIN-25J4RO10SBF\\LOG_DATA\\SUTD_WADI\\LOG_DATA\\LEAK_DIFF_PRESSURE</th>\n",
       "      <th>\\\\WIN-25J4RO10SBF\\LOG_DATA\\SUTD_WADI\\LOG_DATA\\PLANT_START_STOP_LOG</th>\n",
       "      <th>\\\\WIN-25J4RO10SBF\\LOG_DATA\\SUTD_WADI\\LOG_DATA\\TOTAL_CONS_REQUIRED_FLOW</th>\n",
       "    </tr>\n",
       "  </thead>\n",
       "  <tbody>\n",
       "    <tr>\n",
       "      <td>0</td>\n",
       "      <td>1</td>\n",
       "      <td>9/25/2017</td>\n",
       "      <td>6:00:00.000 PM</td>\n",
       "      <td>171.155</td>\n",
       "      <td>0.619473</td>\n",
       "      <td>11.5759</td>\n",
       "      <td>504.645</td>\n",
       "      <td>0.318319</td>\n",
       "      <td>0.001157</td>\n",
       "      <td>0</td>\n",
       "      <td>...</td>\n",
       "      <td>1</td>\n",
       "      <td>1</td>\n",
       "      <td>1</td>\n",
       "      <td>1</td>\n",
       "      <td>1</td>\n",
       "      <td>1</td>\n",
       "      <td>1</td>\n",
       "      <td>67.9651</td>\n",
       "      <td>1</td>\n",
       "      <td>0.68</td>\n",
       "    </tr>\n",
       "    <tr>\n",
       "      <td>1</td>\n",
       "      <td>2</td>\n",
       "      <td>9/25/2017</td>\n",
       "      <td>6:00:01.000 PM</td>\n",
       "      <td>171.155</td>\n",
       "      <td>0.619473</td>\n",
       "      <td>11.5759</td>\n",
       "      <td>504.645</td>\n",
       "      <td>0.318319</td>\n",
       "      <td>0.001157</td>\n",
       "      <td>0</td>\n",
       "      <td>...</td>\n",
       "      <td>1</td>\n",
       "      <td>1</td>\n",
       "      <td>1</td>\n",
       "      <td>1</td>\n",
       "      <td>1</td>\n",
       "      <td>1</td>\n",
       "      <td>1</td>\n",
       "      <td>67.9651</td>\n",
       "      <td>1</td>\n",
       "      <td>0.68</td>\n",
       "    </tr>\n",
       "    <tr>\n",
       "      <td>2</td>\n",
       "      <td>3</td>\n",
       "      <td>9/25/2017</td>\n",
       "      <td>6:00:02.000 PM</td>\n",
       "      <td>171.155</td>\n",
       "      <td>0.619473</td>\n",
       "      <td>11.5759</td>\n",
       "      <td>504.645</td>\n",
       "      <td>0.318319</td>\n",
       "      <td>0.001157</td>\n",
       "      <td>0</td>\n",
       "      <td>...</td>\n",
       "      <td>1</td>\n",
       "      <td>1</td>\n",
       "      <td>1</td>\n",
       "      <td>1</td>\n",
       "      <td>1</td>\n",
       "      <td>1</td>\n",
       "      <td>1</td>\n",
       "      <td>67.9651</td>\n",
       "      <td>1</td>\n",
       "      <td>0.68</td>\n",
       "    </tr>\n",
       "    <tr>\n",
       "      <td>3</td>\n",
       "      <td>4</td>\n",
       "      <td>9/25/2017</td>\n",
       "      <td>6:00:03.000 PM</td>\n",
       "      <td>171.155</td>\n",
       "      <td>0.607477</td>\n",
       "      <td>11.5725</td>\n",
       "      <td>504.673</td>\n",
       "      <td>0.318438</td>\n",
       "      <td>0.001207</td>\n",
       "      <td>0</td>\n",
       "      <td>...</td>\n",
       "      <td>1</td>\n",
       "      <td>1</td>\n",
       "      <td>1</td>\n",
       "      <td>1</td>\n",
       "      <td>1</td>\n",
       "      <td>1</td>\n",
       "      <td>1</td>\n",
       "      <td>67.1948</td>\n",
       "      <td>1</td>\n",
       "      <td>0.68</td>\n",
       "    </tr>\n",
       "    <tr>\n",
       "      <td>4</td>\n",
       "      <td>5</td>\n",
       "      <td>9/25/2017</td>\n",
       "      <td>6:00:04.000 PM</td>\n",
       "      <td>171.155</td>\n",
       "      <td>0.607477</td>\n",
       "      <td>11.5725</td>\n",
       "      <td>504.673</td>\n",
       "      <td>0.318438</td>\n",
       "      <td>0.001207</td>\n",
       "      <td>0</td>\n",
       "      <td>...</td>\n",
       "      <td>1</td>\n",
       "      <td>1</td>\n",
       "      <td>1</td>\n",
       "      <td>1</td>\n",
       "      <td>1</td>\n",
       "      <td>1</td>\n",
       "      <td>1</td>\n",
       "      <td>67.1948</td>\n",
       "      <td>1</td>\n",
       "      <td>0.68</td>\n",
       "    </tr>\n",
       "  </tbody>\n",
       "</table>\n",
       "<p>5 rows × 130 columns</p>\n",
       "</div>"
      ],
      "text/plain": [
       "   Row       Date            Time  \\\n",
       "0    1  9/25/2017  6:00:00.000 PM   \n",
       "1    2  9/25/2017  6:00:01.000 PM   \n",
       "2    3  9/25/2017  6:00:02.000 PM   \n",
       "3    4  9/25/2017  6:00:03.000 PM   \n",
       "4    5  9/25/2017  6:00:04.000 PM   \n",
       "\n",
       "   \\\\WIN-25J4RO10SBF\\LOG_DATA\\SUTD_WADI\\LOG_DATA\\1_AIT_001_PV  \\\n",
       "0                                            171.155            \n",
       "1                                            171.155            \n",
       "2                                            171.155            \n",
       "3                                            171.155            \n",
       "4                                            171.155            \n",
       "\n",
       "   \\\\WIN-25J4RO10SBF\\LOG_DATA\\SUTD_WADI\\LOG_DATA\\1_AIT_002_PV  \\\n",
       "0                                           0.619473            \n",
       "1                                           0.619473            \n",
       "2                                           0.619473            \n",
       "3                                           0.607477            \n",
       "4                                           0.607477            \n",
       "\n",
       "   \\\\WIN-25J4RO10SBF\\LOG_DATA\\SUTD_WADI\\LOG_DATA\\1_AIT_003_PV  \\\n",
       "0                                            11.5759            \n",
       "1                                            11.5759            \n",
       "2                                            11.5759            \n",
       "3                                            11.5725            \n",
       "4                                            11.5725            \n",
       "\n",
       "   \\\\WIN-25J4RO10SBF\\LOG_DATA\\SUTD_WADI\\LOG_DATA\\1_AIT_004_PV  \\\n",
       "0                                            504.645            \n",
       "1                                            504.645            \n",
       "2                                            504.645            \n",
       "3                                            504.673            \n",
       "4                                            504.673            \n",
       "\n",
       "   \\\\WIN-25J4RO10SBF\\LOG_DATA\\SUTD_WADI\\LOG_DATA\\1_AIT_005_PV  \\\n",
       "0                                           0.318319            \n",
       "1                                           0.318319            \n",
       "2                                           0.318319            \n",
       "3                                           0.318438            \n",
       "4                                           0.318438            \n",
       "\n",
       "   \\\\WIN-25J4RO10SBF\\LOG_DATA\\SUTD_WADI\\LOG_DATA\\1_FIT_001_PV  \\\n",
       "0                                           0.001157            \n",
       "1                                           0.001157            \n",
       "2                                           0.001157            \n",
       "3                                           0.001207            \n",
       "4                                           0.001207            \n",
       "\n",
       "   \\\\WIN-25J4RO10SBF\\LOG_DATA\\SUTD_WADI\\LOG_DATA\\1_LS_001_AL  ...  \\\n",
       "0                                                  0          ...   \n",
       "1                                                  0          ...   \n",
       "2                                                  0          ...   \n",
       "3                                                  0          ...   \n",
       "4                                                  0          ...   \n",
       "\n",
       "   \\\\WIN-25J4RO10SBF\\LOG_DATA\\SUTD_WADI\\LOG_DATA\\3_MV_001_STATUS  \\\n",
       "0                                                  1               \n",
       "1                                                  1               \n",
       "2                                                  1               \n",
       "3                                                  1               \n",
       "4                                                  1               \n",
       "\n",
       "   \\\\WIN-25J4RO10SBF\\LOG_DATA\\SUTD_WADI\\LOG_DATA\\3_MV_002_STATUS  \\\n",
       "0                                                  1               \n",
       "1                                                  1               \n",
       "2                                                  1               \n",
       "3                                                  1               \n",
       "4                                                  1               \n",
       "\n",
       "   \\\\WIN-25J4RO10SBF\\LOG_DATA\\SUTD_WADI\\LOG_DATA\\3_MV_003_STATUS  \\\n",
       "0                                                  1               \n",
       "1                                                  1               \n",
       "2                                                  1               \n",
       "3                                                  1               \n",
       "4                                                  1               \n",
       "\n",
       "   \\\\WIN-25J4RO10SBF\\LOG_DATA\\SUTD_WADI\\LOG_DATA\\3_P_001_STATUS  \\\n",
       "0                                                  1              \n",
       "1                                                  1              \n",
       "2                                                  1              \n",
       "3                                                  1              \n",
       "4                                                  1              \n",
       "\n",
       "   \\\\WIN-25J4RO10SBF\\LOG_DATA\\SUTD_WADI\\LOG_DATA\\3_P_002_STATUS  \\\n",
       "0                                                  1              \n",
       "1                                                  1              \n",
       "2                                                  1              \n",
       "3                                                  1              \n",
       "4                                                  1              \n",
       "\n",
       "   \\\\WIN-25J4RO10SBF\\LOG_DATA\\SUTD_WADI\\LOG_DATA\\3_P_003_STATUS  \\\n",
       "0                                                  1              \n",
       "1                                                  1              \n",
       "2                                                  1              \n",
       "3                                                  1              \n",
       "4                                                  1              \n",
       "\n",
       "   \\\\WIN-25J4RO10SBF\\LOG_DATA\\SUTD_WADI\\LOG_DATA\\3_P_004_STATUS  \\\n",
       "0                                                  1              \n",
       "1                                                  1              \n",
       "2                                                  1              \n",
       "3                                                  1              \n",
       "4                                                  1              \n",
       "\n",
       "   \\\\WIN-25J4RO10SBF\\LOG_DATA\\SUTD_WADI\\LOG_DATA\\LEAK_DIFF_PRESSURE  \\\n",
       "0                                            67.9651                  \n",
       "1                                            67.9651                  \n",
       "2                                            67.9651                  \n",
       "3                                            67.1948                  \n",
       "4                                            67.1948                  \n",
       "\n",
       "   \\\\WIN-25J4RO10SBF\\LOG_DATA\\SUTD_WADI\\LOG_DATA\\PLANT_START_STOP_LOG  \\\n",
       "0                                                  1                    \n",
       "1                                                  1                    \n",
       "2                                                  1                    \n",
       "3                                                  1                    \n",
       "4                                                  1                    \n",
       "\n",
       "   \\\\WIN-25J4RO10SBF\\LOG_DATA\\SUTD_WADI\\LOG_DATA\\TOTAL_CONS_REQUIRED_FLOW  \n",
       "0                                               0.68                       \n",
       "1                                               0.68                       \n",
       "2                                               0.68                       \n",
       "3                                               0.68                       \n",
       "4                                               0.68                       \n",
       "\n",
       "[5 rows x 130 columns]"
      ]
     },
     "execution_count": 7,
     "metadata": {},
     "output_type": "execute_result"
    }
   ],
   "source": [
    "normal_df = pd.read_csv('../../data/wadi/normal.csv')\n",
    "normal_df.head()"
   ]
  },
  {
   "cell_type": "code",
   "execution_count": 31,
   "metadata": {},
   "outputs": [],
   "source": [
    "normal_np = normal_df.iloc[:,3:].to_numpy()"
   ]
  },
  {
   "cell_type": "code",
   "execution_count": 32,
   "metadata": {},
   "outputs": [
    {
     "data": {
      "text/plain": [
       "(1209601, 127)"
      ]
     },
     "execution_count": 32,
     "metadata": {},
     "output_type": "execute_result"
    }
   ],
   "source": [
    "normal_np.shape"
   ]
  },
  {
   "cell_type": "code",
   "execution_count": 33,
   "metadata": {},
   "outputs": [],
   "source": [
    "anomaly_df = pd.read_csv('../../data/wadi/WADI_attackdata.csv')"
   ]
  },
  {
   "cell_type": "code",
   "execution_count": 34,
   "metadata": {},
   "outputs": [
    {
     "data": {
      "text/plain": [
       "(172801, 127)"
      ]
     },
     "execution_count": 34,
     "metadata": {},
     "output_type": "execute_result"
    }
   ],
   "source": [
    "anomaly_np = anomaly_df.iloc[:,3:].to_numpy()\n",
    "anomaly_np.shape"
   ]
  },
  {
   "cell_type": "code",
   "execution_count": 35,
   "metadata": {},
   "outputs": [],
   "source": [
    "headers = normal_df.columns[3:]"
   ]
  },
  {
   "cell_type": "code",
   "execution_count": 36,
   "metadata": {},
   "outputs": [],
   "source": [
    "headers = [header for header in headers]"
   ]
  },
  {
   "cell_type": "code",
   "execution_count": 37,
   "metadata": {},
   "outputs": [
    {
     "data": {
      "text/plain": [
       "127"
      ]
     },
     "execution_count": 37,
     "metadata": {},
     "output_type": "execute_result"
    }
   ],
   "source": [
    "len(headers)"
   ]
  },
  {
   "cell_type": "code",
   "execution_count": 38,
   "metadata": {},
   "outputs": [
    {
     "data": {
      "text/plain": [
       "('\\\\\\\\WIN-25J4RO10SBF\\\\LOG_DATA\\\\SUTD_WADI\\\\LOG_DATA\\\\1_AIT_001_PV',\n",
       " ['',\n",
       "  '',\n",
       "  'WIN-25J4RO10SBF',\n",
       "  'LOG_DATA',\n",
       "  'SUTD_WADI',\n",
       "  'LOG_DATA',\n",
       "  '1_AIT_001_PV'])"
      ]
     },
     "execution_count": 38,
     "metadata": {},
     "output_type": "execute_result"
    }
   ],
   "source": [
    "headers[0], headers[0].split('\\\\')"
   ]
  },
  {
   "cell_type": "code",
   "execution_count": 39,
   "metadata": {},
   "outputs": [],
   "source": [
    "headers = [header.split('\\\\')[-1] for header in headers]"
   ]
  },
  {
   "cell_type": "code",
   "execution_count": 40,
   "metadata": {},
   "outputs": [
    {
     "name": "stdout",
     "output_type": "stream",
     "text": [
      "nan index: [47, 48, 83, 84]\n"
     ]
    }
   ],
   "source": [
    "nan_index = []\n",
    "for i in range(normal_np.shape[1]):\n",
    "    if np.sum(np.isnan(normal_np[:,i]))==normal_np.shape[0]:\n",
    "        nan_index.append(i)\n",
    "print(\"nan index:\", nan_index)"
   ]
  },
  {
   "cell_type": "code",
   "execution_count": 48,
   "metadata": {},
   "outputs": [
    {
     "data": {
      "text/plain": [
       "123"
      ]
     },
     "execution_count": 48,
     "metadata": {},
     "output_type": "execute_result"
    }
   ],
   "source": [
    "non_nan_index = np.array([i for i in range(normal_np.shape[1]) if i not in nan_index]).astype(int)\n",
    "len(non_nan_index)"
   ]
  },
  {
   "cell_type": "code",
   "execution_count": 47,
   "metadata": {},
   "outputs": [],
   "source": [
    "normal_np_non_nan = normal_np[:,non_nan_index]\n",
    "anomaly_np_non_nan = anomaly_np[:, non_nan_index]\n",
    "headers_non_nan = [headers[i] for i in non_nan_index]"
   ]
  },
  {
   "cell_type": "code",
   "execution_count": 49,
   "metadata": {},
   "outputs": [],
   "source": [
    "# fill na\n",
    "from scipy.interpolate import interp1d"
   ]
  },
  {
   "cell_type": "code",
   "execution_count": 50,
   "metadata": {},
   "outputs": [],
   "source": [
    "def interp(input_data):\n",
    "    x = [i for i in range(len(input_data)) if not np.isnan(input_data[i])]\n",
    "    y = input_data[x]\n",
    "    f = interp1d(x,y)\n",
    "    y_new = f(np.arange(len(input_data)))\n",
    "    return y_new"
   ]
  },
  {
   "cell_type": "code",
   "execution_count": 51,
   "metadata": {},
   "outputs": [
    {
     "name": "stdout",
     "output_type": "stream",
     "text": [
      "normal interp: 1\n",
      "normal interp: 3\n",
      "normal interp: 104\n",
      "normal interp: 106\n",
      "normal interp: 108\n"
     ]
    }
   ],
   "source": [
    "for i in range(normal_np_non_nan.shape[1]):\n",
    "    if np.sum(np.isnan(normal_np_non_nan[:,i]))>0:\n",
    "        normal_np_non_nan[:, i] = interp(normal_np_non_nan[:,i])\n",
    "        print(\"normal interp:\",i)\n",
    "    if np.sum(np.isnan(anomaly_np_non_nan[:,i]))>0:\n",
    "        anomaly_np_non_nan[:,i]=interp(anomaly_np_non_nan[:,i])\n",
    "        print(\"anomaly_interp:\",i)"
   ]
  },
  {
   "cell_type": "code",
   "execution_count": 52,
   "metadata": {},
   "outputs": [],
   "source": [
    "nc = [i for i in range(normal_np_non_nan.shape[1])\n",
    "      if np.max((normal_np_non_nan[:,i]))==np.min((normal_np_non_nan[:,i]))]"
   ]
  },
  {
   "cell_type": "code",
   "execution_count": 53,
   "metadata": {},
   "outputs": [
    {
     "data": {
      "text/plain": [
       "[6,\n",
       " 7,\n",
       " 10,\n",
       " 11,\n",
       " 14,\n",
       " 16,\n",
       " 18,\n",
       " 61,\n",
       " 68,\n",
       " 69,\n",
       " 71,\n",
       " 72,\n",
       " 74,\n",
       " 84,\n",
       " 87,\n",
       " 91,\n",
       " 92,\n",
       " 93,\n",
       " 94,\n",
       " 95,\n",
       " 96,\n",
       " 111,\n",
       " 113,\n",
       " 114,\n",
       " 115,\n",
       " 116,\n",
       " 117,\n",
       " 118,\n",
       " 119,\n",
       " 121]"
      ]
     },
     "execution_count": 53,
     "metadata": {},
     "output_type": "execute_result"
    }
   ],
   "source": [
    "nc"
   ]
  },
  {
   "cell_type": "code",
   "execution_count": 54,
   "metadata": {},
   "outputs": [
    {
     "data": {
      "text/plain": [
       "[6,\n",
       " 7,\n",
       " 14,\n",
       " 16,\n",
       " 68,\n",
       " 69,\n",
       " 71,\n",
       " 72,\n",
       " 74,\n",
       " 84,\n",
       " 91,\n",
       " 92,\n",
       " 93,\n",
       " 94,\n",
       " 95,\n",
       " 96,\n",
       " 105,\n",
       " 106,\n",
       " 111,\n",
       " 113,\n",
       " 114,\n",
       " 115,\n",
       " 116,\n",
       " 117,\n",
       " 118,\n",
       " 119,\n",
       " 121]"
      ]
     },
     "execution_count": 54,
     "metadata": {},
     "output_type": "execute_result"
    }
   ],
   "source": [
    "ac = [i for i in range(anomaly_np_non_nan.shape[1])\n",
    "      if np.max((anomaly_np_non_nan[:,i]))==np.min((anomaly_np_non_nan[:,i]))]\n",
    "ac"
   ]
  },
  {
   "cell_type": "code",
   "execution_count": 55,
   "metadata": {},
   "outputs": [],
   "source": [
    "non_c_index = [i for i in range(normal_np_non_nan.shape[1]) if i not in nc or i not in ac]"
   ]
  },
  {
   "cell_type": "code",
   "execution_count": 59,
   "metadata": {},
   "outputs": [
    {
     "data": {
      "text/plain": [
       "array([  0,   1,   2,   3,   4,   5,   8,   9,  10,  11,  12,  13,  15,\n",
       "        17,  18,  19,  20,  21,  22,  23,  24,  25,  26,  27,  28,  29,\n",
       "        30,  31,  32,  33,  34,  35,  36,  37,  38,  39,  40,  41,  42,\n",
       "        43,  44,  45,  46,  47,  48,  49,  50,  51,  52,  53,  54,  55,\n",
       "        56,  57,  58,  59,  60,  61,  62,  63,  64,  65,  66,  67,  70,\n",
       "        73,  75,  76,  77,  78,  79,  80,  81,  82,  83,  85,  86,  87,\n",
       "        88,  89,  90,  97,  98,  99, 100, 101, 102, 103, 104, 105, 106,\n",
       "       107, 108, 109, 110, 112, 120, 122])"
      ]
     },
     "execution_count": 59,
     "metadata": {},
     "output_type": "execute_result"
    }
   ],
   "source": [
    "np.array(non_c_index)"
   ]
  },
  {
   "cell_type": "code",
   "execution_count": 57,
   "metadata": {},
   "outputs": [
    {
     "data": {
      "text/plain": [
       "array([  0,   1,   2,   3,   4,   5,   8,   9,  10,  11,  12,  13,  15,\n",
       "        17,  18,  19,  20,  21,  22,  23,  24,  25,  26,  27,  28,  29,\n",
       "        30,  31,  32,  33,  34,  35,  36,  37,  38,  39,  40,  41,  42,\n",
       "        43,  44,  45,  46,  49,  50,  51,  52,  53,  54,  55,  56,  57,\n",
       "        58,  59,  60,  61,  62,  63,  64,  65,  66,  67,  68,  69,  72,\n",
       "        75,  77,  78,  79,  80,  81,  82,  85,  86,  87,  89,  90,  91,\n",
       "        92,  93,  94, 101, 102, 103, 104, 105, 106, 107, 108, 109, 110,\n",
       "       111, 112, 113, 114, 116, 124, 126])"
      ]
     },
     "execution_count": 57,
     "metadata": {},
     "output_type": "execute_result"
    }
   ],
   "source": [
    "final_keep_index = non_nan_index[non_c_index]\n",
    "final_keep_index"
   ]
  },
  {
   "cell_type": "code",
   "execution_count": 60,
   "metadata": {},
   "outputs": [],
   "source": [
    "final_keep_headers = [headers[i].split('\\\\')[-1] for i in final_keep_index]"
   ]
  },
  {
   "cell_type": "code",
   "execution_count": 62,
   "metadata": {},
   "outputs": [
    {
     "data": {
      "text/plain": [
       "98"
      ]
     },
     "execution_count": 62,
     "metadata": {},
     "output_type": "execute_result"
    }
   ],
   "source": [
    "len(final_keep_headers)"
   ]
  },
  {
   "cell_type": "code",
   "execution_count": 63,
   "metadata": {},
   "outputs": [
    {
     "data": {
      "text/plain": [
       "96"
      ]
     },
     "execution_count": 63,
     "metadata": {},
     "output_type": "execute_result"
    }
   ],
   "source": [
    "final_anomaly_index = non_nan_index[[i for i in range(len(non_nan_index)) if i not in ac]]\n",
    "len(final_anomaly_index)"
   ]
  },
  {
   "cell_type": "code",
   "execution_count": 68,
   "metadata": {},
   "outputs": [
    {
     "data": {
      "text/plain": [
       "96"
      ]
     },
     "execution_count": 68,
     "metadata": {},
     "output_type": "execute_result"
    }
   ],
   "source": [
    "av = [i for i in range(len(non_nan_index)) if i not in ac]\n",
    "len(av)"
   ]
  },
  {
   "cell_type": "code",
   "execution_count": 65,
   "metadata": {},
   "outputs": [
    {
     "data": {
      "text/plain": [
       "(172801, 97)"
      ]
     },
     "execution_count": 65,
     "metadata": {},
     "output_type": "execute_result"
    }
   ],
   "source": [
    "anomaly_5 = np.load(\"../../data/wadi/anomaly_np5.npy\")\n",
    "anomaly_5.shape"
   ]
  },
  {
   "cell_type": "code",
   "execution_count": 70,
   "metadata": {},
   "outputs": [
    {
     "name": "stdout",
     "output_type": "stream",
     "text": [
      "7 = 7\n",
      "8 = 8\n",
      "9 = 9\n",
      "10 = 10\n",
      "11 = 11\n",
      "12 = 12\n",
      "13 = 13\n",
      "14 = 14\n",
      "43 = 43\n",
      "44 = 44\n",
      "45 = 45\n",
      "46 = 46\n",
      "47 = 47\n",
      "48 = 48\n",
      "49 = 49\n",
      "50 = 50\n",
      "51 = 51\n",
      "52 = 52\n",
      "53 = 53\n",
      "54 = 54\n",
      "64 = 64\n",
      "65 = 65\n",
      "66 = 66\n",
      "67 = 67\n",
      "68 = 68\n",
      "69 = 69\n",
      "70 = 70\n",
      "71 = 71\n",
      "73 = 73\n"
     ]
    }
   ],
   "source": [
    "for i in range(96):\n",
    "    for j in range(97):\n",
    "        if(np.max(np.abs(anomaly_np_non_nan[:,av[i]]-anomaly_5[:,j])))==0:\n",
    "            print(i,\"=\",j)"
   ]
  },
  {
   "cell_type": "code",
   "execution_count": 72,
   "metadata": {},
   "outputs": [
    {
     "data": {
      "text/plain": [
       "[<matplotlib.lines.Line2D at 0x7fb2d710de90>]"
      ]
     },
     "execution_count": 72,
     "metadata": {},
     "output_type": "execute_result"
    },
    {
     "data": {
      "image/png": "[encoded data removed]",
      "text/plain": [
       "<Figure size 432x288 with 1 Axes>"
      ]
     },
     "metadata": {
      "needs_background": "light"
     },
     "output_type": "display_data"
    }
   ],
   "source": [
    "plt.plot(anomaly_5[:,-1])"
   ]
  },
  {
   "cell_type": "code",
   "execution_count": 73,
   "metadata": {},
   "outputs": [],
   "source": [
    "attack_level = np.load('../../data/wadi/attack_level.npy')"
   ]
  },
  {
   "cell_type": "code",
   "execution_count": 75,
   "metadata": {},
   "outputs": [
    {
     "data": {
      "text/plain": [
       "[<matplotlib.lines.Line2D at 0x7fb2d709d850>]"
      ]
     },
     "execution_count": 75,
     "metadata": {},
     "output_type": "execute_result"
    },
    {
     "data": {
      "image/png": "[encoded data removed]",
      "text/plain": [
       "<Figure size 432x288 with 1 Axes>"
      ]
     },
     "metadata": {
      "needs_background": "light"
     },
     "output_type": "display_data"
    }
   ],
   "source": [
    "plt.plot(attack_level - anomaly_5[:,-1])"
   ]
  },
  {
   "cell_type": "code",
   "execution_count": 77,
   "metadata": {},
   "outputs": [],
   "source": [
    "np.save(\"../../data/wadi/anomaly_np6.npy\", anomaly_5[:,:-1])"
   ]
  },
  {
   "cell_type": "code",
   "execution_count": 78,
   "metadata": {},
   "outputs": [
    {
     "data": {
      "text/plain": [
       "['1_AIT_001_PV',\n",
       " '1_AIT_002_PV',\n",
       " '1_AIT_003_PV',\n",
       " '1_AIT_004_PV',\n",
       " '1_AIT_005_PV',\n",
       " '1_FIT_001_PV',\n",
       " '1_LT_001_PV',\n",
       " '1_MV_001_STATUS',\n",
       " '1_MV_002_STATUS',\n",
       " '1_MV_003_STATUS',\n",
       " '1_MV_004_STATUS',\n",
       " '1_P_001_STATUS',\n",
       " '1_P_003_STATUS',\n",
       " '1_P_005_STATUS',\n",
       " '1_P_006_STATUS',\n",
       " '2_DPIT_001_PV',\n",
       " '2_FIC_101_CO',\n",
       " '2_FIC_101_PV',\n",
       " '2_FIC_101_SP',\n",
       " '2_FIC_201_CO',\n",
       " '2_FIC_201_PV',\n",
       " '2_FIC_201_SP',\n",
       " '2_FIC_301_CO',\n",
       " '2_FIC_301_PV',\n",
       " '2_FIC_301_SP',\n",
       " '2_FIC_401_CO',\n",
       " '2_FIC_401_PV',\n",
       " '2_FIC_401_SP',\n",
       " '2_FIC_501_CO',\n",
       " '2_FIC_501_PV',\n",
       " '2_FIC_501_SP',\n",
       " '2_FIC_601_CO',\n",
       " '2_FIC_601_PV',\n",
       " '2_FIC_601_SP',\n",
       " '2_FIT_001_PV',\n",
       " '2_FIT_002_PV',\n",
       " '2_FIT_003_PV',\n",
       " '2_FQ_101_PV',\n",
       " '2_FQ_201_PV',\n",
       " '2_FQ_301_PV',\n",
       " '2_FQ_401_PV',\n",
       " '2_FQ_501_PV',\n",
       " '2_FQ_601_PV',\n",
       " '2_LS_101_AH',\n",
       " '2_LS_101_AL',\n",
       " '2_LS_201_AH',\n",
       " '2_LS_201_AL',\n",
       " '2_LS_301_AH',\n",
       " '2_LS_301_AL',\n",
       " '2_LS_401_AH',\n",
       " '2_LS_401_AL',\n",
       " '2_LS_501_AH',\n",
       " '2_LS_501_AL',\n",
       " '2_LS_601_AH',\n",
       " '2_LS_601_AL',\n",
       " '2_LT_001_PV',\n",
       " '2_LT_002_PV',\n",
       " '2_MCV_007_CO',\n",
       " '2_MCV_101_CO',\n",
       " '2_MCV_201_CO',\n",
       " '2_MCV_301_CO',\n",
       " '2_MCV_401_CO',\n",
       " '2_MCV_501_CO',\n",
       " '2_MCV_601_CO',\n",
       " '2_MV_003_STATUS',\n",
       " '2_MV_006_STATUS',\n",
       " '2_MV_101_STATUS',\n",
       " '2_MV_201_STATUS',\n",
       " '2_MV_301_STATUS',\n",
       " '2_MV_401_STATUS',\n",
       " '2_MV_501_STATUS',\n",
       " '2_MV_601_STATUS',\n",
       " '2_P_003_SPEED',\n",
       " '2_P_003_STATUS',\n",
       " '2_P_004_SPEED',\n",
       " '2_PIC_003_CO',\n",
       " '2_PIC_003_PV',\n",
       " '2_PIC_003_SP',\n",
       " '2_PIT_001_PV',\n",
       " '2_PIT_002_PV',\n",
       " '2_PIT_003_PV',\n",
       " '2A_AIT_001_PV',\n",
       " '2A_AIT_002_PV',\n",
       " '2A_AIT_003_PV',\n",
       " '2A_AIT_004_PV',\n",
       " '2B_AIT_001_PV',\n",
       " '2B_AIT_002_PV',\n",
       " '2B_AIT_003_PV',\n",
       " '2B_AIT_004_PV',\n",
       " '3_AIT_003_PV',\n",
       " '3_AIT_004_PV',\n",
       " '3_AIT_005_PV',\n",
       " '3_FIT_001_PV',\n",
       " '3_LT_001_PV',\n",
       " 'LEAK_DIFF_PRESSURE',\n",
       " 'TOTAL_CONS_REQUIRED_FLOW']"
      ]
     },
     "execution_count": 78,
     "metadata": {},
     "output_type": "execute_result"
    }
   ],
   "source": [
    "anomaly_headers = [headers[i].split('\\\\')[-1] for i in final_anomaly_index]\n",
    "anomaly_headers"
   ]
  },
  {
   "cell_type": "code",
   "execution_count": 79,
   "metadata": {},
   "outputs": [],
   "source": [
    "np.save(\"../../data/wadi/headers_anomaly.npy\", anomaly_headers)"
   ]
  },
  {
   "cell_type": "code",
   "execution_count": null,
   "metadata": {},
   "outputs": [],
   "source": []
  }
 ],
 "metadata": {
  "kernelspec": {
   "display_name": "Python 3",
   "language": "python",
   "name": "python3"
  },
  "language_info": {
   "codemirror_mode": {
    "name": "ipython",
    "version": 3
   },
   "file_extension": ".py",
   "mimetype": "text/x-python",
   "name": "python",
   "nbconvert_exporter": "python",
   "pygments_lexer": "ipython3",
   "version": "3.7.4"
  }
 },
 "nbformat": 4,
 "nbformat_minor": 2
}
