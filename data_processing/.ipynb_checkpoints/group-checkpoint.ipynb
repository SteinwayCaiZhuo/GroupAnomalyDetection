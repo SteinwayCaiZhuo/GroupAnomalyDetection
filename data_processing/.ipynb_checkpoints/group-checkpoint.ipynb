{
 "cells": [
  {
   "cell_type": "code",
   "execution_count": 1,
   "metadata": {},
   "outputs": [],
   "source": [
    "import numpy as np\n",
    "import matplotlib.pyplot as plt"
   ]
  },
  {
   "cell_type": "code",
   "execution_count": 2,
   "metadata": {},
   "outputs": [],
   "source": [
    "import os"
   ]
  },
  {
   "cell_type": "code",
   "execution_count": 3,
   "metadata": {},
   "outputs": [
    {
     "data": {
      "text/plain": [
       "['anomaly_np4.npy',\n",
       " 'sensors.txt',\n",
       " 'WADI_14days.csv',\n",
       " 'anomaly_np5.npy',\n",
       " 'attack_level1_5.npy',\n",
       " 'normal_status.npy',\n",
       " 'anomaly_pc4.npy',\n",
       " 'anomaly_status.npy',\n",
       " 'anomaly_np6.npy',\n",
       " 'normal_np4.npy',\n",
       " 'normal_continuous.npy',\n",
       " 'anomaly_px.npy',\n",
       " 'normal_pc4.npy',\n",
       " 'attack_level.npy',\n",
       " 'outer_interval.npy',\n",
       " 'normal.csv',\n",
       " 'anomaly_np3.npy',\n",
       " 'headers_anomaly.npy',\n",
       " 'anomaly_np2.npy',\n",
       " 'normal_np2.npy',\n",
       " 'anomaly_p2.npy',\n",
       " 'anomaly_np1_5.npy',\n",
       " 'WADI_technical_details-161018-v1.2.pdf',\n",
       " 'anomaly_p1.npy',\n",
       " 'anomaly_p3.npy',\n",
       " 'anomaly_continuous.npy',\n",
       " 'loss.npy',\n",
       " 'WADI_attackdata.csv',\n",
       " 'normal_1.npy',\n",
       " 'anomaly_1.npy',\n",
       " 'table_WADI.pdf']"
      ]
     },
     "execution_count": 3,
     "metadata": {},
     "output_type": "execute_result"
    }
   ],
   "source": [
    "os.listdir('../../data/wadi')"
   ]
  },
  {
   "cell_type": "code",
   "execution_count": 21,
   "metadata": {},
   "outputs": [],
   "source": [
    "with open('../../data/wadi/sensors.txt', 'r')as f:\n",
    "    s = f.readlines()"
   ]
  },
  {
   "cell_type": "code",
   "execution_count": 22,
   "metadata": {},
   "outputs": [],
   "source": [
    "s = [line for line in s if \"available\" in line]"
   ]
  },
  {
   "cell_type": "code",
   "execution_count": 23,
   "metadata": {},
   "outputs": [
    {
     "name": "stdout",
     "output_type": "stream",
     "text": [
      "3 ['1_AIT_001_PV', 'Primary_Grid', 'available']\n",
      "3 ['1_AIT_002_PV', 'Primary_Grid', 'available']\n",
      "3 ['1_AIT_003_PV', 'Primary_Grid', 'available']\n",
      "3 ['1_AIT_004_PV', 'Primary_Grid', 'available']\n",
      "3 ['1_AIT_005_PV', 'Primary_Grid', 'available']\n",
      "3 ['1_FIT_001_PV', 'Primary_Grid', 'available']\n",
      "3 ['1_MV_001_STATUS', 'Primary_Grid', 'available']\n",
      "3 ['1_MV_002_STATUS', 'Primary_Grid', 'available']\n",
      "3 ['1_MV_003_STATUS', 'Primary_Grid', 'available']\n",
      "3 ['1_MV_004_STATUS', 'Primary_Grid', 'available']\n",
      "3 ['1_P_001_STATUS', 'Primary_Grid', 'available']\n",
      "3 ['1_P_003_STATUS', 'Primary_Grid', 'available']\n",
      "3 ['1_P_005_STATUS', 'Primary_Grid', 'available']\n",
      "3 ['1_P_006_STATUS', 'Primary_Grid', 'available']\n",
      "2 ['2_DPIT_001_PV', 'available']\n",
      "2 ['2_FIC_101_CO', 'available']\n",
      "2 ['2_FIC_101_PV', 'available']\n",
      "2 ['2_FIC_101_SP', 'available']\n",
      "2 ['2_FIC_201_CO', 'available']\n",
      "2 ['2_FIC_201_PV', 'available']\n",
      "2 ['2_FIC_201_SP', 'available']\n",
      "2 ['2_FIC_301_CO', 'available']\n",
      "2 ['2_FIC_301_PV', 'available']\n",
      "2 ['2_FIC_301_SP', 'available']\n",
      "2 ['2_FIC_401_CO', 'available']\n",
      "2 ['2_FIC_401_PV', 'available']\n",
      "2 ['2_FIC_401_SP', 'available']\n",
      "2 ['2_FIC_501_CO', 'available']\n",
      "2 ['2_FIC_501_PV', 'available']\n",
      "2 ['2_FIC_501_SP', 'available']\n",
      "2 ['2_FIC_601_CO', 'available']\n",
      "2 ['2_FIC_601_PV', 'available']\n",
      "2 ['2_FIC_601_SP', 'available']\n",
      "3 ['2_FIT_001_PV', 'Elevated_Reservoir', 'available']\n",
      "3 ['2_FIT_002_PV', 'Booster_Station', 'available']\n",
      "3 ['2_FIT_003_PV', 'Booster_Station', 'available']\n",
      "3 ['2_FQ_101_PV', 'Consumer', 'available']\n",
      "3 ['2_FQ_201_PV', 'Consumer', 'available']\n",
      "3 ['2_FQ_301_PV', 'Consumer', 'available']\n",
      "3 ['2_FQ_401_PV', 'Consumer', 'available']\n",
      "3 ['2_FQ_501_PV', 'Consumer', 'available']\n",
      "3 ['2_FQ_601_PV', 'Consumer', 'available']\n",
      "3 ['2_LS_001_AL', 'Elevated_Reservoir', 'available']\n",
      "3 ['2_LS_002_AL', 'Elevated_Reservoir', 'available']\n",
      "3 ['2_LS_101_AH', 'Consumer', 'available']\n",
      "3 ['2_LS_101_AL', 'Consumer', 'available']\n",
      "3 ['2_LS_201_AH', 'Consumer', 'available']\n",
      "3 ['2_LS_201_AL', 'Consumer', 'available']\n",
      "3 ['2_LS_301_AH', 'Consumer', 'available']\n",
      "3 ['2_LS_301_AL', 'Consumer', 'available']\n",
      "3 ['2_LS_401_AH', 'Consumer', 'available']\n",
      "3 ['2_LS_401_AL', 'Consumer', 'available']\n",
      "3 ['2_LS_501_AH', 'Consumer', 'available']\n",
      "3 ['2_LS_501_AL', 'Consumer', 'available']\n",
      "3 ['2_LS_601_AH', 'Consumer', 'available']\n",
      "3 ['2_LS_601_AL', 'Consumer', 'available']\n",
      "3 ['2_LT_001_PV', 'Elevated_Reservoir', 'available']\n",
      "3 ['2_LT_002_PV', 'Elevated_Reservoir', 'available']\n",
      "3 ['2_MCV_007_CO', 'Booster_Station', 'available']\n",
      "3 ['2_MCV_101_CO', 'Consumer', 'available']\n",
      "3 ['2_MCV_201_CO', 'Consumer', 'available']\n",
      "3 ['2_MCV_301_CO', 'Consumer', 'available']\n",
      "3 ['2_MCV_401_CO', 'Consumer', 'available']\n",
      "3 ['2_MCV_501_CO', 'Consumer', 'available']\n",
      "3 ['2_MCV_601_CO', 'Consumer', 'available']\n",
      "3 ['2_MV_006_STATUS', 'Elevated_Reservoir', 'available']\n",
      "3 ['2_MV_101_STATUS', 'Consumer', 'available']\n",
      "3 ['2_MV_201_STATUS', 'Consumer', 'available']\n",
      "3 ['2_MV_301_STATUS', 'Consumer', 'available']\n",
      "3 ['2_MV_401_STATUS', 'Consumer', 'available']\n",
      "3 ['2_MV_501_STATUS', 'Consumer', 'available']\n",
      "3 ['2_MV_601_STATUS', 'Consumer', 'available']\n",
      "3 ['2_P_003_SPEED', 'Booster_Station', 'available']\n",
      "3 ['2_P_003_STATUS', 'Booster_Station', 'available']\n",
      "3 ['2_P_004_SPEED', 'Booster_Station', 'available']\n",
      "2 ['2_PIC_003_CO', 'available']\n",
      "2 ['2_PIC_003_PV', 'available']\n",
      "2 ['2_PIC_003_SP', 'available']\n",
      "3 ['2_PIT_001_PV', 'Elevated_Reservoir', 'available']\n",
      "3 ['2_PIT_002_PV', 'Booster_Station', 'available']\n",
      "3 ['2_PIT_003_PV', 'Booster_Station', 'available']\n",
      "3 ['2A_AIT_001_PV', 'Elevated_Reservoir', 'available']\n",
      "3 ['2A_AIT_002_PV', 'Elevated_Reservoir', 'available']\n",
      "3 ['2A_AIT_003_PV', 'Elevated_Reservoir', 'available']\n",
      "3 ['2A_AIT_004_PV', 'Elevated_Reservoir', 'available']\n",
      "3 ['2B_AIT_001_PV', 'Booster_Station', 'available']\n",
      "3 ['2B_AIT_002_PV', 'Booster_Station', 'available']\n",
      "3 ['2B_AIT_003_PV', 'Booster_Station', 'available']\n",
      "3 ['2B_AIT_004_PV', 'Booster_Station', 'available']\n",
      "3 ['3_AIT_003_PV', 'Return_Water', 'available']\n",
      "3 ['3_AIT_004_PV', 'Return_Water', 'available']\n",
      "3 ['3_AIT_005_PV', 'Return_Water', 'available']\n",
      "3 ['3_FIT_001_PV', 'Return_Water', 'available']\n",
      "3 ['3_LT_001_PV', 'Return_Water', 'available']\n",
      "2 ['LEAK_DIFF_PRESSURE', 'available']\n",
      "2 ['TOTAL_CONS_REQUIRED_FLOW', 'available']\n"
     ]
    }
   ],
   "source": [
    "for i in range(len(s)):\n",
    "    print(len(s[i].split()), s[i].split())"
   ]
  },
  {
   "cell_type": "code",
   "execution_count": 24,
   "metadata": {},
   "outputs": [],
   "source": [
    "classes = set()"
   ]
  },
  {
   "cell_type": "code",
   "execution_count": 25,
   "metadata": {},
   "outputs": [
    {
     "data": {
      "text/plain": [
       "{'Booster_Station',\n",
       " 'Consumer',\n",
       " 'Elevated_Reservoir',\n",
       " 'Primary_Grid',\n",
       " 'Return_Water'}"
      ]
     },
     "execution_count": 25,
     "metadata": {},
     "output_type": "execute_result"
    }
   ],
   "source": [
    "for i in range(len(s)):\n",
    "    split = s[i].split()\n",
    "    if(len(split)==3):\n",
    "        classes.add(split[1])\n",
    "classes"
   ]
  },
  {
   "cell_type": "code",
   "execution_count": 26,
   "metadata": {},
   "outputs": [
    {
     "data": {
      "text/plain": [
       "96"
      ]
     },
     "execution_count": 26,
     "metadata": {},
     "output_type": "execute_result"
    }
   ],
   "source": [
    "len(s)"
   ]
  },
  {
   "cell_type": "code",
   "execution_count": 27,
   "metadata": {},
   "outputs": [],
   "source": [
    "cov = np.zeros((len(s), len(s)))"
   ]
  },
  {
   "cell_type": "code",
   "execution_count": 28,
   "metadata": {},
   "outputs": [],
   "source": [
    "for i in range(96):\n",
    "    for j in range(96):\n",
    "        if i==j:\n",
    "            cov[i,j]=1\n",
    "        elif len(s[i].split())==3 and len(s[j].split())==3 and s[i].split()[1]==s[j].split()[1]:\n",
    "            cov[i,j]=1"
   ]
  },
  {
   "cell_type": "code",
   "execution_count": 29,
   "metadata": {},
   "outputs": [],
   "source": [
    "np.save('../../data/wadi/cov.npy', cov)"
   ]
  },
  {
   "cell_type": "code",
   "execution_count": 33,
   "metadata": {},
   "outputs": [],
   "source": [
    "real_cov = np.load('../../data/wadi/real_cov.npy')"
   ]
  },
  {
   "cell_type": "code",
   "execution_count": 31,
   "metadata": {},
   "outputs": [
    {
     "data": {
      "text/plain": [
       "<matplotlib.image.AxesImage at 0x7fb0a983e210>"
      ]
     },
     "execution_count": 31,
     "metadata": {},
     "output_type": "execute_result"
    },
    {
     "data": {
      "image/png": "[encoded data removed]",
      "text/plain": [
       "<Figure size 432x288 with 1 Axes>"
      ]
     },
     "metadata": {
      "needs_background": "light"
     },
     "output_type": "display_data"
    }
   ],
   "source": [
    "plt.imshow(cov)"
   ]
  },
  {
   "cell_type": "code",
   "execution_count": 34,
   "metadata": {},
   "outputs": [
    {
     "data": {
      "text/plain": [
       "<matplotlib.image.AxesImage at 0x7fb0a90cf810>"
      ]
     },
     "execution_count": 34,
     "metadata": {},
     "output_type": "execute_result"
    },
    {
     "data": {
      "image/png": "[encoded data removed]",
      "text/plain": [
       "<Figure size 432x288 with 1 Axes>"
      ]
     },
     "metadata": {
      "needs_background": "light"
     },
     "output_type": "display_data"
    }
   ],
   "source": [
    "plt.imshow(real_cov)"
   ]
  },
  {
   "cell_type": "code",
   "execution_count": 35,
   "metadata": {},
   "outputs": [
    {
     "data": {
      "text/plain": [
       "(96, 96)"
      ]
     },
     "execution_count": 35,
     "metadata": {},
     "output_type": "execute_result"
    }
   ],
   "source": [
    "real_cov.shape"
   ]
  },
  {
   "cell_type": "code",
   "execution_count": 36,
   "metadata": {},
   "outputs": [
    {
     "data": {
      "text/plain": [
       "17779.05579600262"
      ]
     },
     "execution_count": 36,
     "metadata": {},
     "output_type": "execute_result"
    }
   ],
   "source": [
    "np.max(real_cov)"
   ]
  },
  {
   "cell_type": "code",
   "execution_count": 39,
   "metadata": {},
   "outputs": [
    {
     "name": "stdout",
     "output_type": "stream",
     "text": [
      "0.007588586335002087\n",
      "0.029138456779127866\n",
      "0.0001306227124350255\n",
      "0.001283389231464752\n",
      "0.03144521938768878\n",
      "0.17236198047980864\n",
      "0.007552255438077448\n",
      "0.20487637547161416\n",
      "0.008825520932127625\n",
      "0.008826480074382317\n",
      "0.19158838217242832\n",
      "0.20159536093701833\n",
      "0.20149854751569254\n",
      "0.17306146995355626\n",
      "0.000485874808466255\n",
      "0.0029708878218491904\n",
      "0.15852146851164406\n",
      "0.0022221430192699435\n",
      "0.10743996792699799\n",
      "0.16384471220640645\n",
      "0.002061464625260611\n",
      "0.0677486691922807\n",
      "0.15660494557064675\n",
      "0.0010655632335957329\n",
      "0.07397197838735386\n",
      "0.1511205421109411\n",
      "0.0020683055431117907\n",
      "0.08012937888636176\n",
      "0.1653887920477248\n",
      "0.002441923570733609\n",
      "0.015446326227989433\n",
      "0.16224997301500999\n",
      "0.0013988279893669675\n",
      "0.08507070520029895\n",
      "0.16420942890649382\n",
      "0.05916873237035791\n",
      "0.01001449027528627\n",
      "0.0023181665076506667\n",
      "0.002054792340576852\n",
      "0.0011475623618032273\n",
      "0.0021074723383971675\n",
      "0.0024192338989757305\n",
      "0.0014432994116956185\n",
      "0.002009833163902737\n",
      "0.003523377257226093\n",
      "0.0013927308162439928\n",
      "0.003132486734901875\n",
      "0.002332496923778947\n",
      "0.002890899631496469\n",
      "0.0013696467002184236\n",
      "0.0030232119659372872\n",
      "0.002004069402140376\n",
      "0.0033797035076957517\n",
      "0.006850563975645719\n",
      "0.003138237368739526\n",
      "0.02034770603679542\n",
      "0.01210841521290183\n",
      "0.0052668092091373376\n",
      "0.03297194927504103\n",
      "0.052815022623811526\n",
      "0.046278692967564254\n",
      "0.027461034997512197\n",
      "0.042878484891739364\n",
      "0.05418307913996984\n",
      "0.19165491275341962\n",
      "0.14151669405848316\n",
      "0.2515275767061964\n",
      "0.2513283878431555\n",
      "0.24446584517204348\n",
      "0.2506290561268619\n",
      "0.25086093740723403\n",
      "0.2509233203677664\n",
      "0.035876966349955755\n",
      "0.12743530665867667\n",
      "0.017836319969305438\n",
      "0.03310789620236603\n",
      "0.011544799784845426\n",
      "0.00093006378230502\n",
      "0.005044164190183601\n",
      "0.006312432363106916\n",
      "0.01158255217144282\n",
      "0.0007692429994821376\n",
      "8.17203578118937e-06\n",
      "0.005276294215880188\n",
      "0.012691624779868821\n",
      "0.011700141556898868\n",
      "17779.05579600262\n",
      "0.0006221705584858936\n",
      "0.0009063105076177079\n",
      "0.03302375640451622\n",
      "0.01564506425752927\n",
      "0.014218032984409887\n",
      "0.05617062808442966\n",
      "0.059706690548847044\n",
      "0.0037561016219969327\n",
      "0.04144099586814596\n"
     ]
    }
   ],
   "source": [
    "for i in range(96):\n",
    "    print(real_cov[i][i])"
   ]
  },
  {
   "cell_type": "code",
   "execution_count": 40,
   "metadata": {},
   "outputs": [],
   "source": [
    "anomaly_6 = np.load('../../data/wadi/anomaly_np6.npy')"
   ]
  },
  {
   "cell_type": "code",
   "execution_count": 45,
   "metadata": {},
   "outputs": [
    {
     "data": {
      "text/plain": [
       "(96, 96)"
      ]
     },
     "execution_count": 45,
     "metadata": {},
     "output_type": "execute_result"
    }
   ],
   "source": [
    "cov_np = np.zeros((96,96))\n",
    "for i in range(96):\n",
    "    for j in range(96):\n",
    "        cov_np[i][j] = np.corrcoef(anomaly_6[:,i], anomaly_6[:,j])[0][1]\n",
    "cov_np.shape"
   ]
  },
  {
   "cell_type": "code",
   "execution_count": 50,
   "metadata": {},
   "outputs": [
    {
     "data": {
      "text/plain": [
       "<matplotlib.image.AxesImage at 0x7fb0a0d2bb50>"
      ]
     },
     "execution_count": 50,
     "metadata": {},
     "output_type": "execute_result"
    },
    {
     "data": {
      "image/png": "[encoded data removed]",
      "text/plain": [
       "<Figure size 1440x1440 with 3 Axes>"
      ]
     },
     "metadata": {
      "needs_background": "light"
     },
     "output_type": "display_data"
    }
   ],
   "source": [
    "plt.figure(figsize=(20,20))\n",
    "plt.subplot(2,2,1)\n",
    "plt.imshow(cov_np)\n",
    "plt.subplot(2,2,2)\n",
    "plt.imshow(cov)\n",
    "plt.subplot(2,2,3)\n",
    "plt.imshow(cov*cov_np)"
   ]
  },
  {
   "cell_type": "code",
   "execution_count": 51,
   "metadata": {},
   "outputs": [],
   "source": [
    "np.save(\"../../data/wadi/cov_np.npy\", cov_np)"
   ]
  },
  {
   "cell_type": "code",
   "execution_count": null,
   "metadata": {},
   "outputs": [],
   "source": []
  }
 ],
 "metadata": {
  "kernelspec": {
   "display_name": "Python 3",
   "language": "python",
   "name": "python3"
  },
  "language_info": {
   "codemirror_mode": {
    "name": "ipython",
    "version": 3
   },
   "file_extension": ".py",
   "mimetype": "text/x-python",
   "name": "python",
   "nbconvert_exporter": "python",
   "pygments_lexer": "ipython3",
   "version": "3.7.4"
  }
 },
 "nbformat": 4,
 "nbformat_minor": 2
}
