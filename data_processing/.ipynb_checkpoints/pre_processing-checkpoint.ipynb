{
 "cells": [
  {
   "cell_type": "code",
   "execution_count": 1,
   "metadata": {},
   "outputs": [],
   "source": [
    "import pandas as pd\n",
    "import os\n",
    "import numpy as np\n",
    "import matplotlib.pyplot as plt"
   ]
  },
  {
   "cell_type": "code",
   "execution_count": 2,
   "metadata": {},
   "outputs": [
    {
     "data": {
      "text/plain": [
       "['2019-11-19',\n",
       " 'anomaly_pc4.npy',\n",
       " 'normal_pc4.npy',\n",
       " 'table_WADI.pdf',\n",
       " 'WADI_14days.csv',\n",
       " 'WADI_attackdata.csv']"
      ]
     },
     "execution_count": 2,
     "metadata": {},
     "output_type": "execute_result"
    }
   ],
   "source": [
    "os.listdir('../../data/wadi')"
   ]
  },
  {
   "cell_type": "code",
   "execution_count": 3,
   "metadata": {},
   "outputs": [],
   "source": [
    "with open('../../data/wadi/WADI_14days.csv') as f:\n",
    "    s = f.readlines()"
   ]
  },
  {
   "cell_type": "code",
   "execution_count": 5,
   "metadata": {},
   "outputs": [],
   "source": [
    "with open('../../data/wadi/normal.csv', 'w') as f:\n",
    "    f.writelines(s[4:])"
   ]
  },
  {
   "cell_type": "code",
   "execution_count": 6,
   "metadata": {},
   "outputs": [],
   "source": [
    "normal_pd = pd.read_csv('../../data/wadi/normal.csv')"
   ]
  },
  {
   "cell_type": "code",
   "execution_count": 7,
   "metadata": {},
   "outputs": [
    {
     "data": {
      "text/html": [
       "<div>\n",
       "<style scoped>\n",
       "    .dataframe tbody tr th:only-of-type {\n",
       "        vertical-align: middle;\n",
       "    }\n",
       "\n",
       "    .dataframe tbody tr th {\n",
       "        vertical-align: top;\n",
       "    }\n",
       "\n",
       "    .dataframe thead th {\n",
       "        text-align: right;\n",
       "    }\n",
       "</style>\n",
       "<table border=\"1\" class=\"dataframe\">\n",
       "  <thead>\n",
       "    <tr style=\"text-align: right;\">\n",
       "      <th></th>\n",
       "      <th>Row</th>\n",
       "      <th>Date</th>\n",
       "      <th>Time</th>\n",
       "      <th>\\\\WIN-25J4RO10SBF\\LOG_DATA\\SUTD_WADI\\LOG_DATA\\1_AIT_001_PV</th>\n",
       "      <th>\\\\WIN-25J4RO10SBF\\LOG_DATA\\SUTD_WADI\\LOG_DATA\\1_AIT_002_PV</th>\n",
       "      <th>\\\\WIN-25J4RO10SBF\\LOG_DATA\\SUTD_WADI\\LOG_DATA\\1_AIT_003_PV</th>\n",
       "      <th>\\\\WIN-25J4RO10SBF\\LOG_DATA\\SUTD_WADI\\LOG_DATA\\1_AIT_004_PV</th>\n",
       "      <th>\\\\WIN-25J4RO10SBF\\LOG_DATA\\SUTD_WADI\\LOG_DATA\\1_AIT_005_PV</th>\n",
       "      <th>\\\\WIN-25J4RO10SBF\\LOG_DATA\\SUTD_WADI\\LOG_DATA\\1_FIT_001_PV</th>\n",
       "      <th>\\\\WIN-25J4RO10SBF\\LOG_DATA\\SUTD_WADI\\LOG_DATA\\1_LS_001_AL</th>\n",
       "      <th>...</th>\n",
       "      <th>\\\\WIN-25J4RO10SBF\\LOG_DATA\\SUTD_WADI\\LOG_DATA\\3_MV_001_STATUS</th>\n",
       "      <th>\\\\WIN-25J4RO10SBF\\LOG_DATA\\SUTD_WADI\\LOG_DATA\\3_MV_002_STATUS</th>\n",
       "      <th>\\\\WIN-25J4RO10SBF\\LOG_DATA\\SUTD_WADI\\LOG_DATA\\3_MV_003_STATUS</th>\n",
       "      <th>\\\\WIN-25J4RO10SBF\\LOG_DATA\\SUTD_WADI\\LOG_DATA\\3_P_001_STATUS</th>\n",
       "      <th>\\\\WIN-25J4RO10SBF\\LOG_DATA\\SUTD_WADI\\LOG_DATA\\3_P_002_STATUS</th>\n",
       "      <th>\\\\WIN-25J4RO10SBF\\LOG_DATA\\SUTD_WADI\\LOG_DATA\\3_P_003_STATUS</th>\n",
       "      <th>\\\\WIN-25J4RO10SBF\\LOG_DATA\\SUTD_WADI\\LOG_DATA\\3_P_004_STATUS</th>\n",
       "      <th>\\\\WIN-25J4RO10SBF\\LOG_DATA\\SUTD_WADI\\LOG_DATA\\LEAK_DIFF_PRESSURE</th>\n",
       "      <th>\\\\WIN-25J4RO10SBF\\LOG_DATA\\SUTD_WADI\\LOG_DATA\\PLANT_START_STOP_LOG</th>\n",
       "      <th>\\\\WIN-25J4RO10SBF\\LOG_DATA\\SUTD_WADI\\LOG_DATA\\TOTAL_CONS_REQUIRED_FLOW</th>\n",
       "    </tr>\n",
       "  </thead>\n",
       "  <tbody>\n",
       "    <tr>\n",
       "      <th>0</th>\n",
       "      <td>1</td>\n",
       "      <td>9/25/2017</td>\n",
       "      <td>6:00:00.000 PM</td>\n",
       "      <td>171.155</td>\n",
       "      <td>0.619473</td>\n",
       "      <td>11.5759</td>\n",
       "      <td>504.645</td>\n",
       "      <td>0.318319</td>\n",
       "      <td>0.001157</td>\n",
       "      <td>0</td>\n",
       "      <td>...</td>\n",
       "      <td>1</td>\n",
       "      <td>1</td>\n",
       "      <td>1</td>\n",
       "      <td>1</td>\n",
       "      <td>1</td>\n",
       "      <td>1</td>\n",
       "      <td>1</td>\n",
       "      <td>67.9651</td>\n",
       "      <td>1</td>\n",
       "      <td>0.68</td>\n",
       "    </tr>\n",
       "    <tr>\n",
       "      <th>1</th>\n",
       "      <td>2</td>\n",
       "      <td>9/25/2017</td>\n",
       "      <td>6:00:01.000 PM</td>\n",
       "      <td>171.155</td>\n",
       "      <td>0.619473</td>\n",
       "      <td>11.5759</td>\n",
       "      <td>504.645</td>\n",
       "      <td>0.318319</td>\n",
       "      <td>0.001157</td>\n",
       "      <td>0</td>\n",
       "      <td>...</td>\n",
       "      <td>1</td>\n",
       "      <td>1</td>\n",
       "      <td>1</td>\n",
       "      <td>1</td>\n",
       "      <td>1</td>\n",
       "      <td>1</td>\n",
       "      <td>1</td>\n",
       "      <td>67.9651</td>\n",
       "      <td>1</td>\n",
       "      <td>0.68</td>\n",
       "    </tr>\n",
       "    <tr>\n",
       "      <th>2</th>\n",
       "      <td>3</td>\n",
       "      <td>9/25/2017</td>\n",
       "      <td>6:00:02.000 PM</td>\n",
       "      <td>171.155</td>\n",
       "      <td>0.619473</td>\n",
       "      <td>11.5759</td>\n",
       "      <td>504.645</td>\n",
       "      <td>0.318319</td>\n",
       "      <td>0.001157</td>\n",
       "      <td>0</td>\n",
       "      <td>...</td>\n",
       "      <td>1</td>\n",
       "      <td>1</td>\n",
       "      <td>1</td>\n",
       "      <td>1</td>\n",
       "      <td>1</td>\n",
       "      <td>1</td>\n",
       "      <td>1</td>\n",
       "      <td>67.9651</td>\n",
       "      <td>1</td>\n",
       "      <td>0.68</td>\n",
       "    </tr>\n",
       "    <tr>\n",
       "      <th>3</th>\n",
       "      <td>4</td>\n",
       "      <td>9/25/2017</td>\n",
       "      <td>6:00:03.000 PM</td>\n",
       "      <td>171.155</td>\n",
       "      <td>0.607477</td>\n",
       "      <td>11.5725</td>\n",
       "      <td>504.673</td>\n",
       "      <td>0.318438</td>\n",
       "      <td>0.001207</td>\n",
       "      <td>0</td>\n",
       "      <td>...</td>\n",
       "      <td>1</td>\n",
       "      <td>1</td>\n",
       "      <td>1</td>\n",
       "      <td>1</td>\n",
       "      <td>1</td>\n",
       "      <td>1</td>\n",
       "      <td>1</td>\n",
       "      <td>67.1948</td>\n",
       "      <td>1</td>\n",
       "      <td>0.68</td>\n",
       "    </tr>\n",
       "    <tr>\n",
       "      <th>4</th>\n",
       "      <td>5</td>\n",
       "      <td>9/25/2017</td>\n",
       "      <td>6:00:04.000 PM</td>\n",
       "      <td>171.155</td>\n",
       "      <td>0.607477</td>\n",
       "      <td>11.5725</td>\n",
       "      <td>504.673</td>\n",
       "      <td>0.318438</td>\n",
       "      <td>0.001207</td>\n",
       "      <td>0</td>\n",
       "      <td>...</td>\n",
       "      <td>1</td>\n",
       "      <td>1</td>\n",
       "      <td>1</td>\n",
       "      <td>1</td>\n",
       "      <td>1</td>\n",
       "      <td>1</td>\n",
       "      <td>1</td>\n",
       "      <td>67.1948</td>\n",
       "      <td>1</td>\n",
       "      <td>0.68</td>\n",
       "    </tr>\n",
       "  </tbody>\n",
       "</table>\n",
       "<p>5 rows × 130 columns</p>\n",
       "</div>"
      ],
      "text/plain": [
       "   Row       Date            Time  \\\n",
       "0    1  9/25/2017  6:00:00.000 PM   \n",
       "1    2  9/25/2017  6:00:01.000 PM   \n",
       "2    3  9/25/2017  6:00:02.000 PM   \n",
       "3    4  9/25/2017  6:00:03.000 PM   \n",
       "4    5  9/25/2017  6:00:04.000 PM   \n",
       "\n",
       "   \\\\WIN-25J4RO10SBF\\LOG_DATA\\SUTD_WADI\\LOG_DATA\\1_AIT_001_PV  \\\n",
       "0                                            171.155            \n",
       "1                                            171.155            \n",
       "2                                            171.155            \n",
       "3                                            171.155            \n",
       "4                                            171.155            \n",
       "\n",
       "   \\\\WIN-25J4RO10SBF\\LOG_DATA\\SUTD_WADI\\LOG_DATA\\1_AIT_002_PV  \\\n",
       "0                                           0.619473            \n",
       "1                                           0.619473            \n",
       "2                                           0.619473            \n",
       "3                                           0.607477            \n",
       "4                                           0.607477            \n",
       "\n",
       "   \\\\WIN-25J4RO10SBF\\LOG_DATA\\SUTD_WADI\\LOG_DATA\\1_AIT_003_PV  \\\n",
       "0                                            11.5759            \n",
       "1                                            11.5759            \n",
       "2                                            11.5759            \n",
       "3                                            11.5725            \n",
       "4                                            11.5725            \n",
       "\n",
       "   \\\\WIN-25J4RO10SBF\\LOG_DATA\\SUTD_WADI\\LOG_DATA\\1_AIT_004_PV  \\\n",
       "0                                            504.645            \n",
       "1                                            504.645            \n",
       "2                                            504.645            \n",
       "3                                            504.673            \n",
       "4                                            504.673            \n",
       "\n",
       "   \\\\WIN-25J4RO10SBF\\LOG_DATA\\SUTD_WADI\\LOG_DATA\\1_AIT_005_PV  \\\n",
       "0                                           0.318319            \n",
       "1                                           0.318319            \n",
       "2                                           0.318319            \n",
       "3                                           0.318438            \n",
       "4                                           0.318438            \n",
       "\n",
       "   \\\\WIN-25J4RO10SBF\\LOG_DATA\\SUTD_WADI\\LOG_DATA\\1_FIT_001_PV  \\\n",
       "0                                           0.001157            \n",
       "1                                           0.001157            \n",
       "2                                           0.001157            \n",
       "3                                           0.001207            \n",
       "4                                           0.001207            \n",
       "\n",
       "   \\\\WIN-25J4RO10SBF\\LOG_DATA\\SUTD_WADI\\LOG_DATA\\1_LS_001_AL  ...  \\\n",
       "0                                                  0          ...   \n",
       "1                                                  0          ...   \n",
       "2                                                  0          ...   \n",
       "3                                                  0          ...   \n",
       "4                                                  0          ...   \n",
       "\n",
       "   \\\\WIN-25J4RO10SBF\\LOG_DATA\\SUTD_WADI\\LOG_DATA\\3_MV_001_STATUS  \\\n",
       "0                                                  1               \n",
       "1                                                  1               \n",
       "2                                                  1               \n",
       "3                                                  1               \n",
       "4                                                  1               \n",
       "\n",
       "   \\\\WIN-25J4RO10SBF\\LOG_DATA\\SUTD_WADI\\LOG_DATA\\3_MV_002_STATUS  \\\n",
       "0                                                  1               \n",
       "1                                                  1               \n",
       "2                                                  1               \n",
       "3                                                  1               \n",
       "4                                                  1               \n",
       "\n",
       "   \\\\WIN-25J4RO10SBF\\LOG_DATA\\SUTD_WADI\\LOG_DATA\\3_MV_003_STATUS  \\\n",
       "0                                                  1               \n",
       "1                                                  1               \n",
       "2                                                  1               \n",
       "3                                                  1               \n",
       "4                                                  1               \n",
       "\n",
       "   \\\\WIN-25J4RO10SBF\\LOG_DATA\\SUTD_WADI\\LOG_DATA\\3_P_001_STATUS  \\\n",
       "0                                                  1              \n",
       "1                                                  1              \n",
       "2                                                  1              \n",
       "3                                                  1              \n",
       "4                                                  1              \n",
       "\n",
       "   \\\\WIN-25J4RO10SBF\\LOG_DATA\\SUTD_WADI\\LOG_DATA\\3_P_002_STATUS  \\\n",
       "0                                                  1              \n",
       "1                                                  1              \n",
       "2                                                  1              \n",
       "3                                                  1              \n",
       "4                                                  1              \n",
       "\n",
       "   \\\\WIN-25J4RO10SBF\\LOG_DATA\\SUTD_WADI\\LOG_DATA\\3_P_003_STATUS  \\\n",
       "0                                                  1              \n",
       "1                                                  1              \n",
       "2                                                  1              \n",
       "3                                                  1              \n",
       "4                                                  1              \n",
       "\n",
       "   \\\\WIN-25J4RO10SBF\\LOG_DATA\\SUTD_WADI\\LOG_DATA\\3_P_004_STATUS  \\\n",
       "0                                                  1              \n",
       "1                                                  1              \n",
       "2                                                  1              \n",
       "3                                                  1              \n",
       "4                                                  1              \n",
       "\n",
       "   \\\\WIN-25J4RO10SBF\\LOG_DATA\\SUTD_WADI\\LOG_DATA\\LEAK_DIFF_PRESSURE  \\\n",
       "0                                            67.9651                  \n",
       "1                                            67.9651                  \n",
       "2                                            67.9651                  \n",
       "3                                            67.1948                  \n",
       "4                                            67.1948                  \n",
       "\n",
       "   \\\\WIN-25J4RO10SBF\\LOG_DATA\\SUTD_WADI\\LOG_DATA\\PLANT_START_STOP_LOG  \\\n",
       "0                                                  1                    \n",
       "1                                                  1                    \n",
       "2                                                  1                    \n",
       "3                                                  1                    \n",
       "4                                                  1                    \n",
       "\n",
       "   \\\\WIN-25J4RO10SBF\\LOG_DATA\\SUTD_WADI\\LOG_DATA\\TOTAL_CONS_REQUIRED_FLOW  \n",
       "0                                               0.68                       \n",
       "1                                               0.68                       \n",
       "2                                               0.68                       \n",
       "3                                               0.68                       \n",
       "4                                               0.68                       \n",
       "\n",
       "[5 rows x 130 columns]"
      ]
     },
     "execution_count": 7,
     "metadata": {},
     "output_type": "execute_result"
    }
   ],
   "source": [
    "normal_pd.head(5)"
   ]
  },
  {
   "cell_type": "code",
   "execution_count": 8,
   "metadata": {},
   "outputs": [],
   "source": [
    "with open('../../data/wadi/WADI_attackdata.csv') as f:\n",
    "    s = f.readlines()"
   ]
  },
  {
   "cell_type": "code",
   "execution_count": 10,
   "metadata": {},
   "outputs": [],
   "source": [
    "anomaly_pd = pd.read_csv('../../data/wadi/WADI_attackdata.csv')"
   ]
  },
  {
   "cell_type": "code",
   "execution_count": 11,
   "metadata": {},
   "outputs": [
    {
     "data": {
      "text/html": [
       "<div>\n",
       "<style scoped>\n",
       "    .dataframe tbody tr th:only-of-type {\n",
       "        vertical-align: middle;\n",
       "    }\n",
       "\n",
       "    .dataframe tbody tr th {\n",
       "        vertical-align: top;\n",
       "    }\n",
       "\n",
       "    .dataframe thead th {\n",
       "        text-align: right;\n",
       "    }\n",
       "</style>\n",
       "<table border=\"1\" class=\"dataframe\">\n",
       "  <thead>\n",
       "    <tr style=\"text-align: right;\">\n",
       "      <th></th>\n",
       "      <th>Row</th>\n",
       "      <th>Date</th>\n",
       "      <th>Time</th>\n",
       "      <th>\\\\WIN-25J4RO10SBF\\LOG_DATA\\SUTD_WADI\\LOG_DATA\\1_AIT_001_PV</th>\n",
       "      <th>\\\\WIN-25J4RO10SBF\\LOG_DATA\\SUTD_WADI\\LOG_DATA\\1_AIT_002_PV</th>\n",
       "      <th>\\\\WIN-25J4RO10SBF\\LOG_DATA\\SUTD_WADI\\LOG_DATA\\1_AIT_003_PV</th>\n",
       "      <th>\\\\WIN-25J4RO10SBF\\LOG_DATA\\SUTD_WADI\\LOG_DATA\\1_AIT_004_PV</th>\n",
       "      <th>\\\\WIN-25J4RO10SBF\\LOG_DATA\\SUTD_WADI\\LOG_DATA\\1_AIT_005_PV</th>\n",
       "      <th>\\\\WIN-25J4RO10SBF\\LOG_DATA\\SUTD_WADI\\LOG_DATA\\1_FIT_001_PV</th>\n",
       "      <th>\\\\WIN-25J4RO10SBF\\LOG_DATA\\SUTD_WADI\\LOG_DATA\\1_LS_001_AL</th>\n",
       "      <th>...</th>\n",
       "      <th>\\\\WIN-25J4RO10SBF\\LOG_DATA\\SUTD_WADI\\LOG_DATA\\3_MV_001_STATUS</th>\n",
       "      <th>\\\\WIN-25J4RO10SBF\\LOG_DATA\\SUTD_WADI\\LOG_DATA\\3_MV_002_STATUS</th>\n",
       "      <th>\\\\WIN-25J4RO10SBF\\LOG_DATA\\SUTD_WADI\\LOG_DATA\\3_MV_003_STATUS</th>\n",
       "      <th>\\\\WIN-25J4RO10SBF\\LOG_DATA\\SUTD_WADI\\LOG_DATA\\3_P_001_STATUS</th>\n",
       "      <th>\\\\WIN-25J4RO10SBF\\LOG_DATA\\SUTD_WADI\\LOG_DATA\\3_P_002_STATUS</th>\n",
       "      <th>\\\\WIN-25J4RO10SBF\\LOG_DATA\\SUTD_WADI\\LOG_DATA\\3_P_003_STATUS</th>\n",
       "      <th>\\\\WIN-25J4RO10SBF\\LOG_DATA\\SUTD_WADI\\LOG_DATA\\3_P_004_STATUS</th>\n",
       "      <th>\\\\WIN-25J4RO10SBF\\LOG_DATA\\SUTD_WADI\\LOG_DATA\\LEAK_DIFF_PRESSURE</th>\n",
       "      <th>\\\\WIN-25J4RO10SBF\\LOG_DATA\\SUTD_WADI\\LOG_DATA\\PLANT_START_STOP_LOG</th>\n",
       "      <th>\\\\WIN-25J4RO10SBF\\LOG_DATA\\SUTD_WADI\\LOG_DATA\\TOTAL_CONS_REQUIRED_FLOW</th>\n",
       "    </tr>\n",
       "  </thead>\n",
       "  <tbody>\n",
       "    <tr>\n",
       "      <th>0</th>\n",
       "      <td>1</td>\n",
       "      <td>10/9/2017</td>\n",
       "      <td>6:00:00.000 PM</td>\n",
       "      <td>164.21</td>\n",
       "      <td>0.529486</td>\n",
       "      <td>11.9972</td>\n",
       "      <td>482.48</td>\n",
       "      <td>0.331167</td>\n",
       "      <td>0.001273</td>\n",
       "      <td>0</td>\n",
       "      <td>...</td>\n",
       "      <td>1</td>\n",
       "      <td>1</td>\n",
       "      <td>1</td>\n",
       "      <td>1</td>\n",
       "      <td>1</td>\n",
       "      <td>1</td>\n",
       "      <td>1</td>\n",
       "      <td>62.6226</td>\n",
       "      <td>1</td>\n",
       "      <td>0.39</td>\n",
       "    </tr>\n",
       "    <tr>\n",
       "      <th>1</th>\n",
       "      <td>2</td>\n",
       "      <td>10/9/2017</td>\n",
       "      <td>6:00:01.000 PM</td>\n",
       "      <td>164.21</td>\n",
       "      <td>0.529486</td>\n",
       "      <td>11.9972</td>\n",
       "      <td>482.48</td>\n",
       "      <td>0.331167</td>\n",
       "      <td>0.001273</td>\n",
       "      <td>0</td>\n",
       "      <td>...</td>\n",
       "      <td>1</td>\n",
       "      <td>1</td>\n",
       "      <td>1</td>\n",
       "      <td>1</td>\n",
       "      <td>1</td>\n",
       "      <td>1</td>\n",
       "      <td>1</td>\n",
       "      <td>62.6226</td>\n",
       "      <td>1</td>\n",
       "      <td>0.39</td>\n",
       "    </tr>\n",
       "    <tr>\n",
       "      <th>2</th>\n",
       "      <td>3</td>\n",
       "      <td>10/9/2017</td>\n",
       "      <td>6:00:02.000 PM</td>\n",
       "      <td>164.21</td>\n",
       "      <td>0.529486</td>\n",
       "      <td>11.9972</td>\n",
       "      <td>482.48</td>\n",
       "      <td>0.331167</td>\n",
       "      <td>0.001273</td>\n",
       "      <td>0</td>\n",
       "      <td>...</td>\n",
       "      <td>1</td>\n",
       "      <td>1</td>\n",
       "      <td>1</td>\n",
       "      <td>1</td>\n",
       "      <td>1</td>\n",
       "      <td>1</td>\n",
       "      <td>1</td>\n",
       "      <td>62.6226</td>\n",
       "      <td>1</td>\n",
       "      <td>0.39</td>\n",
       "    </tr>\n",
       "    <tr>\n",
       "      <th>3</th>\n",
       "      <td>4</td>\n",
       "      <td>10/9/2017</td>\n",
       "      <td>6:00:03.000 PM</td>\n",
       "      <td>164.21</td>\n",
       "      <td>0.529486</td>\n",
       "      <td>11.9972</td>\n",
       "      <td>482.48</td>\n",
       "      <td>0.331167</td>\n",
       "      <td>0.001273</td>\n",
       "      <td>0</td>\n",
       "      <td>...</td>\n",
       "      <td>1</td>\n",
       "      <td>1</td>\n",
       "      <td>1</td>\n",
       "      <td>1</td>\n",
       "      <td>1</td>\n",
       "      <td>1</td>\n",
       "      <td>1</td>\n",
       "      <td>62.6226</td>\n",
       "      <td>1</td>\n",
       "      <td>0.39</td>\n",
       "    </tr>\n",
       "    <tr>\n",
       "      <th>4</th>\n",
       "      <td>5</td>\n",
       "      <td>10/9/2017</td>\n",
       "      <td>6:00:04.000 PM</td>\n",
       "      <td>164.21</td>\n",
       "      <td>0.529486</td>\n",
       "      <td>11.9972</td>\n",
       "      <td>482.48</td>\n",
       "      <td>0.331167</td>\n",
       "      <td>0.001273</td>\n",
       "      <td>0</td>\n",
       "      <td>...</td>\n",
       "      <td>1</td>\n",
       "      <td>1</td>\n",
       "      <td>1</td>\n",
       "      <td>1</td>\n",
       "      <td>1</td>\n",
       "      <td>1</td>\n",
       "      <td>1</td>\n",
       "      <td>62.6226</td>\n",
       "      <td>1</td>\n",
       "      <td>0.39</td>\n",
       "    </tr>\n",
       "  </tbody>\n",
       "</table>\n",
       "<p>5 rows × 130 columns</p>\n",
       "</div>"
      ],
      "text/plain": [
       "   Row       Date            Time  \\\n",
       "0    1  10/9/2017  6:00:00.000 PM   \n",
       "1    2  10/9/2017  6:00:01.000 PM   \n",
       "2    3  10/9/2017  6:00:02.000 PM   \n",
       "3    4  10/9/2017  6:00:03.000 PM   \n",
       "4    5  10/9/2017  6:00:04.000 PM   \n",
       "\n",
       "   \\\\WIN-25J4RO10SBF\\LOG_DATA\\SUTD_WADI\\LOG_DATA\\1_AIT_001_PV  \\\n",
       "0                                             164.21            \n",
       "1                                             164.21            \n",
       "2                                             164.21            \n",
       "3                                             164.21            \n",
       "4                                             164.21            \n",
       "\n",
       "   \\\\WIN-25J4RO10SBF\\LOG_DATA\\SUTD_WADI\\LOG_DATA\\1_AIT_002_PV  \\\n",
       "0                                           0.529486            \n",
       "1                                           0.529486            \n",
       "2                                           0.529486            \n",
       "3                                           0.529486            \n",
       "4                                           0.529486            \n",
       "\n",
       "   \\\\WIN-25J4RO10SBF\\LOG_DATA\\SUTD_WADI\\LOG_DATA\\1_AIT_003_PV  \\\n",
       "0                                            11.9972            \n",
       "1                                            11.9972            \n",
       "2                                            11.9972            \n",
       "3                                            11.9972            \n",
       "4                                            11.9972            \n",
       "\n",
       "   \\\\WIN-25J4RO10SBF\\LOG_DATA\\SUTD_WADI\\LOG_DATA\\1_AIT_004_PV  \\\n",
       "0                                             482.48            \n",
       "1                                             482.48            \n",
       "2                                             482.48            \n",
       "3                                             482.48            \n",
       "4                                             482.48            \n",
       "\n",
       "   \\\\WIN-25J4RO10SBF\\LOG_DATA\\SUTD_WADI\\LOG_DATA\\1_AIT_005_PV  \\\n",
       "0                                           0.331167            \n",
       "1                                           0.331167            \n",
       "2                                           0.331167            \n",
       "3                                           0.331167            \n",
       "4                                           0.331167            \n",
       "\n",
       "   \\\\WIN-25J4RO10SBF\\LOG_DATA\\SUTD_WADI\\LOG_DATA\\1_FIT_001_PV  \\\n",
       "0                                           0.001273            \n",
       "1                                           0.001273            \n",
       "2                                           0.001273            \n",
       "3                                           0.001273            \n",
       "4                                           0.001273            \n",
       "\n",
       "   \\\\WIN-25J4RO10SBF\\LOG_DATA\\SUTD_WADI\\LOG_DATA\\1_LS_001_AL  ...  \\\n",
       "0                                                  0          ...   \n",
       "1                                                  0          ...   \n",
       "2                                                  0          ...   \n",
       "3                                                  0          ...   \n",
       "4                                                  0          ...   \n",
       "\n",
       "   \\\\WIN-25J4RO10SBF\\LOG_DATA\\SUTD_WADI\\LOG_DATA\\3_MV_001_STATUS  \\\n",
       "0                                                  1               \n",
       "1                                                  1               \n",
       "2                                                  1               \n",
       "3                                                  1               \n",
       "4                                                  1               \n",
       "\n",
       "   \\\\WIN-25J4RO10SBF\\LOG_DATA\\SUTD_WADI\\LOG_DATA\\3_MV_002_STATUS  \\\n",
       "0                                                  1               \n",
       "1                                                  1               \n",
       "2                                                  1               \n",
       "3                                                  1               \n",
       "4                                                  1               \n",
       "\n",
       "   \\\\WIN-25J4RO10SBF\\LOG_DATA\\SUTD_WADI\\LOG_DATA\\3_MV_003_STATUS  \\\n",
       "0                                                  1               \n",
       "1                                                  1               \n",
       "2                                                  1               \n",
       "3                                                  1               \n",
       "4                                                  1               \n",
       "\n",
       "   \\\\WIN-25J4RO10SBF\\LOG_DATA\\SUTD_WADI\\LOG_DATA\\3_P_001_STATUS  \\\n",
       "0                                                  1              \n",
       "1                                                  1              \n",
       "2                                                  1              \n",
       "3                                                  1              \n",
       "4                                                  1              \n",
       "\n",
       "   \\\\WIN-25J4RO10SBF\\LOG_DATA\\SUTD_WADI\\LOG_DATA\\3_P_002_STATUS  \\\n",
       "0                                                  1              \n",
       "1                                                  1              \n",
       "2                                                  1              \n",
       "3                                                  1              \n",
       "4                                                  1              \n",
       "\n",
       "   \\\\WIN-25J4RO10SBF\\LOG_DATA\\SUTD_WADI\\LOG_DATA\\3_P_003_STATUS  \\\n",
       "0                                                  1              \n",
       "1                                                  1              \n",
       "2                                                  1              \n",
       "3                                                  1              \n",
       "4                                                  1              \n",
       "\n",
       "   \\\\WIN-25J4RO10SBF\\LOG_DATA\\SUTD_WADI\\LOG_DATA\\3_P_004_STATUS  \\\n",
       "0                                                  1              \n",
       "1                                                  1              \n",
       "2                                                  1              \n",
       "3                                                  1              \n",
       "4                                                  1              \n",
       "\n",
       "   \\\\WIN-25J4RO10SBF\\LOG_DATA\\SUTD_WADI\\LOG_DATA\\LEAK_DIFF_PRESSURE  \\\n",
       "0                                            62.6226                  \n",
       "1                                            62.6226                  \n",
       "2                                            62.6226                  \n",
       "3                                            62.6226                  \n",
       "4                                            62.6226                  \n",
       "\n",
       "   \\\\WIN-25J4RO10SBF\\LOG_DATA\\SUTD_WADI\\LOG_DATA\\PLANT_START_STOP_LOG  \\\n",
       "0                                                  1                    \n",
       "1                                                  1                    \n",
       "2                                                  1                    \n",
       "3                                                  1                    \n",
       "4                                                  1                    \n",
       "\n",
       "   \\\\WIN-25J4RO10SBF\\LOG_DATA\\SUTD_WADI\\LOG_DATA\\TOTAL_CONS_REQUIRED_FLOW  \n",
       "0                                               0.39                       \n",
       "1                                               0.39                       \n",
       "2                                               0.39                       \n",
       "3                                               0.39                       \n",
       "4                                               0.39                       \n",
       "\n",
       "[5 rows x 130 columns]"
      ]
     },
     "execution_count": 11,
     "metadata": {},
     "output_type": "execute_result"
    }
   ],
   "source": [
    "anomaly_pd.head(5)"
   ]
  },
  {
   "cell_type": "code",
   "execution_count": 13,
   "metadata": {},
   "outputs": [],
   "source": [
    "anomaly_level = np.load('../../data/wadi/anomaly_pc4.npy')[:, -1]"
   ]
  },
  {
   "cell_type": "code",
   "execution_count": 14,
   "metadata": {},
   "outputs": [],
   "source": [
    "np.save('../../data/wadi/anomaly_level.npy', anomaly_level)"
   ]
  },
  {
   "cell_type": "code",
   "execution_count": 15,
   "metadata": {},
   "outputs": [],
   "source": [
    "normal_np = normal_pd.iloc[6*3600:,3:].to_numpy()"
   ]
  },
  {
   "cell_type": "code",
   "execution_count": 16,
   "metadata": {},
   "outputs": [],
   "source": [
    "anomaly_np = anomaly_pd.iloc[:,3:].to_numpy()"
   ]
  },
  {
   "cell_type": "code",
   "execution_count": 17,
   "metadata": {},
   "outputs": [],
   "source": [
    "# remove nan"
   ]
  },
  {
   "cell_type": "code",
   "execution_count": 19,
   "metadata": {},
   "outputs": [],
   "source": [
    "normal_nan = [np.mean(np.isnan(normal_np[:,i])) for i in range(normal_np.shape[1])]"
   ]
  },
  {
   "cell_type": "code",
   "execution_count": 20,
   "metadata": {},
   "outputs": [],
   "source": [
    "anomaly_nan = [np.mean(np.isnan(anomaly_np[:,i])) for i in range(anomaly_np.shape[1])]"
   ]
  },
  {
   "cell_type": "code",
   "execution_count": 21,
   "metadata": {},
   "outputs": [
    {
     "name": "stdout",
     "output_type": "stream",
     "text": [
      "[1, 3, 47, 48, 83, 84, 108, 110, 112]\n"
     ]
    }
   ],
   "source": [
    "print([i for i in range(len(normal_nan)) if normal_nan[i]>0])"
   ]
  },
  {
   "cell_type": "code",
   "execution_count": 22,
   "metadata": {},
   "outputs": [
    {
     "name": "stdout",
     "output_type": "stream",
     "text": [
      "[47, 48, 83, 84]\n"
     ]
    }
   ],
   "source": [
    "print([i for i in range(len(anomaly_nan)) if anomaly_nan[i]>0])"
   ]
  },
  {
   "cell_type": "code",
   "execution_count": 23,
   "metadata": {},
   "outputs": [
    {
     "name": "stdout",
     "output_type": "stream",
     "text": [
      "[1.0101001598483504e-05, 5.050500799241752e-06, 1.0, 1.0, 1.0, 1.0, 1.683500266413917e-05, 5.050500799241752e-06, 5.050500799241752e-06]\n"
     ]
    }
   ],
   "source": [
    "print([normal_nan[i] for i in range(len(normal_nan)) if normal_nan[i]>0])"
   ]
  },
  {
   "cell_type": "code",
   "execution_count": 24,
   "metadata": {},
   "outputs": [],
   "source": [
    "normal_all_nan_idx = [i for i in range(len(normal_nan)) if normal_nan[i]==1]"
   ]
  },
  {
   "cell_type": "code",
   "execution_count": 37,
   "metadata": {},
   "outputs": [],
   "source": [
    "keep_index1 = np.array([i for i in range(normal_np.shape[1]) if i not in normal_all_nan_idx])\n",
    "keep_index1_bool = np.array([i in keep_index1 for i in range(normal_np.shape[1])])"
   ]
  },
  {
   "cell_type": "code",
   "execution_count": 38,
   "metadata": {},
   "outputs": [],
   "source": [
    "# interpolation for features missing only a few values\n",
    "normal_np_interp = normal_np.copy()\n",
    "\n",
    "for i in range(normal_np.shape[1]):\n",
    "    if normal_nan[i]>0 and normal_nan[i]<1:\n",
    "        xp = np.array([j for j in range(normal_np.shape[0]) if not np.isnan(normal_np[j][i])])\n",
    "        fp = normal_np[:,i][xp]\n",
    "        normal_np_interp[:,i] = np.interp(np.arange(normal_np.shape[0]), xp, fp)"
   ]
  },
  {
   "cell_type": "code",
   "execution_count": 39,
   "metadata": {},
   "outputs": [],
   "source": [
    "# remove all constant"
   ]
  },
  {
   "cell_type": "code",
   "execution_count": 40,
   "metadata": {},
   "outputs": [],
   "source": [
    "normal_max = np.max(normal_np_interp, axis=0)"
   ]
  },
  {
   "cell_type": "code",
   "execution_count": 41,
   "metadata": {},
   "outputs": [],
   "source": [
    "normal_min = np.min(normal_np_interp, axis=0)"
   ]
  },
  {
   "cell_type": "code",
   "execution_count": 42,
   "metadata": {},
   "outputs": [],
   "source": [
    "anomaly_max = np.max(anomaly_np, axis=0)\n",
    "anomaly_min = np.min(anomaly_np, axis=0)"
   ]
  },
  {
   "cell_type": "code",
   "execution_count": 43,
   "metadata": {},
   "outputs": [],
   "source": [
    "normal_constant = normal_max == normal_min\n",
    "anomaly_constant = anomaly_max == anomaly_min"
   ]
  },
  {
   "cell_type": "code",
   "execution_count": 44,
   "metadata": {},
   "outputs": [],
   "source": [
    "all_constant = np.logical_and(normal_constant, anomaly_constant)"
   ]
  },
  {
   "cell_type": "code",
   "execution_count": 45,
   "metadata": {},
   "outputs": [
    {
     "name": "stdout",
     "output_type": "stream",
     "text": [
      "[6, 7, 14, 16, 70, 71, 73, 74, 76, 88, 95, 96, 97, 98, 99, 100, 115, 117, 118, 119, 120, 121, 122, 123, 125]\n"
     ]
    }
   ],
   "source": [
    "print([i for i in range(all_constant.shape[0]) if all_constant[i]])"
   ]
  },
  {
   "cell_type": "code",
   "execution_count": 48,
   "metadata": {},
   "outputs": [],
   "source": [
    "keep_index2 = np.logical_and(keep_index1_bool, np.logical_not(all_constant))"
   ]
  },
  {
   "cell_type": "code",
   "execution_count": 53,
   "metadata": {},
   "outputs": [
    {
     "data": {
      "text/plain": [
       "(98, 'out of', 127)"
      ]
     },
     "execution_count": 53,
     "metadata": {},
     "output_type": "execute_result"
    }
   ],
   "source": [
    "keep_index2.sum(), 'out of', keep_index2.shape[0]"
   ]
  },
  {
   "cell_type": "code",
   "execution_count": 54,
   "metadata": {},
   "outputs": [],
   "source": [
    "# normalization: \n",
    "normal_normed = normal_np_interp.copy()\n",
    "anomaly_normed = anomaly_np.copy()"
   ]
  },
  {
   "cell_type": "code",
   "execution_count": 55,
   "metadata": {},
   "outputs": [],
   "source": [
    "for i in range(normal_normed.shape[1]):\n",
    "    if not keep_index2[i]:\n",
    "        continue\n",
    "    if normal_constant[i]:\n",
    "        if np.max(np.abs(normal_normed[:,i]))>1e-8:\n",
    "            normal_normed[:,i] /= normal_max[i]\n",
    "            anomaly_normed[:,i] /= normal_max[i]\n",
    "        else:\n",
    "            pass\n",
    "    else:\n",
    "        normal_normed[:,i] = (normal_normed[:,i]-normal_min[i])/(normal_max[i]-normal_min[i])\n",
    "        anomaly_normed[:,i] = (anomaly_normed[:,i]-normal_min[i])/(normal_max[i]-normal_min[i])"
   ]
  },
  {
   "cell_type": "code",
   "execution_count": 57,
   "metadata": {},
   "outputs": [
    {
     "name": "stdout",
     "output_type": "stream",
     "text": [
      "feature  63  max: 100.0  min: 0.0\n",
      "feature  106  max: 268.2946142687678  min: 0.004238467054154662\n"
     ]
    }
   ],
   "source": [
    "# check anomaly data\n",
    "for i in range(anomaly_normed.shape[1]):\n",
    "    if not keep_index2[i]:\n",
    "        continue\n",
    "    if anomaly_normed[:,i].max()>10 or anomaly_normed[:,i].min()<-5:\n",
    "        print('feature ',i,' max:', anomaly_normed[:,i].max(), ' min:', anomaly_normed[:,i].min())"
   ]
  },
  {
   "cell_type": "code",
   "execution_count": 58,
   "metadata": {},
   "outputs": [
    {
     "data": {
      "text/plain": [
       "[<matplotlib.lines.Line2D at 0x236e2e26408>]"
      ]
     },
     "execution_count": 58,
     "metadata": {},
     "output_type": "execute_result"
    },
    {
     "data": {
      "image/png": "[encoded data removed]",
      "text/plain": [
       "<Figure size 432x288 with 1 Axes>"
      ]
     },
     "metadata": {
      "needs_background": "light"
     },
     "output_type": "display_data"
    }
   ],
   "source": [
    "plt.plot(anomaly_normed[:,63])"
   ]
  },
  {
   "cell_type": "code",
   "execution_count": 59,
   "metadata": {},
   "outputs": [
    {
     "data": {
      "text/plain": [
       "[<matplotlib.lines.Line2D at 0x2369a1b6a08>]"
      ]
     },
     "execution_count": 59,
     "metadata": {},
     "output_type": "execute_result"
    },
    {
     "data": {
      "image/png": "[encoded data removed]",
      "text/plain": [
       "<Figure size 432x288 with 1 Axes>"
      ]
     },
     "metadata": {
      "needs_background": "light"
     },
     "output_type": "display_data"
    }
   ],
   "source": [
    "plt.plot(anomaly_normed[:,106])"
   ]
  },
  {
   "cell_type": "code",
   "execution_count": 60,
   "metadata": {},
   "outputs": [],
   "source": [
    "keep_index3 = keep_index2.copy()"
   ]
  },
  {
   "cell_type": "code",
   "execution_count": 61,
   "metadata": {},
   "outputs": [],
   "source": [
    "keep_index3[63] = keep_index3[106] = False"
   ]
  },
  {
   "cell_type": "code",
   "execution_count": 63,
   "metadata": {},
   "outputs": [],
   "source": [
    "final_normal = normal_normed[:,keep_index3]\n",
    "final_anomaly = anomaly_normed[:,keep_index3]"
   ]
  },
  {
   "cell_type": "code",
   "execution_count": 64,
   "metadata": {},
   "outputs": [],
   "source": [
    "np.save('../../data/wadi/normal_valid.npy', final_normal)\n",
    "np.save('../../data/wadi/anomaly_valid.npy', final_anomaly)"
   ]
  },
  {
   "cell_type": "code",
   "execution_count": 65,
   "metadata": {},
   "outputs": [],
   "source": [
    "np.save('../../data/wadi/valid_idx.npy', keep_index3)"
   ]
  },
  {
   "cell_type": "code",
   "execution_count": null,
   "metadata": {},
   "outputs": [],
   "source": []
  }
 ],
 "metadata": {
  "kernelspec": {
   "display_name": "Python 3",
   "language": "python",
   "name": "python3"
  },
  "language_info": {
   "codemirror_mode": {
    "name": "ipython",
    "version": 3
   },
   "file_extension": ".py",
   "mimetype": "text/x-python",
   "name": "python",
   "nbconvert_exporter": "python",
   "pygments_lexer": "ipython3",
   "version": "3.7.5"
  }
 },
 "nbformat": 4,
 "nbformat_minor": 2
}
