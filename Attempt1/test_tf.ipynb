{
 "cells": [
  {
   "cell_type": "code",
   "execution_count": 1,
   "metadata": {},
   "outputs": [
    {
     "name": "stderr",
     "output_type": "stream",
     "text": [
      "d:\\install\\anaconda3\\envs\\anomaly\\lib\\site-packages\\tensorflow\\python\\framework\\dtypes.py:526: FutureWarning: Passing (type, 1) or '1type' as a synonym of type is deprecated; in a future version of numpy, it will be understood as (type, (1,)) / '(1,)type'.\n",
      "  _np_qint8 = np.dtype([(\"qint8\", np.int8, 1)])\n",
      "d:\\install\\anaconda3\\envs\\anomaly\\lib\\site-packages\\tensorflow\\python\\framework\\dtypes.py:527: FutureWarning: Passing (type, 1) or '1type' as a synonym of type is deprecated; in a future version of numpy, it will be understood as (type, (1,)) / '(1,)type'.\n",
      "  _np_quint8 = np.dtype([(\"quint8\", np.uint8, 1)])\n",
      "d:\\install\\anaconda3\\envs\\anomaly\\lib\\site-packages\\tensorflow\\python\\framework\\dtypes.py:528: FutureWarning: Passing (type, 1) or '1type' as a synonym of type is deprecated; in a future version of numpy, it will be understood as (type, (1,)) / '(1,)type'.\n",
      "  _np_qint16 = np.dtype([(\"qint16\", np.int16, 1)])\n",
      "d:\\install\\anaconda3\\envs\\anomaly\\lib\\site-packages\\tensorflow\\python\\framework\\dtypes.py:529: FutureWarning: Passing (type, 1) or '1type' as a synonym of type is deprecated; in a future version of numpy, it will be understood as (type, (1,)) / '(1,)type'.\n",
      "  _np_quint16 = np.dtype([(\"quint16\", np.uint16, 1)])\n",
      "d:\\install\\anaconda3\\envs\\anomaly\\lib\\site-packages\\tensorflow\\python\\framework\\dtypes.py:530: FutureWarning: Passing (type, 1) or '1type' as a synonym of type is deprecated; in a future version of numpy, it will be understood as (type, (1,)) / '(1,)type'.\n",
      "  _np_qint32 = np.dtype([(\"qint32\", np.int32, 1)])\n",
      "d:\\install\\anaconda3\\envs\\anomaly\\lib\\site-packages\\tensorflow\\python\\framework\\dtypes.py:535: FutureWarning: Passing (type, 1) or '1type' as a synonym of type is deprecated; in a future version of numpy, it will be understood as (type, (1,)) / '(1,)type'.\n",
      "  np_resource = np.dtype([(\"resource\", np.ubyte, 1)])\n"
     ]
    },
    {
     "name": "stdout",
     "output_type": "stream",
     "text": [
      "WARNING:tensorflow:From d:\\install\\anaconda3\\envs\\anomaly\\lib\\site-packages\\tensorflow\\python\\ops\\resource_variable_ops.py:435: colocate_with (from tensorflow.python.framework.ops) is deprecated and will be removed in a future version.\n",
      "Instructions for updating:\n",
      "Colocations handled automatically by placer.\n",
      "WARNING:tensorflow:From d:\\install\\anaconda3\\envs\\anomaly\\lib\\site-packages\\tensorflow\\python\\keras\\layers\\core.py:143: calling dropout (from tensorflow.python.ops.nn_ops) with keep_prob is deprecated and will be removed in a future version.\n",
      "Instructions for updating:\n",
      "Please use `rate` instead of `keep_prob`. Rate should be set to `rate = 1 - keep_prob`.\n",
      "Epoch 1/5\n",
      "60000/60000 [==============================] - 23s 376us/sample - loss: 0.2190 - acc: 0.9339\n",
      "Epoch 2/5\n",
      "60000/60000 [==============================] - 22s 368us/sample - loss: 0.0955 - acc: 0.9711\n",
      "Epoch 3/5\n",
      "60000/60000 [==============================] - 22s 362us/sample - loss: 0.0682 - acc: 0.9785\n",
      "Epoch 4/5\n",
      "60000/60000 [==============================] - 22s 369us/sample - loss: 0.0542 - acc: 0.9829\n",
      "Epoch 5/5\n",
      "60000/60000 [==============================] - 22s 367us/sample - loss: 0.0454 - acc: 0.9850\n",
      "10000/10000 [==============================] - 1s 70us/sample - loss: 0.0658 - acc: 0.9803\n"
     ]
    },
    {
     "data": {
      "text/plain": [
       "[0.06581787544726395, 0.9803]"
      ]
     },
     "execution_count": 1,
     "metadata": {},
     "output_type": "execute_result"
    }
   ],
   "source": [
    "import tensorflow as tf\n",
    "from sklearn.metrics import mean_squared_error"
   ]
  },
  {
   "cell_type": "code",
   "execution_count": null,
   "metadata": {},
   "outputs": [],
   "source": [
    "mnist = tf.keras.datasets.mnist\n",
    "\n",
    "(x_train, y_train),(x_test, y_test) = mnist.load_data()\n",
    "x_train, x_test = x_train / 255.0, x_test / 255.0\n",
    "\n",
    "model = tf.keras.models.Sequential([\n",
    "  tf.keras.layers.Flatten(input_shape=(28, 28)),\n",
    "  tf.keras.layers.Dense(512, activation=tf.nn.relu),\n",
    "  tf.keras.layers.Dropout(0.2),\n",
    "  tf.keras.layers.Dense(10, activation=tf.nn.softmax)\n",
    "])\n",
    "model.compile(optimizer='adam',\n",
    "              loss='sparse_categorical_crossentropy',\n",
    "              metrics=['accuracy'])\n",
    "\n",
    "model.fit(x_train, y_train, epochs=5)\n",
    "model.evaluate(x_test, y_test)"
   ]
  },
  {
   "cell_type": "code",
   "execution_count": 5,
   "metadata": {},
   "outputs": [],
   "source": [
    "import numpy as np"
   ]
  },
  {
   "cell_type": "code",
   "execution_count": 81,
   "metadata": {},
   "outputs": [],
   "source": [
    "train_size = 2000\n",
    "test_size = 16\n",
    "random_range=0.01"
   ]
  },
  {
   "cell_type": "code",
   "execution_count": 82,
   "metadata": {},
   "outputs": [],
   "source": [
    "train_index = np.floor(np.random.random(train_size)*16)\n",
    "test_index = np.array([i for i in range(16)])"
   ]
  },
  {
   "cell_type": "code",
   "execution_count": 83,
   "metadata": {},
   "outputs": [],
   "source": [
    "train_x = np.zeros((train_size, 1,16), dtype=\"double\")\n",
    "test_x = np.zeros((test_size,1,16), dtype=\"double\")"
   ]
  },
  {
   "cell_type": "code",
   "execution_count": 84,
   "metadata": {},
   "outputs": [
    {
     "data": {
      "text/plain": [
       "13.0"
      ]
     },
     "execution_count": 84,
     "metadata": {},
     "output_type": "execute_result"
    }
   ],
   "source": [
    "train_index[0]"
   ]
  },
  {
   "cell_type": "code",
   "execution_count": 85,
   "metadata": {},
   "outputs": [],
   "source": [
    "for i in range(train_size):\n",
    "    train_x[i][0] = [1-np.random.random()*random_range if (train_index[i]==j) else np.random.random()*random_range for j in range(16)]\n",
    "train_y = train_x.copy()[:,0,:]\n",
    "for i in range(test_size):\n",
    "    test_x[i][0]=[1 if (test_index[i]==j) else 0 for j in range(16)]\n",
    "test_y = test_x.copy()[:,0,:]"
   ]
  },
  {
   "cell_type": "code",
   "execution_count": null,
   "metadata": {},
   "outputs": [],
   "source": []
  },
  {
   "cell_type": "code",
   "execution_count": 92,
   "metadata": {},
   "outputs": [
    {
     "name": "stdout",
     "output_type": "stream",
     "text": [
      "Epoch 1/10\n",
      "2000/2000 [==============================] - 1s 406us/sample - loss: 0.0574 - mean_squared_error: 0.0574\n",
      "Epoch 2/10\n",
      "2000/2000 [==============================] - 0s 168us/sample - loss: 0.0571 - mean_squared_error: 0.0571\n",
      "Epoch 3/10\n",
      "2000/2000 [==============================] - 0s 131us/sample - loss: 0.0566 - mean_squared_error: 0.0566\n",
      "Epoch 4/10\n",
      "2000/2000 [==============================] - 0s 124us/sample - loss: 0.0556 - mean_squared_error: 0.0556\n",
      "Epoch 5/10\n",
      "2000/2000 [==============================] - 0s 122us/sample - loss: 0.0544 - mean_squared_error: 0.0544\n",
      "Epoch 6/10\n",
      "2000/2000 [==============================] - 0s 121us/sample - loss: 0.0533 - mean_squared_error: 0.0533\n",
      "Epoch 7/10\n",
      "2000/2000 [==============================] - 0s 127us/sample - loss: 0.0522 - mean_squared_error: 0.0522\n",
      "Epoch 8/10\n",
      "2000/2000 [==============================] - 0s 124us/sample - loss: 0.0508 - mean_squared_error: 0.0508\n",
      "Epoch 9/10\n",
      "2000/2000 [==============================] - 0s 112us/sample - loss: 0.0488 - mean_squared_error: 0.0488\n",
      "Epoch 10/10\n",
      "2000/2000 [==============================] - 0s 124us/sample - loss: 0.0466 - mean_squared_error: 0.0466\n",
      "16/16 [==============================] - 0s 15ms/sample - loss: 0.0473 - mean_squared_error: 0.0473\n"
     ]
    },
    {
     "data": {
      "text/plain": [
       "[0.047314561903476715, 0.047314562]"
      ]
     },
     "execution_count": 92,
     "metadata": {},
     "output_type": "execute_result"
    }
   ],
   "source": [
    "model2 = tf.keras.models.Sequential([\n",
    "        tf.keras.layers.Flatten(input_shape=(1,16)),\n",
    "    tf.keras.layers.Dense(8, activation=tf.nn.relu), \n",
    "    tf.keras.layers.Dense(4, activation=tf.nn.softmax), \n",
    "    tf.keras.layers.Dense(8, activation=tf.nn.relu),\n",
    "    tf.keras.layers.Dense(16, activation=tf.nn.softmax)\n",
    "])\n",
    "model2.compile(optimizer=\"adam\",\n",
    "              loss=tf.keras.losses.mean_squared_error,\n",
    "               metrics=[\"mse\"])\n",
    "model2.fit(train_x, train_y, epochs=10)\n",
    "model2.evaluate(test_x, test_y)"
   ]
  },
  {
   "cell_type": "code",
   "execution_count": 93,
   "metadata": {},
   "outputs": [
    {
     "name": "stdout",
     "output_type": "stream",
     "text": [
      "Epoch 1/10\n",
      "2000/2000 [==============================] - 1s 397us/sample - loss: 0.0277 - mean_squared_error: 0.0574\n",
      "Epoch 2/10\n",
      "2000/2000 [==============================] - 0s 114us/sample - loss: 0.0275 - mean_squared_error: 0.0572\n",
      "Epoch 3/10\n",
      "2000/2000 [==============================] - 0s 117us/sample - loss: 0.0273 - mean_squared_error: 0.0568\n",
      "Epoch 4/10\n",
      "2000/2000 [==============================] - 0s 116us/sample - loss: 0.0268 - mean_squared_error: 0.0561\n",
      "Epoch 5/10\n",
      "2000/2000 [==============================] - 0s 124us/sample - loss: 0.0262 - mean_squared_error: 0.0550\n",
      "Epoch 6/10\n",
      "2000/2000 [==============================] - 0s 118us/sample - loss: 0.0253 - mean_squared_error: 0.0534\n",
      "Epoch 7/10\n",
      "2000/2000 [==============================] - 0s 115us/sample - loss: 0.0243 - mean_squared_error: 0.0516\n",
      "Epoch 8/10\n",
      "2000/2000 [==============================] - 0s 116us/sample - loss: 0.0233 - mean_squared_error: 0.0497\n",
      "Epoch 9/10\n",
      "2000/2000 [==============================] - 0s 115us/sample - loss: 0.0223 - mean_squared_error: 0.0479\n",
      "Epoch 10/10\n",
      "2000/2000 [==============================] - 0s 118us/sample - loss: 0.0214 - mean_squared_error: 0.0461\n",
      "16/16 [==============================] - 0s 19ms/sample - loss: 0.0215 - mean_squared_error: 0.0460\n"
     ]
    },
    {
     "data": {
      "text/plain": [
       "[0.021535422652959824, 0.04603652]"
      ]
     },
     "execution_count": 93,
     "metadata": {},
     "output_type": "execute_result"
    }
   ],
   "source": [
    "model2 = tf.keras.models.Sequential([\n",
    "        tf.keras.layers.Flatten(input_shape=(1,16)),\n",
    "    tf.keras.layers.Dense(8, activation=tf.nn.relu), \n",
    "    tf.keras.layers.Dense(4, activation=tf.nn.softmax), \n",
    "    tf.keras.layers.Dense(8, activation=tf.nn.relu),\n",
    "    tf.keras.layers.Dense(16, activation=tf.nn.softmax)\n",
    "])\n",
    "model2.compile(optimizer=\"adam\",\n",
    "              loss=tf.keras.losses.mean_squared_logarithmic_error,\n",
    "               metrics=[\"mse\"])\n",
    "model2.fit(train_x, train_y, epochs=10)\n",
    "model2.evaluate(test_x, test_y)"
   ]
  },
  {
   "cell_type": "code",
   "execution_count": 95,
   "metadata": {},
   "outputs": [
    {
     "name": "stdout",
     "output_type": "stream",
     "text": [
      "Epoch 1/10\n",
      "2000/2000 [==============================] - 0s 195us/sample - loss: 0.0273 - mean_squared_error: 0.0569\n",
      "Epoch 2/10\n",
      "2000/2000 [==============================] - 0s 52us/sample - loss: 0.0265 - mean_squared_error: 0.0555\n",
      "Epoch 3/10\n",
      "2000/2000 [==============================] - 0s 50us/sample - loss: 0.0250 - mean_squared_error: 0.0528\n",
      "Epoch 4/10\n",
      "2000/2000 [==============================] - 0s 53us/sample - loss: 0.0225 - mean_squared_error: 0.0480\n",
      "Epoch 5/10\n",
      "2000/2000 [==============================] - 0s 50us/sample - loss: 0.0190 - mean_squared_error: 0.0409\n",
      "Epoch 6/10\n",
      "2000/2000 [==============================] - 0s 51us/sample - loss: 0.0156 - mean_squared_error: 0.0340\n",
      "Epoch 7/10\n",
      "2000/2000 [==============================] - 0s 51us/sample - loss: 0.0119 - mean_squared_error: 0.0263\n",
      "Epoch 8/10\n",
      "2000/2000 [==============================] - 0s 54us/sample - loss: 0.0077 - mean_squared_error: 0.0174\n",
      "Epoch 9/10\n",
      "2000/2000 [==============================] - 0s 61us/sample - loss: 0.0044 - mean_squared_error: 0.0102\n",
      "Epoch 10/10\n",
      "2000/2000 [==============================] - 0s 69us/sample - loss: 0.0025 - mean_squared_error: 0.0059\n",
      "16/16 [==============================] - 0s 9ms/sample - loss: 0.0021 - mean_squared_error: 0.0048\n"
     ]
    },
    {
     "data": {
      "text/plain": [
       "[0.0020742162596434355, 0.004771333]"
      ]
     },
     "execution_count": 95,
     "metadata": {},
     "output_type": "execute_result"
    }
   ],
   "source": [
    "model2 = tf.keras.models.Sequential([\n",
    "        tf.keras.layers.Flatten(input_shape=(1,16)),\n",
    "    tf.keras.layers.Dense(8, activation=tf.nn.relu), \n",
    "    tf.keras.layers.Dense(4, activation=tf.nn.relu), \n",
    "    tf.keras.layers.Dense(8, activation=tf.nn.relu),\n",
    "    tf.keras.layers.Dense(16, activation=tf.nn.softmax)\n",
    "])\n",
    "model2.compile(optimizer=\"adam\",\n",
    "              loss=tf.keras.losses.mean_squared_logarithmic_error,\n",
    "               metrics=[\"mse\"])\n",
    "model2.fit(train_x, train_y, epochs=10)\n",
    "model2.evaluate(test_x, test_y)"
   ]
  },
  {
   "cell_type": "code",
   "execution_count": 97,
   "metadata": {},
   "outputs": [
    {
     "name": "stdout",
     "output_type": "stream",
     "text": [
      "Epoch 1/10\n",
      "2000/2000 [==============================] - 0s 179us/sample - loss: 0.0277 - mean_squared_error: 0.0573\n",
      "Epoch 2/10\n",
      "2000/2000 [==============================] - 0s 43us/sample - loss: 0.0277 - mean_squared_error: 0.0573\n",
      "Epoch 3/10\n",
      "2000/2000 [==============================] - 0s 57us/sample - loss: 0.0277 - mean_squared_error: 0.0573\n",
      "Epoch 4/10\n",
      "2000/2000 [==============================] - 0s 55us/sample - loss: 0.0277 - mean_squared_error: 0.0573\n",
      "Epoch 5/10\n",
      "2000/2000 [==============================] - 0s 45us/sample - loss: 0.0276 - mean_squared_error: 0.0573\n",
      "Epoch 6/10\n",
      "2000/2000 [==============================] - 0s 45us/sample - loss: 0.0276 - mean_squared_error: 0.0573\n",
      "Epoch 7/10\n",
      "2000/2000 [==============================] - 0s 41us/sample - loss: 0.0276 - mean_squared_error: 0.0573\n",
      "Epoch 8/10\n",
      "2000/2000 [==============================] - 0s 40us/sample - loss: 0.0276 - mean_squared_error: 0.0573\n",
      "Epoch 9/10\n",
      "2000/2000 [==============================] - 0s 44us/sample - loss: 0.0276 - mean_squared_error: 0.0573\n",
      "Epoch 10/10\n",
      "2000/2000 [==============================] - 0s 56us/sample - loss: 0.0276 - mean_squared_error: 0.0573\n",
      "16/16 [==============================] - 0s 11ms/sample - loss: 0.0284 - mean_squared_error: 0.0584\n"
     ]
    },
    {
     "data": {
      "text/plain": [
       "[0.02836868166923523, 0.058441594]"
      ]
     },
     "execution_count": 97,
     "metadata": {},
     "output_type": "execute_result"
    }
   ],
   "source": [
    "model2 = tf.keras.models.Sequential([\n",
    "        tf.keras.layers.Flatten(input_shape=(1,16)),\n",
    "    tf.keras.layers.Dense(8, activation=tf.nn.relu), \n",
    "    tf.keras.layers.Dense(4, activation=tf.nn.relu), \n",
    "    tf.keras.layers.Dense(8, activation=tf.nn.relu),\n",
    "    tf.keras.layers.Dense(16, activation=tf.nn.softmax)\n",
    "])\n",
    "model2.compile(optimizer=\"SGD\",\n",
    "              loss=tf.keras.losses.mean_squared_logarithmic_error,\n",
    "               metrics=[\"mse\"])\n",
    "model2.fit(train_x, train_y, epochs=10)\n",
    "model2.evaluate(test_x, test_y)"
   ]
  },
  {
   "cell_type": "code",
   "execution_count": 98,
   "metadata": {},
   "outputs": [
    {
     "name": "stdout",
     "output_type": "stream",
     "text": [
      "Epoch 1/10\n",
      "2000/2000 [==============================] - 0s 182us/sample - loss: 0.0277 - mean_squared_error: 0.0574\n",
      "Epoch 2/10\n",
      "2000/2000 [==============================] - 0s 48us/sample - loss: 0.0273 - mean_squared_error: 0.0569\n",
      "Epoch 3/10\n",
      "2000/2000 [==============================] - 0s 45us/sample - loss: 0.0268 - mean_squared_error: 0.0559\n",
      "Epoch 4/10\n",
      "2000/2000 [==============================] - 0s 45us/sample - loss: 0.0257 - mean_squared_error: 0.0542\n",
      "Epoch 5/10\n",
      "2000/2000 [==============================] - 0s 51us/sample - loss: 0.0241 - mean_squared_error: 0.0514\n",
      "Epoch 6/10\n",
      "2000/2000 [==============================] - 0s 62us/sample - loss: 0.0221 - mean_squared_error: 0.0475\n",
      "Epoch 7/10\n",
      "2000/2000 [==============================] - 0s 64us/sample - loss: 0.0201 - mean_squared_error: 0.0432\n",
      "Epoch 8/10\n",
      "2000/2000 [==============================] - 0s 59us/sample - loss: 0.0182 - mean_squared_error: 0.0391\n",
      "Epoch 9/10\n",
      "2000/2000 [==============================] - 0s 48us/sample - loss: 0.0163 - mean_squared_error: 0.0351\n",
      "Epoch 10/10\n",
      "2000/2000 [==============================] - 0s 47us/sample - loss: 0.0144 - mean_squared_error: 0.0312\n",
      "16/16 [==============================] - 0s 10ms/sample - loss: 0.0142 - mean_squared_error: 0.0307\n"
     ]
    },
    {
     "data": {
      "text/plain": [
       "[0.01418506819754839, 0.030679662]"
      ]
     },
     "execution_count": 98,
     "metadata": {},
     "output_type": "execute_result"
    }
   ],
   "source": [
    "model2 = tf.keras.models.Sequential([\n",
    "        tf.keras.layers.Flatten(input_shape=(1,16)),\n",
    "    tf.keras.layers.Dense(8, activation=tf.nn.relu), \n",
    "    tf.keras.layers.Dense(4, activation=tf.nn.relu), \n",
    "    tf.keras.layers.Dense(8, activation=tf.nn.relu),\n",
    "    tf.keras.layers.Dense(16, activation=tf.nn.softmax)\n",
    "])\n",
    "model2.compile(optimizer=\"RMSprop\",\n",
    "              loss=tf.keras.losses.mean_squared_logarithmic_error,\n",
    "               metrics=[\"mse\"])\n",
    "model2.fit(train_x, train_y, epochs=10)\n",
    "model2.evaluate(test_x, test_y)"
   ]
  },
  {
   "cell_type": "code",
   "execution_count": 99,
   "metadata": {},
   "outputs": [
    {
     "name": "stdout",
     "output_type": "stream",
     "text": [
      "Epoch 1/10\n",
      "2000/2000 [==============================] - 0s 175us/sample - loss: 0.0274 - mean_squared_error: 0.0570\n",
      "Epoch 2/10\n",
      "2000/2000 [==============================] - 0s 45us/sample - loss: 0.0263 - mean_squared_error: 0.0550\n",
      "Epoch 3/10\n",
      "2000/2000 [==============================] - 0s 46us/sample - loss: 0.0252 - mean_squared_error: 0.0528\n",
      "Epoch 4/10\n",
      "2000/2000 [==============================] - 0s 44us/sample - loss: 0.0244 - mean_squared_error: 0.0513\n",
      "Epoch 5/10\n",
      "2000/2000 [==============================] - 0s 44us/sample - loss: 0.0237 - mean_squared_error: 0.0500\n",
      "Epoch 6/10\n",
      "2000/2000 [==============================] - 0s 46us/sample - loss: 0.0230 - mean_squared_error: 0.0485\n",
      "Epoch 7/10\n",
      "2000/2000 [==============================] - 0s 46us/sample - loss: 0.0222 - mean_squared_error: 0.0469\n",
      "Epoch 8/10\n",
      "2000/2000 [==============================] - 0s 46us/sample - loss: 0.0215 - mean_squared_error: 0.0454\n",
      "Epoch 9/10\n",
      "2000/2000 [==============================] - 0s 51us/sample - loss: 0.0208 - mean_squared_error: 0.0440\n",
      "Epoch 10/10\n",
      "2000/2000 [==============================] - 0s 62us/sample - loss: 0.0202 - mean_squared_error: 0.0426\n",
      "16/16 [==============================] - 0s 12ms/sample - loss: 0.0204 - mean_squared_error: 0.0427\n"
     ]
    },
    {
     "data": {
      "text/plain": [
       "[0.020380118861794472, 0.042726383]"
      ]
     },
     "execution_count": 99,
     "metadata": {},
     "output_type": "execute_result"
    }
   ],
   "source": [
    "model2 = tf.keras.models.Sequential([\n",
    "        tf.keras.layers.Flatten(input_shape=(1,16)),\n",
    "    tf.keras.layers.Dense(8, activation=tf.nn.relu), \n",
    "    tf.keras.layers.Dense(4, activation=tf.nn.relu), \n",
    "    tf.keras.layers.Dense(8, activation=tf.nn.relu),\n",
    "    tf.keras.layers.Dense(16, activation=tf.nn.softmax)\n",
    "])\n",
    "model2.compile(optimizer=\"Adagrad\",\n",
    "              loss=tf.keras.losses.mean_squared_logarithmic_error,\n",
    "               metrics=[\"mse\"])\n",
    "model2.fit(train_x, train_y, epochs=10)\n",
    "model2.evaluate(test_x, test_y)"
   ]
  },
  {
   "cell_type": "code",
   "execution_count": 111,
   "metadata": {},
   "outputs": [
    {
     "name": "stdout",
     "output_type": "stream",
     "text": [
      "Epoch 1/10\n",
      "2000/2000 [==============================] - 0s 205us/sample - loss: 0.0277 - mean_squared_error: 0.0574\n",
      "Epoch 2/10\n",
      "2000/2000 [==============================] - 0s 57us/sample - loss: 0.0271 - mean_squared_error: 0.0564\n",
      "Epoch 3/10\n",
      "2000/2000 [==============================] - 0s 59us/sample - loss: 0.0260 - mean_squared_error: 0.0546\n",
      "Epoch 4/10\n",
      "2000/2000 [==============================] - 0s 57us/sample - loss: 0.0241 - mean_squared_error: 0.0509\n",
      "Epoch 5/10\n",
      "2000/2000 [==============================] - 0s 60us/sample - loss: 0.0217 - mean_squared_error: 0.0459\n",
      "Epoch 6/10\n",
      "2000/2000 [==============================] - 0s 55us/sample - loss: 0.0195 - mean_squared_error: 0.0412\n",
      "Epoch 7/10\n",
      "2000/2000 [==============================] - 0s 56us/sample - loss: 0.0172 - mean_squared_error: 0.0366\n",
      "Epoch 8/10\n",
      "2000/2000 [==============================] - 0s 57us/sample - loss: 0.0150 - mean_squared_error: 0.0320\n",
      "Epoch 9/10\n",
      "2000/2000 [==============================] - 0s 58us/sample - loss: 0.0133 - mean_squared_error: 0.0285\n",
      "Epoch 10/10\n",
      "2000/2000 [==============================] - 0s 60us/sample - loss: 0.0116 - mean_squared_error: 0.0251\n",
      "16/16 [==============================] - 0s 12ms/sample - loss: 0.0112 - mean_squared_error: 0.0241\n"
     ]
    }
   ],
   "source": [
    "model3 = tf.keras.models.Sequential([\n",
    "        tf.keras.layers.Flatten(input_shape=(1,16)),\n",
    "    tf.keras.layers.Dense(8, activation=tf.nn.relu), \n",
    "    tf.keras.layers.Dense(4, activation=tf.nn.relu), \n",
    "    tf.keras.layers.Dense(8, activation=tf.nn.relu),\n",
    "    tf.keras.layers.Dense(16, activation=tf.nn.softmax)\n",
    "])\n",
    "model3.compile(optimizer=\"adam\",\n",
    "              loss=tf.keras.losses.mean_squared_logarithmic_error,\n",
    "               metrics=[\"mse\"])\n",
    "model3.fit(train_x, train_y, epochs=10)\n",
    "model3.evaluate(test_x, test_y)\n",
    "test_pred = model3.predict(test_x)\n",
    "anomaly_x = np.zeros((16,1,16), dtype=\"double\")\n",
    "anomaly_x[:,0,:] = np.round(np.random.random((16,16)))\n",
    "anomaly_y = anomaly_x[:,0,:]\n",
    "anomaly_pred = model3.predict(anomaly_x)\n",
    "for i in range(16):\n",
    "    print(\"mse for \",i, \" :\", mean_squared_error(anomaly_y[i], anomaly_pred[i]))\n",
    "for i in range(16):\n",
    "    print(\"mse for \", i, \": \", mean_squared_error(test_y[i],test_pred[i] ))"
   ]
  },
  {
   "cell_type": "code",
   "execution_count": 112,
   "metadata": {},
   "outputs": [
    {
     "name": "stdout",
     "output_type": "stream",
     "text": [
      "Epoch 1/10\n",
      "2000/2000 [==============================] - 0s 203us/sample - loss: 0.0277 - mean_squared_error: 0.0574\n",
      "Epoch 2/10\n",
      "2000/2000 [==============================] - 0s 67us/sample - loss: 0.0273 - mean_squared_error: 0.0568\n",
      "Epoch 3/10\n",
      "2000/2000 [==============================] - 0s 67us/sample - loss: 0.0265 - mean_squared_error: 0.0554\n",
      "Epoch 4/10\n",
      "2000/2000 [==============================] - 0s 63us/sample - loss: 0.0245 - mean_squared_error: 0.0518\n",
      "Epoch 5/10\n",
      "2000/2000 [==============================] - 0s 55us/sample - loss: 0.0209 - mean_squared_error: 0.0447\n",
      "Epoch 6/10\n",
      "2000/2000 [==============================] - 0s 68us/sample - loss: 0.0175 - mean_squared_error: 0.0375\n",
      "Epoch 7/10\n",
      "2000/2000 [==============================] - 0s 72us/sample - loss: 0.0147 - mean_squared_error: 0.0317\n",
      "Epoch 8/10\n",
      "2000/2000 [==============================] - 0s 79us/sample - loss: 0.0119 - mean_squared_error: 0.0257\n",
      "Epoch 9/10\n",
      "2000/2000 [==============================] - 0s 69us/sample - loss: 0.0090 - mean_squared_error: 0.0198\n",
      "Epoch 10/10\n",
      "2000/2000 [==============================] - 0s 56us/sample - loss: 0.0056 - mean_squared_error: 0.0129\n",
      "16/16 [==============================] - 0s 12ms/sample - loss: 0.0044 - mean_squared_error: 0.0101\n",
      "mse for  0  : 0.380805851976203\n",
      "mse for  1  : 0.4833144290618242\n",
      "mse for  2  : 0.31917442725127876\n",
      "mse for  3  : 0.42663662388245266\n",
      "mse for  4  : 0.6131130656306306\n",
      "mse for  5  : 0.35756833000727706\n",
      "mse for  6  : 0.368044871948022\n",
      "mse for  7  : 0.5380360701908496\n",
      "mse for  8  : 0.3581200327616705\n",
      "mse for  9  : 0.4725458203184966\n",
      "mse for  10  : 0.4506679155623614\n",
      "mse for  11  : 0.3006486966021153\n",
      "mse for  12  : 0.47715457857602306\n",
      "mse for  13  : 0.5341281466170095\n",
      "mse for  14  : 0.5565738764893411\n",
      "mse for  15  : 0.581263129584852\n",
      "mse for  0 :  0.00433616233472659\n",
      "mse for  1 :  0.015071928695637064\n",
      "mse for  2 :  0.0011377223112989318\n",
      "mse for  3 :  0.000534804889917636\n",
      "mse for  4 :  0.01451777774062421\n",
      "mse for  5 :  0.049214864872647354\n",
      "mse for  6 :  0.0005015911432984807\n",
      "mse for  7 :  0.0010087036415800154\n",
      "mse for  8 :  0.00232844784457361\n",
      "mse for  9 :  0.023319067048983993\n",
      "mse for  10 :  0.003609347736345743\n",
      "mse for  11 :  0.004105632205077522\n",
      "mse for  12 :  0.038076122542498335\n",
      "mse for  13 :  0.0017194756084218201\n",
      "mse for  14 :  0.0008216375441989481\n",
      "mse for  15 :  0.0013003922509696405\n"
     ]
    }
   ],
   "source": [
    "model4 = tf.keras.models.Sequential([\n",
    "        tf.keras.layers.Flatten(input_shape=(1,16)),\n",
    "    tf.keras.layers.Dense(8, activation=tf.nn.relu), \n",
    "    tf.keras.layers.Dense(5, activation=tf.nn.relu), \n",
    "    tf.keras.layers.Dense(8, activation=tf.nn.relu),\n",
    "    tf.keras.layers.Dense(16, activation=tf.nn.softmax)\n",
    "])\n",
    "model4.compile(optimizer=\"adam\",\n",
    "              loss=tf.keras.losses.mean_squared_logarithmic_error,\n",
    "               metrics=[\"mse\"])\n",
    "model4.fit(train_x, train_y, epochs=10)\n",
    "model4.evaluate(test_x, test_y)\n",
    "test_pred = model4.predict(test_x)\n",
    "anomaly_x = np.zeros((16,1,16), dtype=\"double\")\n",
    "anomaly_x[:,0,:] = np.round(np.random.random((16,16)))\n",
    "anomaly_y = anomaly_x[:,0,:]\n",
    "anomaly_pred = model4.predict(anomaly_x)\n",
    "for i in range(16):\n",
    "    print(\"mse for \",i, \" :\", mean_squared_error(anomaly_y[i], anomaly_pred[i]))\n",
    "for i in range(16):\n",
    "    print(\"mse for \", i, \": \", mean_squared_error(test_y[i],test_pred[i] ))"
   ]
  },
  {
   "cell_type": "code",
   "execution_count": 113,
   "metadata": {},
   "outputs": [
    {
     "name": "stdout",
     "output_type": "stream",
     "text": [
      "Epoch 1/10\n",
      "2000/2000 [==============================] - 0s 219us/sample - loss: 0.0276 - mean_squared_error: 0.0573\n",
      "Epoch 2/10\n",
      "2000/2000 [==============================] - 0s 58us/sample - loss: 0.0274 - mean_squared_error: 0.0569\n",
      "Epoch 3/10\n",
      "2000/2000 [==============================] - 0s 63us/sample - loss: 0.0269 - mean_squared_error: 0.0560\n",
      "Epoch 4/10\n",
      "2000/2000 [==============================] - 0s 59us/sample - loss: 0.0262 - mean_squared_error: 0.0547\n",
      "Epoch 5/10\n",
      "2000/2000 [==============================] - 0s 61us/sample - loss: 0.0256 - mean_squared_error: 0.0535\n",
      "Epoch 6/10\n",
      "2000/2000 [==============================] - 0s 71us/sample - loss: 0.0245 - mean_squared_error: 0.0515\n",
      "Epoch 7/10\n",
      "2000/2000 [==============================] - 0s 62us/sample - loss: 0.0235 - mean_squared_error: 0.0495\n",
      "Epoch 8/10\n",
      "2000/2000 [==============================] - 0s 62us/sample - loss: 0.0222 - mean_squared_error: 0.0469\n",
      "Epoch 9/10\n",
      "2000/2000 [==============================] - 0s 71us/sample - loss: 0.0209 - mean_squared_error: 0.0440\n",
      "Epoch 10/10\n",
      "2000/2000 [==============================] - 0s 70us/sample - loss: 0.0197 - mean_squared_error: 0.0414\n",
      "16/16 [==============================] - 0s 13ms/sample - loss: 0.0177 - mean_squared_error: 0.0376\n",
      "mse for  0  : 0.29490060736132384\n",
      "mse for  1  : 0.6607468605048389\n",
      "mse for  2  : 0.35668181151983014\n",
      "mse for  3  : 0.30068058622208743\n",
      "mse for  4  : 0.40829225149524623\n",
      "mse for  5  : 0.43979872271572373\n",
      "mse for  6  : 0.5845816102112489\n",
      "mse for  7  : 0.5383884941873436\n",
      "mse for  8  : 0.5417770475351515\n",
      "mse for  9  : 0.4209327685583394\n",
      "mse for  10  : 0.47755905806230753\n",
      "mse for  11  : 0.329521755424262\n",
      "mse for  12  : 0.4797862336570799\n",
      "mse for  13  : 0.3776992436286882\n",
      "mse for  14  : 0.4754017680836504\n",
      "mse for  15  : 0.34400598140025884\n",
      "mse for  0 :  0.010444363435773636\n",
      "mse for  1 :  0.008968557657913642\n",
      "mse for  2 :  0.05720714498380136\n",
      "mse for  3 :  0.0552278750914382\n",
      "mse for  4 :  0.028746849428486997\n",
      "mse for  5 :  0.05373153861903496\n",
      "mse for  6 :  0.05791440510601612\n",
      "mse for  7 :  0.03567411095696624\n",
      "mse for  8 :  0.056616764702591416\n",
      "mse for  9 :  0.008826533579787282\n",
      "mse for  10 :  0.005750789512004908\n",
      "mse for  11 :  0.05227946596648882\n",
      "mse for  12 :  0.05428460301294509\n",
      "mse for  13 :  0.04390658008042434\n",
      "mse for  14 :  0.014244954821060689\n",
      "mse for  15 :  0.05768283382126999\n"
     ]
    }
   ],
   "source": [
    "model4 = tf.keras.models.Sequential([\n",
    "        tf.keras.layers.Flatten(input_shape=(1,16)),\n",
    "    tf.keras.layers.Dense(8, activation=tf.nn.relu), \n",
    "    tf.keras.layers.Dense(5, activation=tf.nn.relu), \n",
    "    tf.keras.layers.Dropout(0.2),\n",
    "    tf.keras.layers.Dense(8, activation=tf.nn.relu),\n",
    "    tf.keras.layers.Dense(16, activation=tf.nn.softmax)\n",
    "])\n",
    "model4.compile(optimizer=\"adam\",\n",
    "              loss=tf.keras.losses.mean_squared_logarithmic_error,\n",
    "               metrics=[\"mse\"])\n"
   ]
  },
  {
   "cell_type": "code",
   "execution_count": 118,
   "metadata": {},
   "outputs": [
    {
     "name": "stdout",
     "output_type": "stream",
     "text": [
      "Epoch 1/10\n",
      "2000/2000 [==============================] - 0s 61us/sample - loss: 0.0066 - mean_squared_error: 0.0132\n",
      "Epoch 2/10\n",
      "2000/2000 [==============================] - 0s 59us/sample - loss: 0.0063 - mean_squared_error: 0.0128\n",
      "Epoch 3/10\n",
      "2000/2000 [==============================] - 0s 61us/sample - loss: 0.0068 - mean_squared_error: 0.0136\n",
      "Epoch 4/10\n",
      "2000/2000 [==============================] - 0s 59us/sample - loss: 0.0063 - mean_squared_error: 0.0127\n",
      "Epoch 5/10\n",
      "2000/2000 [==============================] - 0s 67us/sample - loss: 0.0066 - mean_squared_error: 0.0132\n",
      "Epoch 6/10\n",
      "2000/2000 [==============================] - 0s 67us/sample - loss: 0.0067 - mean_squared_error: 0.0134\n",
      "Epoch 7/10\n",
      "2000/2000 [==============================] - 0s 58us/sample - loss: 0.0065 - mean_squared_error: 0.0130\n",
      "Epoch 8/10\n",
      "2000/2000 [==============================] - 0s 64us/sample - loss: 0.0060 - mean_squared_error: 0.0121\n",
      "Epoch 9/10\n",
      "2000/2000 [==============================] - 0s 64us/sample - loss: 0.0067 - mean_squared_error: 0.0133\n",
      "Epoch 10/10\n",
      "2000/2000 [==============================] - 0s 62us/sample - loss: 0.0067 - mean_squared_error: 0.0134\n",
      "16/16 [==============================] - 0s 125us/sample - loss: 0.0011 - mean_squared_error: 0.0024\n",
      "mse for  0  : 0.4263861405438128\n",
      "mse for  1  : 0.43515456574707206\n",
      "mse for  2  : 0.2499954542112328\n",
      "mse for  3  : 0.5886122333078627\n",
      "mse for  4  : 0.354426631914328\n",
      "mse for  5  : 0.5648335192924979\n",
      "mse for  6  : 0.6008552877724933\n",
      "mse for  7  : 0.36173436777339896\n",
      "mse for  8  : 0.48653063531803525\n",
      "mse for  9  : 0.34779940578901003\n",
      "mse for  10  : 0.5334241152135084\n",
      "mse for  11  : 0.562325795770571\n",
      "mse for  12  : 0.3011224916616795\n",
      "mse for  13  : 0.24997270959440032\n",
      "mse for  14  : 0.4294791513971419\n",
      "mse for  15  : 0.6428336619775611\n",
      "mse for  0 :  0.0016550007579788782\n",
      "mse for  1 :  9.051749591257294e-05\n",
      "mse for  2 :  0.013868303174533927\n",
      "mse for  3 :  0.005067784603492597\n",
      "mse for  4 :  0.0020754021628364623\n",
      "mse for  5 :  4.3002257992861266e-08\n",
      "mse for  6 :  0.001352439373567529\n",
      "mse for  7 :  0.004144259365587922\n",
      "mse for  8 :  0.0019152433555947438\n",
      "mse for  9 :  0.00014495346648858167\n",
      "mse for  10 :  7.891538146900427e-10\n",
      "mse for  11 :  0.0019245675938468348\n",
      "mse for  12 :  0.00027379849883013964\n",
      "mse for  13 :  0.0031030560636228326\n",
      "mse for  14 :  3.1336417224364175e-06\n",
      "mse for  15 :  0.0035320312520693373\n"
     ]
    }
   ],
   "source": [
    "model4.fit(train_x, train_y, epochs=10)\n",
    "model4.evaluate(test_x, test_y)\n",
    "test_pred = model4.predict(test_x)\n",
    "anomaly_x = np.zeros((16,1,16), dtype=\"double\")\n",
    "anomaly_x[:,0,:] = np.round(np.random.random((16,16)))\n",
    "anomaly_y = anomaly_x[:,0,:]\n",
    "anomaly_pred = model4.predict(anomaly_x)\n",
    "for i in range(16):\n",
    "    print(\"mse for \",i, \" :\", mean_squared_error(anomaly_y[i], anomaly_pred[i]))\n",
    "for i in range(16):\n",
    "    print(\"mse for \", i, \": \", mean_squared_error(test_y[i],test_pred[i] ))"
   ]
  },
  {
   "cell_type": "code",
   "execution_count": null,
   "metadata": {},
   "outputs": [],
   "source": []
  }
 ],
 "metadata": {
  "kernelspec": {
   "display_name": "Python 3",
   "language": "python",
   "name": "python3"
  },
  "language_info": {
   "codemirror_mode": {
    "name": "ipython",
    "version": 3
   },
   "file_extension": ".py",
   "mimetype": "text/x-python",
   "name": "python",
   "nbconvert_exporter": "python",
   "pygments_lexer": "ipython3",
   "version": "3.7.4"
  }
 },
 "nbformat": 4,
 "nbformat_minor": 2
}
