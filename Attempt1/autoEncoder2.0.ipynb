{
 "cells": [
  {
   "cell_type": "code",
   "execution_count": 1,
   "metadata": {},
   "outputs": [
    {
     "name": "stderr",
     "output_type": "stream",
     "text": [
      "d:\\install\\anaconda3\\envs\\anomaly\\lib\\site-packages\\tensorflow\\python\\framework\\dtypes.py:526: FutureWarning: Passing (type, 1) or '1type' as a synonym of type is deprecated; in a future version of numpy, it will be understood as (type, (1,)) / '(1,)type'.\n",
      "  _np_qint8 = np.dtype([(\"qint8\", np.int8, 1)])\n",
      "d:\\install\\anaconda3\\envs\\anomaly\\lib\\site-packages\\tensorflow\\python\\framework\\dtypes.py:527: FutureWarning: Passing (type, 1) or '1type' as a synonym of type is deprecated; in a future version of numpy, it will be understood as (type, (1,)) / '(1,)type'.\n",
      "  _np_quint8 = np.dtype([(\"quint8\", np.uint8, 1)])\n",
      "d:\\install\\anaconda3\\envs\\anomaly\\lib\\site-packages\\tensorflow\\python\\framework\\dtypes.py:528: FutureWarning: Passing (type, 1) or '1type' as a synonym of type is deprecated; in a future version of numpy, it will be understood as (type, (1,)) / '(1,)type'.\n",
      "  _np_qint16 = np.dtype([(\"qint16\", np.int16, 1)])\n",
      "d:\\install\\anaconda3\\envs\\anomaly\\lib\\site-packages\\tensorflow\\python\\framework\\dtypes.py:529: FutureWarning: Passing (type, 1) or '1type' as a synonym of type is deprecated; in a future version of numpy, it will be understood as (type, (1,)) / '(1,)type'.\n",
      "  _np_quint16 = np.dtype([(\"quint16\", np.uint16, 1)])\n",
      "d:\\install\\anaconda3\\envs\\anomaly\\lib\\site-packages\\tensorflow\\python\\framework\\dtypes.py:530: FutureWarning: Passing (type, 1) or '1type' as a synonym of type is deprecated; in a future version of numpy, it will be understood as (type, (1,)) / '(1,)type'.\n",
      "  _np_qint32 = np.dtype([(\"qint32\", np.int32, 1)])\n",
      "d:\\install\\anaconda3\\envs\\anomaly\\lib\\site-packages\\tensorflow\\python\\framework\\dtypes.py:535: FutureWarning: Passing (type, 1) or '1type' as a synonym of type is deprecated; in a future version of numpy, it will be understood as (type, (1,)) / '(1,)type'.\n",
      "  np_resource = np.dtype([(\"resource\", np.ubyte, 1)])\n"
     ]
    }
   ],
   "source": [
    "import numpy as np\n",
    "import pandas as pd\n",
    "import matplotlib.pyplot as plt\n",
    "import tensorflow as tf\n",
    "from sklearn.metrics import mean_squared_error\n",
    "from sklearn.preprocessing import normalize\n",
    "from scipy import interpolate\n",
    "import json"
   ]
  },
  {
   "cell_type": "markdown",
   "metadata": {},
   "source": [
    "* WADI_normaldata.csv: delete the first 4 lines of WADI_14days.csv  \n",
    "* sensor_map.txt: map the tedious sensor names to \"sensor0\": \"sensor126\", sensor_map.txt stores the map\n",
    "\n",
    "* use sensor0 data to do univariate autoencoder, but the result is very bad. \n",
    "\n",
    "* Version 2.0 wants to explore multivariate autoencoder and the effect of PCA\n",
    "\n",
    "* 4 sensors are just NaN, so I delete them\n",
    "* Besides, we have 50 NaN data. As 50 is quite small, I use Linear Interpolation to fill the missing data. \n",
    "* For test data, as attacked data are relatively scarse (5% of all), I selected less normal data than uniform sampling. \n",
    "* I take the average of \"attack\" for a sample of size 30 to indicate the anomaly level of the sequence(sample). When evaluating the model, I classify those with average \"attack\">0.2 as attacked, the others as normal. \n",
    "* Normalize the mse(mean squared error) between test_pred and test_y, try different threshold to get the best result. \n",
    "* The loss of the Network is not decreasing, but the F1 score is better than MAD-GAN's. This is astonishing. "
   ]
  },
  {
   "cell_type": "code",
   "execution_count": 2,
   "metadata": {},
   "outputs": [],
   "source": [
    "sensor_map = {}\n",
    "with open(\"../data/WADI/sensor_map.txt\", \"r\") as f:\n",
    "    sensor_map = json.loads(f.read().replace(\"'\", '\"'))"
   ]
  },
  {
   "cell_type": "code",
   "execution_count": 3,
   "metadata": {},
   "outputs": [],
   "source": [
    "def load_normal_data():\n",
    "    data_df = pd.read_csv(\"../data/WADI/WADI_normaldata.csv\")\n",
    "    data_df = data_df.rename(columns = sensor_map)\n",
    "    data_df = data_df[6*60*60:]\n",
    "    return data_df"
   ]
  },
  {
   "cell_type": "code",
   "execution_count": 4,
   "metadata": {},
   "outputs": [],
   "source": [
    "def load_anomaly_data():\n",
    "    data_df = pd.read_csv(\"../data/WADI/WADI_attackdata_labelled.csv\")\n",
    "    data_df = data_df.rename(columns = sensor_map)\n",
    "    return data_df"
   ]
  },
  {
   "cell_type": "code",
   "execution_count": 5,
   "metadata": {},
   "outputs": [],
   "source": [
    "normal_data = load_normal_data()\n",
    "anomaly_data = load_anomaly_data()\n",
    "    "
   ]
  },
  {
   "cell_type": "code",
   "execution_count": 6,
   "metadata": {},
   "outputs": [],
   "source": [
    "# try sensor 0 first"
   ]
  },
  {
   "cell_type": "code",
   "execution_count": 7,
   "metadata": {},
   "outputs": [],
   "source": [
    "sensor_list = list(sensor_map.values())[:-1]\n",
    "sensor_list_labelled = sensor_list+[\"attack\"]"
   ]
  },
  {
   "cell_type": "code",
   "execution_count": 8,
   "metadata": {},
   "outputs": [],
   "source": [
    "sensor_normal = normal_data[sensor_list].to_numpy()\n",
    "sensor_anomaly = anomaly_data[sensor_list_labelled].to_numpy()"
   ]
  },
  {
   "cell_type": "code",
   "execution_count": 9,
   "metadata": {},
   "outputs": [
    {
     "name": "stdout",
     "output_type": "stream",
     "text": [
      "(1188001, 123)\n",
      "(172801, 124)\n"
     ]
    }
   ],
   "source": [
    "print(sensor_normal.shape)\n",
    "print(sensor_anomaly.shape)"
   ]
  },
  {
   "cell_type": "code",
   "execution_count": 10,
   "metadata": {},
   "outputs": [
    {
     "data": {
      "text/plain": [
       "50"
      ]
     },
     "execution_count": 10,
     "metadata": {},
     "output_type": "execute_result"
    }
   ],
   "source": [
    "np.sum(np.isnan(sensor_normal))\n"
   ]
  },
  {
   "cell_type": "code",
   "execution_count": 11,
   "metadata": {},
   "outputs": [
    {
     "data": {
      "text/plain": [
       "0"
      ]
     },
     "execution_count": 11,
     "metadata": {},
     "output_type": "execute_result"
    }
   ],
   "source": [
    "np.sum(np.isnan(sensor_anomaly))"
   ]
  },
  {
   "cell_type": "code",
   "execution_count": 12,
   "metadata": {},
   "outputs": [],
   "source": [
    "def interp_1darray(data):\n",
    "    assert len(data.shape)==1, \"data is not 1d\"\n",
    "    num_index = [i for i in range(len(data)) if not np.isnan(data[i])]\n",
    "    f= interpolate.interp1d(num_index, data[num_index])\n",
    "    data_new = f(range(len(data)))\n",
    "    return data_new\n",
    "    "
   ]
  },
  {
   "cell_type": "code",
   "execution_count": 13,
   "metadata": {},
   "outputs": [],
   "source": [
    "def interp_2darray(data):\n",
    "    assert len(data.shape)==2,\" data is not 2d \"\n",
    "    new_data = data.copy().T\n",
    "    for i in range(len(new_data)):\n",
    "        if(np.sum(np.isnan(new_data[i]))>0):\n",
    "            new_data[i] = interp_1darray(new_data[i])\n",
    "    new_data = new_data.T\n",
    "    return new_data\n",
    "    "
   ]
  },
  {
   "cell_type": "code",
   "execution_count": 14,
   "metadata": {},
   "outputs": [],
   "source": [
    "def normalize_1d(data):\n",
    "    new_data = data.copy()\n",
    "    min_ = min(new_data)\n",
    "    max_ = max(new_data)\n",
    "    if(max_-min_==0):\n",
    "        new_data = np.ones(new_data.shape,dtype=\"double\") \n",
    "    #print(data)\n",
    "    else:\n",
    "        new_data= (new_data-min_)/(max_-min_)\n",
    "    #print(data)\n",
    "    return new_data\n",
    "\n",
    "def normalize_2d(data, axis = 1):\n",
    "    new_data = data.copy()\n",
    "    if(axis == 0):\n",
    "        new_data = new_data.T\n",
    "    #print(data.shape)\n",
    "    for i in range(len(new_data)):\n",
    "        new_data[i] = normalize_1d(new_data[i])\n",
    "    if(axis == 0):\n",
    "        new_data = new_data.T\n",
    "        \n",
    "    return new_data"
   ]
  },
  {
   "cell_type": "code",
   "execution_count": 15,
   "metadata": {},
   "outputs": [],
   "source": [
    "sensor_normal_interp = interp_2darray(sensor_normal)"
   ]
  },
  {
   "cell_type": "code",
   "execution_count": 16,
   "metadata": {},
   "outputs": [
    {
     "name": "stdout",
     "output_type": "stream",
     "text": [
      "nan: 0\n"
     ]
    },
    {
     "data": {
      "text/plain": [
       "(1188001, 123)"
      ]
     },
     "execution_count": 16,
     "metadata": {},
     "output_type": "execute_result"
    }
   ],
   "source": [
    "print(\"nan:\", np.sum(np.isnan(sensor_normal_interp)))\n",
    "sensor_normal_interp.shape"
   ]
  },
  {
   "cell_type": "code",
   "execution_count": 17,
   "metadata": {},
   "outputs": [],
   "source": [
    "sensor_normal_normalized = normalize_2d(sensor_normal_interp, axis = 0)\n",
    "sensor_anomaly_normalized = normalize_2d(sensor_anomaly, axis = 0)"
   ]
  },
  {
   "cell_type": "code",
   "execution_count": 18,
   "metadata": {},
   "outputs": [],
   "source": [
    "np.save(\"../data/WADI/normal1.0.npy\", sensor_normal_normalized)\n",
    "np.save(\"../data/WADI/anomaly1.0.npy\", sensor_anomaly_normalized)"
   ]
  },
  {
   "cell_type": "code",
   "execution_count": 156,
   "metadata": {},
   "outputs": [],
   "source": [
    "# delete first 6 hours\n",
    "# sensor_normal_normalized = sensor_anomaly_normalized[6*60*60:, :]"
   ]
  },
  {
   "cell_type": "code",
   "execution_count": 19,
   "metadata": {},
   "outputs": [
    {
     "name": "stdout",
     "output_type": "stream",
     "text": [
      "(1188001, 123) (172801, 124)\n"
     ]
    }
   ],
   "source": [
    "print(sensor_normal_normalized.shape, sensor_anomaly_normalized.shape)"
   ]
  },
  {
   "cell_type": "code",
   "execution_count": 20,
   "metadata": {},
   "outputs": [
    {
     "name": "stdout",
     "output_type": "stream",
     "text": [
      "nan: 0\n"
     ]
    }
   ],
   "source": [
    "print(\"nan:\", np.sum(np.isnan(sensor_normal_normalized)))"
   ]
  },
  {
   "cell_type": "code",
   "execution_count": 21,
   "metadata": {},
   "outputs": [],
   "source": [
    "normal_len = len(sensor_normal_normalized)\n",
    "anomaly_len = len(sensor_anomaly_normalized)\n",
    "dimension = sensor_normal_normalized.shape[1]"
   ]
  },
  {
   "cell_type": "code",
   "execution_count": 22,
   "metadata": {},
   "outputs": [],
   "source": [
    "#generate train_x"
   ]
  },
  {
   "cell_type": "code",
   "execution_count": 23,
   "metadata": {},
   "outputs": [
    {
     "name": "stdout",
     "output_type": "stream",
     "text": [
      "sample_step:  118\n"
     ]
    }
   ],
   "source": [
    "sample_size = 30\n",
    "train_size = 10000\n",
    "sample_step = np.floor((normal_len-sample_size)/(train_size-1)).astype(int)\n",
    "print(\"sample_step: \", sample_step)"
   ]
  },
  {
   "cell_type": "code",
   "execution_count": 24,
   "metadata": {},
   "outputs": [],
   "source": [
    "train_x = np.zeros((train_size, sample_size, dimension), dtype=\"double\")"
   ]
  },
  {
   "cell_type": "code",
   "execution_count": 25,
   "metadata": {},
   "outputs": [],
   "source": [
    "for i in range(train_size):\n",
    "    train_x[i, :, :] = sensor_normal_normalized[i*sample_step: (i*sample_step+sample_size), :]"
   ]
  },
  {
   "cell_type": "code",
   "execution_count": 26,
   "metadata": {},
   "outputs": [],
   "source": [
    "train_y = np.zeros((train_size, sample_size*dimension), dtype = \"double\")\n",
    "for i in range(train_size):\n",
    "    train_y[i] = train_x[i,:,:].ravel()"
   ]
  },
  {
   "cell_type": "code",
   "execution_count": 82,
   "metadata": {},
   "outputs": [],
   "source": [
    "# generating test_set\n",
    "pd.Series(sensor_anomaly_normalized[0:, 123]).describe()"
   ]
  },
  {
   "cell_type": "code",
   "execution_count": 27,
   "metadata": {},
   "outputs": [
    {
     "name": "stdout",
     "output_type": "stream",
     "text": [
      "sample_step:  172\n"
     ]
    }
   ],
   "source": [
    "test_size = 1000\n",
    "sample_step=np.floor((anomaly_len-sample_size)/(test_size-1)).astype(int)\n",
    "print(\"sample_step: \", sample_step)"
   ]
  },
  {
   "cell_type": "code",
   "execution_count": 28,
   "metadata": {},
   "outputs": [
    {
     "name": "stdout",
     "output_type": "stream",
     "text": [
      "normal size: 940\n",
      "left size:  135\n",
      "final:  195\n"
     ]
    }
   ],
   "source": [
    "test_index = np.array([i*sample_step for i in range(test_size)])\n",
    "test_normal_index = np.array([i for i in test_index if np.mean(sensor_anomaly_normalized[i:(i+sample_size), -1])<0.2])\n",
    "print(\"normal size:\", len(test_normal_index))\n",
    "left_index_index = np.array(range(0,len(test_normal_index), 7))\n",
    "print(\"left size: \", len(left_index_index))\n",
    "test_normal_index_left = test_normal_index[left_index_index]\n",
    "test_index_final = np.array([i for i in test_index if (i not in test_normal_index) or (i in test_normal_index_left)])\n",
    "print(\"final: \", len(test_index_final))"
   ]
  },
  {
   "cell_type": "code",
   "execution_count": 29,
   "metadata": {},
   "outputs": [
    {
     "name": "stdout",
     "output_type": "stream",
     "text": [
      "195\n"
     ]
    }
   ],
   "source": [
    "new_test_size = len(test_index_final)\n",
    "print(new_test_size)"
   ]
  },
  {
   "cell_type": "code",
   "execution_count": 30,
   "metadata": {},
   "outputs": [],
   "source": [
    "test_x = np.zeros((new_test_size, sample_size, dimension), dtype = \"double\")\n",
    "for i in range(new_test_size):\n",
    "    test_x[i,:,:] = sensor_anomaly_normalized[test_index_final[i]:(test_index_final[i]+sample_size), :-1]\n",
    "test_y = np.zeros((new_test_size, sample_size*dimension), dtype = \"double\")\n",
    "for i in range(new_test_size):\n",
    "    test_y[i] = test_x[i,:,:].ravel()"
   ]
  },
  {
   "cell_type": "code",
   "execution_count": 31,
   "metadata": {},
   "outputs": [],
   "source": [
    "test_attack_level = np.array([np.mean(sensor_anomaly_normalized[i:(i+sample_size), -1]) for i in test_index_final])"
   ]
  },
  {
   "cell_type": "code",
   "execution_count": 32,
   "metadata": {},
   "outputs": [
    {
     "data": {
      "text/plain": [
       "[<matplotlib.lines.Line2D at 0x1ec31cb3dc8>]"
      ]
     },
     "execution_count": 32,
     "metadata": {},
     "output_type": "execute_result"
    },
    {
     "data": {
      "image/png": "[encoded data removed]",
      "text/plain": [
       "<Figure size 432x288 with 1 Axes>"
      ]
     },
     "metadata": {
      "needs_background": "light"
     },
     "output_type": "display_data"
    }
   ],
   "source": [
    "plt.plot(range(len(test_index_final)), test_attack_level)"
   ]
  },
  {
   "cell_type": "code",
   "execution_count": 42,
   "metadata": {},
   "outputs": [
    {
     "data": {
      "text/plain": [
       "[<matplotlib.lines.Line2D at 0x1ec31a10dc8>]"
      ]
     },
     "execution_count": 42,
     "metadata": {},
     "output_type": "execute_result"
    },
    {
     "data": {
      "image/png": "[encoded data removed]",
      "text/plain": [
       "<Figure size 432x288 with 1 Axes>"
      ]
     },
     "metadata": {
      "needs_background": "light"
     },
     "output_type": "display_data"
    }
   ],
   "source": [
    "plt.plot(range(anomaly_len), sensor_anomaly_normalized[:,4])\n",
    "#plt.plot(range(anomaly_len), [1 if i in test_index_final else 0 for i in range(anomaly_len)])"
   ]
  },
  {
   "cell_type": "code",
   "execution_count": 77,
   "metadata": {},
   "outputs": [],
   "source": [
    "def get_eval(ground_truth, pred_val):\n",
    "    assert ground_truth.shape == pred_val.shape\n",
    "    TP, FP, TN, FN = 0,0,0,0\n",
    "    gth = ground_truth.ravel()\n",
    "    pred = pred_val.ravel()\n",
    "    for i in range(len(gth)):\n",
    "        if(gth[i] >0.5):\n",
    "            if(pred[i]>0.5):\n",
    "                TP+=1\n",
    "            elif(pred[i]<=0.5):\n",
    "                FN +=1\n",
    "        elif(gth[i]<=0.5):\n",
    "            if(pred[i]>0.5):\n",
    "                FP +=1\n",
    "            elif(pred[i]<=0.5):\n",
    "                TN+=1\n",
    "    pre = TP/(TP+FP)\n",
    "    rec = TP/(TP+FN)\n",
    "    F1 = 2*pre*rec/(pre+rec)\n",
    "    #print(\"pre: \", pre, \";  rec: \", rec, \"; F1: \", F1)\n",
    "    return (pre, rec, F1)    "
   ]
  },
  {
   "cell_type": "code",
   "execution_count": 78,
   "metadata": {},
   "outputs": [],
   "source": [
    "def get_pred_errors(model, test_x, test_y):\n",
    "    test_pred = model.predict(test_x)\n",
    "    return np.array([mean_squared_error(test_y[i], test_pred[i]) for i in range(len(test_y))])"
   ]
  },
  {
   "cell_type": "code",
   "execution_count": 85,
   "metadata": {},
   "outputs": [],
   "source": [
    "def eval_model(errors, attack_levels, th_int=0.1):\n",
    "    err_normalized = normalize_1d(errors)\n",
    "    thresholds = np.arange(0.5*th_int,1,th_int)\n",
    "    print(\"corr: \", np.corrcoef(err_normalized, attack_levels))\n",
    "    attack_th = np.array([1 if i>0.2 else 0 for i in attack_levels])\n",
    "    \n",
    "    normal_err = np.array([err_normalized[i] for i in range(len(err_normalized)) if attack_th[i]==0])\n",
    "    anomaly_err = np.array([err_normalized[i] for i in range(len(err_normalized)) if attack_th[i]==1])\n",
    "    print(\"normal_err: \", pd.Series(normal_err).describe())\n",
    "    print(\"anomaly_err:\", pd.Series(anomaly_err).describe())\n",
    "    \n",
    "    \n",
    "    res = {\"pre\":np.zeros((len(thresholds))), \"rec\":np.zeros((len(thresholds))), \"F1\":np.zeros((len(thresholds)))}\n",
    "    for i in range(len(thresholds)):\n",
    "        th = thresholds[i]\n",
    "        #print(\"Threshold = \", th)\n",
    "        err_thd = np.array([1 if i >th else 0 for i in err_normalized])\n",
    "        pre, rec, F1=get_eval(attack_th, err_thd)\n",
    "        res[\"pre\"][i]=pre\n",
    "        res[\"rec\"][i] = rec\n",
    "        res[\"F1\"][i] = F1\n",
    "    plt.subplot(1,3,1)\n",
    "    plt.plot(thresholds, res[\"pre\"])\n",
    "    plt.xlabel(\"threshold\")\n",
    "    plt.ylabel(\"pre\")\n",
    "    plt.title(\"pre\")\n",
    "    \n",
    "    plt.subplot(1,3,2)\n",
    "    plt.plot(thresholds, res[\"rec\"])\n",
    "    plt.xlabel(\"threshold\")\n",
    "    plt.ylabel(\"rec\")\n",
    "    plt.title(\"rec\")\n",
    "    \n",
    "    plt.subplot(1,3,3)\n",
    "    plt.plot(thresholds, res[\"F1\"])\n",
    "    plt.xlabel(\"threshold\")\n",
    "    plt.ylabel(\"F1\")\n",
    "    plt.title(\"F1\")\n",
    "    return res"
   ]
  },
  {
   "cell_type": "code",
   "execution_count": 87,
   "metadata": {},
   "outputs": [
    {
     "name": "stdout",
     "output_type": "stream",
     "text": [
      "data_dim: 3690\n",
      "Epoch 1/5\n",
      "10000/10000 [==============================] - 41s 4ms/sample - loss: 0.4328 - mean_squared_error: 0.4328\n",
      "Epoch 2/5\n",
      "10000/10000 [==============================] - 39s 4ms/sample - loss: 0.4328 - mean_squared_error: 0.4328\n",
      "Epoch 3/5\n",
      "10000/10000 [==============================] - 40s 4ms/sample - loss: 0.4328 - mean_squared_error: 0.4328\n",
      "Epoch 4/5\n",
      "10000/10000 [==============================] - 40s 4ms/sample - loss: 0.4328 - mean_squared_error: 0.4328\n",
      "Epoch 5/5\n",
      "10000/10000 [==============================] - 39s 4ms/sample - loss: 0.4328 - mean_squared_error: 0.4328\n"
     ]
    },
    {
     "data": {
      "text/plain": [
       "<tensorflow.python.keras.callbacks.History at 0x1ec5ce787c8>"
      ]
     },
     "execution_count": 87,
     "metadata": {},
     "output_type": "execute_result"
    }
   ],
   "source": [
    "data_dim = sample_size * dimension\n",
    "print(\"data_dim:\", data_dim)\n",
    "\n",
    "model3 = tf.keras.models.Sequential([\n",
    "    tf.keras.layers.Flatten(input_shape=(sample_size,dimension)),\n",
    "    tf.keras.layers.Dense(800, activation=tf.nn.relu),\n",
    "    \n",
    "    tf.keras.layers.Dense(400, activation=tf.nn.relu),\n",
    "    #tf.keras.layers.Dense(50, activation=tf.nn.relu),\n",
    "    \n",
    "    tf.keras.layers.Dense(400, activation=tf.nn.relu),\n",
    "    tf.keras.layers.Dense(800, activation=tf.nn.relu),\n",
    "    tf.keras.layers.Dense(sample_size*dimension, activation=tf.nn.softmax)\n",
    "])\n",
    "#adam = tf.keras.optimizers.Adam(lr=0.001, decay=1e-6)\n",
    "model3.compile(optimizer=\"Adam\",\n",
    "              loss=tf.keras.losses.mean_squared_error,\n",
    "               metrics=[\"mse\"])\n",
    "model3.fit(train_x, train_y, epochs=5)\n",
    "\n"
   ]
  },
  {
   "cell_type": "code",
   "execution_count": 89,
   "metadata": {},
   "outputs": [
    {
     "name": "stdout",
     "output_type": "stream",
     "text": [
      "Epoch 1/5\n",
      "10000/10000 [==============================] - 40s 4ms/sample - loss: 0.4328 - mean_squared_error: 0.4328\n",
      "Epoch 2/5\n",
      "10000/10000 [==============================] - 41s 4ms/sample - loss: 0.4328 - mean_squared_error: 0.4328\n",
      "Epoch 3/5\n",
      "10000/10000 [==============================] - 41s 4ms/sample - loss: 0.4328 - mean_squared_error: 0.4328\n",
      "Epoch 4/5\n",
      "10000/10000 [==============================] - 39s 4ms/sample - loss: 0.4328 - mean_squared_error: 0.4328\n",
      "Epoch 5/5\n",
      "10000/10000 [==============================] - 41s 4ms/sample - loss: 0.4328 - mean_squared_error: 0.4328\n"
     ]
    },
    {
     "data": {
      "text/plain": [
       "<tensorflow.python.keras.callbacks.History at 0x1ec5c5ce108>"
      ]
     },
     "execution_count": 89,
     "metadata": {},
     "output_type": "execute_result"
    }
   ],
   "source": [
    "adam = tf.keras.optimizers.Adam(lr=0.001, decay=1e-6)\n",
    "model3.compile(optimizer=\"Adam\",\n",
    "              loss=tf.keras.losses.mean_squared_error,\n",
    "               metrics=[\"mse\"])\n",
    "model3.fit(train_x, train_y, epochs=5)"
   ]
  },
  {
   "cell_type": "code",
   "execution_count": 90,
   "metadata": {},
   "outputs": [
    {
     "name": "stdout",
     "output_type": "stream",
     "text": [
      "corr:  [[1.        0.1627779]\n",
      " [0.1627779 1.       ]]\n",
      "normal_err:  count    135.000000\n",
      "mean       0.500674\n",
      "std        0.229256\n",
      "min        0.000000\n",
      "25%        0.329543\n",
      "50%        0.542079\n",
      "75%        0.679954\n",
      "max        0.904726\n",
      "dtype: float64\n",
      "anomaly_err: count    60.000000\n",
      "mean      0.582413\n",
      "std       0.250342\n",
      "min       0.180899\n",
      "25%       0.336266\n",
      "50%       0.607435\n",
      "75%       0.755195\n",
      "max       1.000000\n",
      "dtype: float64\n"
     ]
    },
    {
     "data": {
      "image/png": "[encoded data removed]",
      "text/plain": [
       "<Figure size 432x288 with 3 Axes>"
      ]
     },
     "metadata": {
      "needs_background": "light"
     },
     "output_type": "display_data"
    }
   ],
   "source": [
    "eval_model(get_pred_errors(model3, test_x, test_y), test_attack_level, th_int=0.01);"
   ]
  },
  {
   "cell_type": "code",
   "execution_count": 88,
   "metadata": {},
   "outputs": [
    {
     "name": "stdout",
     "output_type": "stream",
     "text": [
      "corr:  [[1.         0.16277434]\n",
      " [0.16277434 1.        ]]\n",
      "normal_err:  count    135.000000\n",
      "mean       0.500673\n",
      "std        0.229255\n",
      "min        0.000000\n",
      "25%        0.329543\n",
      "50%        0.542079\n",
      "75%        0.679953\n",
      "max        0.904727\n",
      "dtype: float64\n",
      "anomaly_err: count    60.000000\n",
      "mean      0.582410\n",
      "std       0.250341\n",
      "min       0.180900\n",
      "25%       0.336266\n",
      "50%       0.607426\n",
      "75%       0.755189\n",
      "max       1.000000\n",
      "dtype: float64\n"
     ]
    },
    {
     "data": {
      "image/png": "[encoded data removed]",
      "text/plain": [
       "<Figure size 432x288 with 3 Axes>"
      ]
     },
     "metadata": {
      "needs_background": "light"
     },
     "output_type": "display_data"
    }
   ],
   "source": [
    "eval_model(get_pred_errors(model3, test_x, test_y), test_attack_level, th_int=0.01);\n"
   ]
  },
  {
   "cell_type": "code",
   "execution_count": null,
   "metadata": {},
   "outputs": [
    {
     "name": "stdout",
     "output_type": "stream",
     "text": [
      "data_dim: 3690\n",
      "Epoch 1/5\n",
      " 7136/10000 [====================>.........] - ETA: 50s - loss: 0.4328 - mean_squared_error: 0.4328"
     ]
    }
   ],
   "source": [
    "data_dim = sample_size * dimension\n",
    "print(\"data_dim:\", data_dim)\n",
    "\n",
    "model3 = tf.keras.models.Sequential([\n",
    "    tf.keras.layers.Flatten(input_shape=(sample_size,dimension)),\n",
    "    #tf.keras.layers.Dense(800, activation=tf.nn.relu),\n",
    "    \n",
    "    #tf.keras.layers.Dense(400, activation=tf.nn.relu),\n",
    "    #tf.keras.layers.Dense(50, activation=tf.nn.relu),\n",
    "    \n",
    "    #tf.keras.layers.Dense(400, activation=tf.nn.relu),\n",
    "    #tf.keras.layers.Dense(, activation=tf.nn.relu),\n",
    "    tf.keras.layers.Dense(sample_size*dimension, activation=tf.nn.softmax)\n",
    "])\n",
    "#adam = tf.keras.optimizers.Adam(lr=0.001, decay=1e-6)\n",
    "model3.compile(optimizer=\"Adam\",\n",
    "              loss=tf.keras.losses.mean_squared_error,\n",
    "               metrics=[\"mse\"])\n",
    "model3.fit(train_x, train_y, epochs=5)"
   ]
  },
  {
   "cell_type": "code",
   "execution_count": null,
   "metadata": {},
   "outputs": [],
   "source": []
  }
 ],
 "metadata": {
  "kernelspec": {
   "display_name": "Python 3",
   "language": "python",
   "name": "python3"
  },
  "language_info": {
   "codemirror_mode": {
    "name": "ipython",
    "version": 3
   },
   "file_extension": ".py",
   "mimetype": "text/x-python",
   "name": "python",
   "nbconvert_exporter": "python",
   "pygments_lexer": "ipython3",
   "version": "3.7.4"
  }
 },
 "nbformat": 4,
 "nbformat_minor": 2
}
