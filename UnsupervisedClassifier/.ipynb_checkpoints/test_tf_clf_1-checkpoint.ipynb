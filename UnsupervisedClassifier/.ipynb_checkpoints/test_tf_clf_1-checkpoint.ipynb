{
 "cells": [
  {
   "cell_type": "code",
   "execution_count": 1,
   "metadata": {},
   "outputs": [
    {
     "name": "stderr",
     "output_type": "stream",
     "text": [
      "d:\\install\\anaconda3\\envs\\anomaly\\lib\\site-packages\\tensorflow\\python\\framework\\dtypes.py:526: FutureWarning: Passing (type, 1) or '1type' as a synonym of type is deprecated; in a future version of numpy, it will be understood as (type, (1,)) / '(1,)type'.\n",
      "  _np_qint8 = np.dtype([(\"qint8\", np.int8, 1)])\n",
      "d:\\install\\anaconda3\\envs\\anomaly\\lib\\site-packages\\tensorflow\\python\\framework\\dtypes.py:527: FutureWarning: Passing (type, 1) or '1type' as a synonym of type is deprecated; in a future version of numpy, it will be understood as (type, (1,)) / '(1,)type'.\n",
      "  _np_quint8 = np.dtype([(\"quint8\", np.uint8, 1)])\n",
      "d:\\install\\anaconda3\\envs\\anomaly\\lib\\site-packages\\tensorflow\\python\\framework\\dtypes.py:528: FutureWarning: Passing (type, 1) or '1type' as a synonym of type is deprecated; in a future version of numpy, it will be understood as (type, (1,)) / '(1,)type'.\n",
      "  _np_qint16 = np.dtype([(\"qint16\", np.int16, 1)])\n",
      "d:\\install\\anaconda3\\envs\\anomaly\\lib\\site-packages\\tensorflow\\python\\framework\\dtypes.py:529: FutureWarning: Passing (type, 1) or '1type' as a synonym of type is deprecated; in a future version of numpy, it will be understood as (type, (1,)) / '(1,)type'.\n",
      "  _np_quint16 = np.dtype([(\"quint16\", np.uint16, 1)])\n",
      "d:\\install\\anaconda3\\envs\\anomaly\\lib\\site-packages\\tensorflow\\python\\framework\\dtypes.py:530: FutureWarning: Passing (type, 1) or '1type' as a synonym of type is deprecated; in a future version of numpy, it will be understood as (type, (1,)) / '(1,)type'.\n",
      "  _np_qint32 = np.dtype([(\"qint32\", np.int32, 1)])\n",
      "d:\\install\\anaconda3\\envs\\anomaly\\lib\\site-packages\\tensorflow\\python\\framework\\dtypes.py:535: FutureWarning: Passing (type, 1) or '1type' as a synonym of type is deprecated; in a future version of numpy, it will be understood as (type, (1,)) / '(1,)type'.\n",
      "  np_resource = np.dtype([(\"resource\", np.ubyte, 1)])\n"
     ]
    }
   ],
   "source": [
    "import numpy as np\n",
    "from sklearn.decomposition import PCA\n",
    "import pandas as pd\n",
    "import matplotlib.pyplot as plt\n",
    "import tensorflow as tf\n",
    "from sklearn.metrics import mean_squared_error\n",
    "from sklearn.preprocessing import normalize\n",
    "from scipy import interpolate\n",
    "import json"
   ]
  },
  {
   "cell_type": "code",
   "execution_count": 2,
   "metadata": {},
   "outputs": [],
   "source": [
    "normal_pc = np.load(\"../../data/WADI/normal_pc4.npy\")\n",
    "anomaly_pc = np.load(\"../../data/WADI/anomaly_pc4.npy\")"
   ]
  },
  {
   "cell_type": "code",
   "execution_count": 3,
   "metadata": {},
   "outputs": [],
   "source": [
    "X_train = np.concatenate((normal_pc, anomaly_pc[:, :-1]))"
   ]
  },
  {
   "cell_type": "code",
   "execution_count": 4,
   "metadata": {},
   "outputs": [],
   "source": [
    "y_train = np.concatenate((np.zeros(len(normal_pc)), np.ones(len(anomaly_pc))))"
   ]
  },
  {
   "cell_type": "code",
   "execution_count": 36,
   "metadata": {},
   "outputs": [
    {
     "data": {
      "text/plain": [
       "count    2.764800e+05\n",
       "mean     6.914396e+05\n",
       "std      3.987706e+05\n",
       "min      3.000000e+00\n",
       "25%      3.470552e+05\n",
       "50%      6.910885e+05\n",
       "75%      1.037253e+06\n",
       "max      1.382389e+06\n",
       "dtype: float64"
      ]
     },
     "execution_count": 36,
     "metadata": {},
     "output_type": "execute_result"
    }
   ],
   "source": [
    "random_index = np.random.choice(len(normal_pc)+len(anomaly_pc), (len(normal_pc)+len(anomaly_pc))//5).astype(\"int\")\n",
    "pd.Series(random_index).describe()"
   ]
  },
  {
   "cell_type": "code",
   "execution_count": 38,
   "metadata": {},
   "outputs": [],
   "source": [
    "attack_index = anomaly_pc[:,-1]==1"
   ]
  },
  {
   "cell_type": "code",
   "execution_count": 12,
   "metadata": {},
   "outputs": [],
   "source": [
    "def get_eval(ground_truth, pred_val):\n",
    "    assert ground_truth.shape == pred_val.shape\n",
    "    TP, FP, TN, FN = 0,0,0,0\n",
    "    gth = ground_truth.ravel()\n",
    "    pred = pred_val.ravel()\n",
    "    for i in range(len(gth)):\n",
    "        if(gth[i] >0.5):\n",
    "            if(pred[i]>0.5):\n",
    "                TP+=1\n",
    "            elif(pred[i]<=0.5):\n",
    "                FN +=1\n",
    "        elif(gth[i]<=0.5):\n",
    "            if(pred[i]>0.5):\n",
    "                FP +=1\n",
    "            elif(pred[i]<=0.5):\n",
    "                TN+=1\n",
    "    if(TP==0 or FP==0 or FN==0):\n",
    "        #print(\"someone=0, TP=\", TP, \" FP=\", FP, \", FN=\",FN)\n",
    "        return (0,0,0)\n",
    "    pre = TP/(TP+FP)\n",
    "    rec = TP/(TP+FN)\n",
    "    F1 = 2*pre*rec/(pre+rec)\n",
    "    #print(\"pre: \", pre, \";  rec: \", rec, \"; F1: \", F1)\n",
    "    return (pre, rec, F1)    "
   ]
  },
  {
   "cell_type": "code",
   "execution_count": 41,
   "metadata": {},
   "outputs": [
    {
     "name": "stdout",
     "output_type": "stream",
     "text": [
      "Epoch 1/5\n",
      "276480/276480 [==============================] - 19s 70us/sample - loss: 13.9517 - binary_accuracy: 0.1249\n",
      "Epoch 2/5\n",
      "276480/276480 [==============================] - 20s 71us/sample - loss: 13.9517 - binary_accuracy: 0.1249\n",
      "Epoch 3/5\n",
      "276480/276480 [==============================] - 19s 69us/sample - loss: 13.9517 - binary_accuracy: 0.1249\n",
      "Epoch 4/5\n",
      "276480/276480 [==============================] - 19s 69us/sample - loss: 13.9517 - binary_accuracy: 0.1249\n",
      "Epoch 5/5\n",
      "276480/276480 [==============================] - 19s 70us/sample - loss: 13.9517 - binary_accuracy: 0.1249\n"
     ]
    },
    {
     "data": {
      "text/plain": [
       "<tensorflow.python.keras.callbacks.History at 0x2cdee091a08>"
      ]
     },
     "execution_count": 41,
     "metadata": {},
     "output_type": "execute_result"
    }
   ],
   "source": [
    "model1 = tf.keras.models.Sequential([\n",
    "    #tf.keras.layers.Flatten(input_shape=(sample_size,dimension)),\n",
    "    tf.keras.layers.Dense(X_train.shape[1],input_dim=X_train.shape[1], activation=tf.nn.relu),\n",
    "    \n",
    "    tf.keras.layers.Dense(100, activation=tf.nn.relu),\n",
    "    tf.keras.layers.Dense(200, activation=tf.nn.relu),\n",
    "    \n",
    "    tf.keras.layers.Dense(100, activation=tf.nn.relu),\n",
    "    tf.keras.layers.Dense(40, activation=tf.nn.relu),\n",
    "    tf.keras.layers.Dense(10, activation=tf.nn.relu),\n",
    "    #tf.keras.layers.Dense(sample_size*dimension, activation=tf.nn.softmax), \n",
    "    tf.keras.layers.Dense(1, activation=tf.nn.softmax)\n",
    "])\n",
    "#adam = tf.keras.optimizers.Adam(lr=0.001, decay=1e-6)\n",
    "model1.compile(optimizer=\"Adam\",\n",
    "              loss=tf.keras.losses.binary_crossentropy,\n",
    "               metrics=[tf.keras.metrics.BinaryAccuracy(), \"accuracy\"])\n",
    "model1.fit(X_train[random_index,:], y_train[random_index], epochs=5)"
   ]
  },
  {
   "cell_type": "code",
   "execution_count": 44,
   "metadata": {},
   "outputs": [
    {
     "name": "stdout",
     "output_type": "stream",
     "text": [
      "Epoch 1/5\n",
      "276480/276480 [==============================] - 12s 45us/sample - loss: 13.9517 - binary_accuracy: 0.1249 - acc: 0.1249\n",
      "Epoch 2/5\n",
      "276480/276480 [==============================] - 12s 43us/sample - loss: 13.9517 - binary_accuracy: 0.1249 - acc: 0.1249\n",
      "Epoch 3/5\n",
      "276480/276480 [==============================] - 12s 42us/sample - loss: 13.9517 - binary_accuracy: 0.1249 - acc: 0.1249\n",
      "Epoch 4/5\n",
      "276480/276480 [==============================] - 12s 43us/sample - loss: 13.9517 - binary_accuracy: 0.1249 - acc: 0.1249\n",
      "Epoch 5/5\n",
      "276480/276480 [==============================] - 12s 43us/sample - loss: 13.9517 - binary_accuracy: 0.1249 - acc: 0.1249\n"
     ]
    },
    {
     "data": {
      "text/plain": [
       "<tensorflow.python.keras.callbacks.History at 0x2cd84896bc8>"
      ]
     },
     "execution_count": 44,
     "metadata": {},
     "output_type": "execute_result"
    }
   ],
   "source": [
    "model2 = tf.keras.models.Sequential([\n",
    "    #tf.keras.layers.Flatten(input_shape=(sample_size,dimension)),\n",
    "    tf.keras.layers.Dense(X_train.shape[1],input_dim=X_train.shape[1], activation=tf.nn.relu),\n",
    "    \n",
    "    #tf.keras.layers.Dense(100, activation=tf.nn.relu),\n",
    "    #tf.keras.layers.Dense(200, activation=tf.nn.relu),\n",
    "    \n",
    "    #tf.keras.layers.Dense(100, activation=tf.nn.relu),\n",
    "   # tf.keras.layers.Dense(40, activation=tf.nn.relu),\n",
    "    tf.keras.layers.Dense(10, activation=tf.nn.relu),\n",
    "    #tf.keras.layers.Dense(sample_size*dimension, activation=tf.nn.softmax), \n",
    "    tf.keras.layers.Dense(1, activation=tf.nn.softmax)\n",
    "])\n",
    "#adam = tf.keras.optimizers.Adam(lr=0.001, decay=1e-6)\n",
    "model2.compile(optimizer=\"Adam\",\n",
    "              loss=tf.keras.losses.binary_crossentropy,\n",
    "               metrics=[tf.keras.metrics.BinaryAccuracy(), \"accuracy\"])\n",
    "model2.fit(X_train[random_index,:], y_train[random_index], epochs=5)"
   ]
  },
  {
   "cell_type": "code",
   "execution_count": 45,
   "metadata": {},
   "outputs": [
    {
     "name": "stdout",
     "output_type": "stream",
     "text": [
      "WARNING:tensorflow:From d:\\install\\anaconda3\\envs\\anomaly\\lib\\site-packages\\tensorflow\\python\\keras\\layers\\core.py:143: calling dropout (from tensorflow.python.ops.nn_ops) with keep_prob is deprecated and will be removed in a future version.\n",
      "Instructions for updating:\n",
      "Please use `rate` instead of `keep_prob`. Rate should be set to `rate = 1 - keep_prob`.\n",
      "Epoch 1/5\n",
      "276480/276480 [==============================] - 28s 102us/sample - loss: 13.9517 - binary_accuracy: 0.1249 - acc: 0.1249\n",
      "Epoch 2/5\n",
      "276480/276480 [==============================] - 28s 102us/sample - loss: 13.9517 - binary_accuracy: 0.1249 - acc: 0.1249\n",
      "Epoch 3/5\n",
      "276480/276480 [==============================] - 29s 106us/sample - loss: 13.9517 - binary_accuracy: 0.1249 - acc: 0.1249\n",
      "Epoch 4/5\n",
      "276480/276480 [==============================] - 30s 109us/sample - loss: 13.9517 - binary_accuracy: 0.1249 - acc: 0.1249\n",
      "Epoch 5/5\n",
      "276480/276480 [==============================] - 31s 113us/sample - loss: 13.9517 - binary_accuracy: 0.1249 - acc: 0.1249\n"
     ]
    },
    {
     "data": {
      "text/plain": [
       "<tensorflow.python.keras.callbacks.History at 0x2cd84393148>"
      ]
     },
     "execution_count": 45,
     "metadata": {},
     "output_type": "execute_result"
    }
   ],
   "source": [
    "model1 = tf.keras.models.Sequential([\n",
    "    #tf.keras.layers.Flatten(input_shape=(sample_size,dimension)),\n",
    "    tf.keras.layers.Dense(X_train.shape[1],input_dim=X_train.shape[1], activation=tf.nn.relu),\n",
    "    tf.keras.layers.Dropout(0.2), \n",
    "    tf.keras.layers.Dense(100, activation=tf.nn.relu),\n",
    "     tf.keras.layers.Dropout(0.2), \n",
    "    tf.keras.layers.Dense(200, activation=tf.nn.relu),\n",
    "     tf.keras.layers.Dropout(0.2), \n",
    "    tf.keras.layers.Dense(100, activation=tf.nn.relu),\n",
    "         tf.keras.layers.Dropout(0.2), \n",
    "    tf.keras.layers.Dense(40, activation=tf.nn.relu),\n",
    "     tf.keras.layers.Dropout(0.2), \n",
    "    tf.keras.layers.Dense(10, activation=tf.nn.relu),\n",
    "    #tf.keras.layers.Dense(sample_size*dimension, activation=tf.nn.softmax), \n",
    "    tf.keras.layers.Dense(1, activation=tf.nn.softmax)\n",
    "])\n",
    "#adam = tf.keras.optimizers.Adam(lr=0.001, decay=1e-6)\n",
    "model1.compile(optimizer=\"Adam\",\n",
    "              loss=tf.keras.losses.binary_crossentropy,\n",
    "               metrics=[tf.keras.metrics.BinaryAccuracy(), \"accuracy\"])\n",
    "model1.fit(X_train[random_index,:], y_train[random_index], epochs=5)"
   ]
  },
  {
   "cell_type": "code",
   "execution_count": 46,
   "metadata": {},
   "outputs": [
    {
     "name": "stdout",
     "output_type": "stream",
     "text": [
      "Epoch 1/5\n",
      "276480/276480 [==============================] - 30s 109us/sample - loss: 0.0573 - binary_accuracy: 0.9775 - acc: 0.9775\n",
      "Epoch 2/5\n",
      "276480/276480 [==============================] - 30s 108us/sample - loss: 0.0143 - binary_accuracy: 0.9951 - acc: 0.9951\n",
      "Epoch 3/5\n",
      "276480/276480 [==============================] - 30s 110us/sample - loss: 0.0101 - binary_accuracy: 0.9967 - acc: 0.9967\n",
      "Epoch 4/5\n",
      "276480/276480 [==============================] - 30s 108us/sample - loss: 0.0079 - binary_accuracy: 0.9973 - acc: 0.9973\n",
      "Epoch 5/5\n",
      "276480/276480 [==============================] - 31s 111us/sample - loss: 0.0072 - binary_accuracy: 0.9977 - acc: 0.9977\n"
     ]
    },
    {
     "data": {
      "text/plain": [
       "<tensorflow.python.keras.callbacks.History at 0x2cd85ee9988>"
      ]
     },
     "execution_count": 46,
     "metadata": {},
     "output_type": "execute_result"
    }
   ],
   "source": [
    "model_deep_dropout_sigmoid = tf.keras.models.Sequential([\n",
    "    #tf.keras.layers.Flatten(input_shape=(sample_size,dimension)),\n",
    "    tf.keras.layers.Dense(X_train.shape[1],input_dim=X_train.shape[1], activation=tf.nn.relu),\n",
    "    tf.keras.layers.Dropout(0.2), \n",
    "    tf.keras.layers.Dense(100, activation=tf.nn.relu),\n",
    "     tf.keras.layers.Dropout(0.2), \n",
    "    tf.keras.layers.Dense(200, activation=tf.nn.relu),\n",
    "     tf.keras.layers.Dropout(0.2), \n",
    "    tf.keras.layers.Dense(100, activation=tf.nn.relu),\n",
    "         tf.keras.layers.Dropout(0.2), \n",
    "    tf.keras.layers.Dense(40, activation=tf.nn.relu),\n",
    "     tf.keras.layers.Dropout(0.2), \n",
    "    tf.keras.layers.Dense(10, activation=tf.nn.relu),\n",
    "    #tf.keras.layers.Dense(sample_size*dimension, activation=tf.nn.softmax), \n",
    "    tf.keras.layers.Dense(1, activation=tf.nn.sigmoid)\n",
    "])\n",
    "#adam = tf.keras.optimizers.Adam(lr=0.001, decay=1e-6)\n",
    "model_deep_dropout_sigmoid.compile(optimizer=\"Adam\",\n",
    "              loss=tf.keras.losses.binary_crossentropy,\n",
    "               metrics=[tf.keras.metrics.BinaryAccuracy(), \"accuracy\"])\n",
    "model_deep_dropout_sigmoid.fit(X_train[random_index,:], y_train[random_index], epochs=5)"
   ]
  },
  {
   "cell_type": "code",
   "execution_count": 50,
   "metadata": {},
   "outputs": [
    {
     "name": "stdout",
     "output_type": "stream",
     "text": [
      "y_pred.shape (1382402,)\n"
     ]
    }
   ],
   "source": [
    "y_pred = model_deep_dropout_sigmoid.predict(X_train).ravel()\n",
    "\n",
    "print(\"y_pred.shape\", y_pred.shape)"
   ]
  },
  {
   "cell_type": "code",
   "execution_count": 51,
   "metadata": {},
   "outputs": [
    {
     "data": {
      "text/plain": [
       "[<matplotlib.lines.Line2D at 0x2cd8f504c88>]"
      ]
     },
     "execution_count": 51,
     "metadata": {},
     "output_type": "execute_result"
    },
    {
     "data": {
      "image/png": "[encoded data removed]",
      "text/plain": [
       "<Figure size 432x288 with 1 Axes>"
      ]
     },
     "metadata": {
      "needs_background": "light"
     },
     "output_type": "display_data"
    }
   ],
   "source": [
    "plt.plot(y_pred)"
   ]
  },
  {
   "cell_type": "code",
   "execution_count": 55,
   "metadata": {},
   "outputs": [],
   "source": [
    "def eval_model(model):\n",
    "    \n",
    "    print(\"clf mean on 14days\", 1 - np.mean(y_pred[:normal_pc.shape[0]]))\n",
    "    print(\"corr on 2days\", np.corrcoef(y_pred[normal_pc.shape[0]:], anomaly_pc[:,-1]))\n",
    "    res = {}\n",
    "    res[\"F1\"]=[]\n",
    "    res[\"rec\"]=[]\n",
    "    res[\"pre\"]=[]\n",
    "    for th in np.arange(0.01,1,0.1):\n",
    "        y_pred_th = np.array([1 if y_pred[i] > th else 0 for i in \\\n",
    "                     range(len(y_pred))])\n",
    "        print(\"On 14days:\", 1 - np.mean(y_pred_th[:normal_pc.shape[0]]))\n",
    "        pre,rec,f1 = get_eval(np.array(y_pred_th[normal_pc.shape[0]:]), anomaly_pc[:,-1])\n",
    "        res[\"F1\"].append(f1)\n",
    "        res[\"rec\"].append(rec)\n",
    "        res[\"pre\"].append(pre)\n",
    "    return res\n",
    "        "
   ]
  },
  {
   "cell_type": "code",
   "execution_count": 56,
   "metadata": {},
   "outputs": [
    {
     "name": "stdout",
     "output_type": "stream",
     "text": [
      "clf mean on 14days 0.9988376628607512\n",
      "corr on 2days [[ 1.         -0.03301684]\n",
      " [-0.03301684  1.        ]]\n",
      "On 14days: 0.9964442820401107\n",
      "On 14days: 0.9979993402783232\n",
      "On 14days: 0.9983316812734117\n",
      "On 14days: 0.9985524152179107\n",
      "On 14days: 0.9987326399366403\n",
      "On 14days: 0.9989492402866731\n",
      "On 14days: 0.999150132977734\n",
      "On 14days: 0.9993138233185984\n",
      "On 14days: 0.9994766869405697\n",
      "On 14days: 0.9997569446453831\n",
      "0.11343408070764606\n"
     ]
    }
   ],
   "source": [
    "res = eval_model(model1)\n",
    "print(np.max(res[\"F1\"]))"
   ]
  },
  {
   "cell_type": "code",
   "execution_count": null,
   "metadata": {},
   "outputs": [],
   "source": []
  }
 ],
 "metadata": {
  "kernelspec": {
   "display_name": "Python 3",
   "language": "python",
   "name": "python3"
  },
  "language_info": {
   "codemirror_mode": {
    "name": "ipython",
    "version": 3
   },
   "file_extension": ".py",
   "mimetype": "text/x-python",
   "name": "python",
   "nbconvert_exporter": "python",
   "pygments_lexer": "ipython3",
   "version": "3.7.4"
  }
 },
 "nbformat": 4,
 "nbformat_minor": 2
}
