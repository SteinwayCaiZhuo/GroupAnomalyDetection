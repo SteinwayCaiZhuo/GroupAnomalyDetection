{
 "cells": [
  {
   "cell_type": "code",
   "execution_count": 1,
   "metadata": {},
   "outputs": [],
   "source": [
    "import numpy as np\n",
    "from sklearn.decomposition import PCA\n",
    "import pandas as pd\n",
    "import matplotlib.pyplot as plt\n",
    "import tensorflow as tf\n",
    "from sklearn.metrics import mean_squared_error\n",
    "from sklearn.preprocessing import normalize\n",
    "from scipy import interpolate\n",
    "import json"
   ]
  },
  {
   "cell_type": "code",
   "execution_count": 2,
   "metadata": {},
   "outputs": [],
   "source": [
    "normal_pc = np.load(\"../../data/WADI/normal_pc4.npy\")\n",
    "anomaly_pc = np.load(\"../../data/WADI/anomaly_pc4.npy\")"
   ]
  },
  {
   "cell_type": "code",
   "execution_count": 3,
   "metadata": {},
   "outputs": [],
   "source": [
    "def interp_1darray(data):\n",
    "    assert len(data.shape)==1, \"data is not 1d\"\n",
    "    num_index = [i for i in range(len(data)) if not np.isnan(data[i])]\n",
    "    f= interpolate.interp1d(num_index, data[num_index])\n",
    "    data_new = f(range(len(data)))\n",
    "    return data_new\n",
    "    \n",
    "def interp_2darray(data):\n",
    "    assert len(data.shape)==2,\" data is not 2d \"\n",
    "    new_data = data.copy().T\n",
    "    for i in range(len(new_data)):\n",
    "        if(np.sum(np.isnan(new_data[i]))>0):\n",
    "            new_data[i] = interp_1darray(new_data[i])\n",
    "    new_data = new_data.T\n",
    "    return new_data\n",
    "    \n",
    "def normalize_1d(data):\n",
    "    new_data = data.copy()\n",
    "    min_ = min(new_data)\n",
    "    max_ = max(new_data)\n",
    "    if(max_-min_==0):\n",
    "        new_data = np.ones(new_data.shape,dtype=\"double\") \n",
    "    #print(data)\n",
    "    else:\n",
    "        new_data= (new_data-min_)/(max_-min_)\n",
    "    #print(data)\n",
    "    return new_data\n",
    "\n",
    "def normalize_2d(data, axis = 1):\n",
    "    new_data = data.copy()\n",
    "    if(axis == 0):\n",
    "        new_data = new_data.T\n",
    "    #print(data.shape)\n",
    "    for i in range(len(new_data)):\n",
    "        new_data[i] = normalize_1d(new_data[i])\n",
    "    if(axis == 0):\n",
    "        new_data = new_data.T\n",
    "        \n",
    "    return new_data"
   ]
  },
  {
   "cell_type": "code",
   "execution_count": 4,
   "metadata": {},
   "outputs": [
    {
     "name": "stdout",
     "output_type": "stream",
     "text": [
      "train_sample_step:  20 , train_size:  60478\n"
     ]
    }
   ],
   "source": [
    "normal_len = len(normal_pc)\n",
    "anomaly_len = len(anomaly_pc)\n",
    "dimension = normal_pc.shape[1]\n",
    "sample_size = 30\n",
    "\n",
    "# Train\n",
    "train_sample_step = 20\n",
    "train_size = (normal_len-sample_size)//train_sample_step\n",
    "print(\"train_sample_step: \", train_sample_step, \", train_size: \", train_size)\n",
    "\n",
    "train_x = np.zeros((train_size, sample_size, dimension), dtype=\"double\")\n",
    "for i in range(train_size):\n",
    "    train_x[i, :, :] = normal_pc\\\n",
    "    [i*train_sample_step: (i*train_sample_step+sample_size), :]\n",
    "train_y = np.zeros((train_size, sample_size*dimension), dtype = \"double\")\n",
    "for i in range(train_size):\n",
    "    train_y[i] = train_x[i,:,:].ravel()"
   ]
  },
  {
   "cell_type": "code",
   "execution_count": 5,
   "metadata": {},
   "outputs": [
    {
     "name": "stdout",
     "output_type": "stream",
     "text": [
      "test_sample_step:  2\n"
     ]
    }
   ],
   "source": [
    "test_sample_step=2\n",
    "test_size = (anomaly_len-sample_size)//test_sample_step\n",
    "print(\"test_sample_step: \", test_sample_step)\n",
    "test_index = np.array([i*test_sample_step for i in range(test_size)])\n",
    "test_x = np.zeros((test_size, sample_size, dimension), dtype = \"double\")\n",
    "for i in range(test_size):\n",
    "    test_x[i,:,:] = anomaly_pc[test_index[i]:(test_index[i]+sample_size), :-1]\n",
    "test_y = np.zeros((test_size, sample_size*dimension), dtype = \"double\")\n",
    "for i in range(test_size):\n",
    "    test_y[i] = test_x[i,:,:].ravel()\n",
    "test_attack_level = np.array([np.mean(anomaly_pc\\\n",
    "                                      [i:(i+sample_size), -1]) for i in test_index])"
   ]
  },
  {
   "cell_type": "code",
   "execution_count": 6,
   "metadata": {},
   "outputs": [],
   "source": [
    "def get_eval(ground_truth, pred_val):\n",
    "    assert ground_truth.shape == pred_val.shape\n",
    "    TP, FP, TN, FN = 0,0,0,0\n",
    "    gth = ground_truth.ravel()\n",
    "    pred = pred_val.ravel()\n",
    "    for i in range(len(gth)):\n",
    "        if(gth[i] >0.5):\n",
    "            if(pred[i]>0.5):\n",
    "                TP+=1\n",
    "            elif(pred[i]<=0.5):\n",
    "                FN +=1\n",
    "        elif(gth[i]<=0.5):\n",
    "            if(pred[i]>0.5):\n",
    "                FP +=1\n",
    "            elif(pred[i]<=0.5):\n",
    "                TN+=1\n",
    "    if(TP==0 or FP==0 or FN==0):\n",
    "        #print(\"someone=0, TP=\", TP, \" FP=\", FP, \", FN=\",FN)\n",
    "        return (0,0,0)\n",
    "    pre = TP/(TP+FP)\n",
    "    rec = TP/(TP+FN)\n",
    "    F1 = 2*pre*rec/(pre+rec)\n",
    "    #print(\"pre: \", pre, \";  rec: \", rec, \"; F1: \", F1)\n",
    "    return (pre, rec, F1)    \n",
    "def get_pred_errors(model, test_x, test_y):\n",
    "    test_pred = model.predict(test_x)\n",
    "    return np.array([mean_squared_error(test_y[i], test_pred[i]) for i in range(len(test_y))])\n",
    "def eval_model(errors, attack_levels, th_int=0.1, attack_th=0.3):\n",
    "    err_normalized = normalize_1d(errors)\n",
    "    thresholds = np.arange(0.5*th_int,1,th_int)\n",
    "    print(\"corr: \", np.corrcoef(err_normalized, attack_levels))\n",
    "    attack_th = np.array([1 if i>attack_th else 0 for i in attack_levels])\n",
    "    \n",
    "    normal_err = np.array([err_normalized[i] for i in range(len(err_normalized)) if attack_th[i]==0])\n",
    "    anomaly_err = np.array([err_normalized[i] for i in range(len(err_normalized)) if attack_th[i]==1])\n",
    "    print(\"normal_err: \", pd.Series(normal_err).describe())\n",
    "    print(\"anomaly_err:\", pd.Series(anomaly_err).describe())\n",
    "    \n",
    "    \n",
    "    res = {\"th\":np.zeros((len(thresholds))),\"pre\":np.zeros((len(thresholds))), \"rec\":np.zeros((len(thresholds))), \"F1\":np.zeros((len(thresholds)))}\n",
    "    for i in range(len(thresholds)):\n",
    "        th = thresholds[i]\n",
    "        #print(\"Threshold = \", th)\n",
    "        err_thd = np.array([1 if i >th else 0 for i in err_normalized])\n",
    "        pre, rec, F1=get_eval(attack_th, err_thd)\n",
    "        res[\"th\"][i]=th\n",
    "        res[\"pre\"][i]=pre\n",
    "        res[\"rec\"][i] = rec\n",
    "        res[\"F1\"][i] = F1\n",
    "    plt.subplot(1,3,1)\n",
    "    plt.plot(thresholds, res[\"pre\"])\n",
    "    plt.xlabel(\"threshold\")\n",
    "    plt.ylabel(\"pre\")\n",
    "    plt.title(\"pre\")\n",
    "    \n",
    "    plt.subplot(1,3,2)\n",
    "    plt.plot(thresholds, res[\"rec\"])\n",
    "    plt.xlabel(\"threshold\")\n",
    "    plt.ylabel(\"rec\")\n",
    "    plt.title(\"rec\")\n",
    "    \n",
    "    plt.subplot(1,3,3)\n",
    "    plt.plot(thresholds, res[\"F1\"])\n",
    "    plt.xlabel(\"threshold\")\n",
    "    plt.ylabel(\"F1\")\n",
    "    plt.title(\"F1\")\n",
    "    return res"
   ]
  },
  {
   "cell_type": "code",
   "execution_count": 7,
   "metadata": {},
   "outputs": [
    {
     "name": "stdout",
     "output_type": "stream",
     "text": [
      "data_dim: 1200\n",
      "WARNING:tensorflow:From d:\\install\\anaconda3\\envs\\anomaly\\lib\\site-packages\\tensorflow\\python\\ops\\resource_variable_ops.py:435: colocate_with (from tensorflow.python.framework.ops) is deprecated and will be removed in a future version.\n",
      "Instructions for updating:\n",
      "Colocations handled automatically by placer.\n",
      "WARNING:tensorflow:From d:\\install\\anaconda3\\envs\\anomaly\\lib\\site-packages\\tensorflow\\python\\ops\\math_ops.py:3066: to_int32 (from tensorflow.python.ops.math_ops) is deprecated and will be removed in a future version.\n",
      "Instructions for updating:\n",
      "Use tf.cast instead.\n",
      "Epoch 1/5\n",
      "60478/60478 [==============================] - 26s 433us/sample - loss: 0.0972 - mean_squared_error: 0.0972\n",
      "Epoch 2/5\n",
      "60478/60478 [==============================] - 24s 402us/sample - loss: 0.0970 - mean_squared_error: 0.0970\n",
      "Epoch 3/5\n",
      "60478/60478 [==============================] - 25s 411us/sample - loss: 0.0970 - mean_squared_error: 0.0970\n",
      "Epoch 4/5\n",
      "60478/60478 [==============================] - 26s 432us/sample - loss: 0.0970 - mean_squared_error: 0.0970\n",
      "Epoch 5/5\n",
      "60478/60478 [==============================] - 24s 396us/sample - loss: 0.0970 - mean_squared_error: 0.0970\n"
     ]
    },
    {
     "data": {
      "text/plain": [
       "<tensorflow.python.keras.callbacks.History at 0x1b4ecd70688>"
      ]
     },
     "execution_count": 7,
     "metadata": {},
     "output_type": "execute_result"
    }
   ],
   "source": [
    "data_dim = sample_size * dimension\n",
    "print(\"data_dim:\", data_dim)\n",
    "\n",
    "model3 = tf.keras.models.Sequential([\n",
    "    tf.keras.layers.Flatten(input_shape=(sample_size,dimension)),\n",
    "    tf.keras.layers.Dense(200, activation=tf.nn.relu),\n",
    "    \n",
    "    tf.keras.layers.Dense(100, activation=tf.nn.relu),\n",
    "    tf.keras.layers.Dense(50, activation=tf.nn.relu),\n",
    "    \n",
    "    tf.keras.layers.Dense(100, activation=tf.nn.relu),\n",
    "    tf.keras.layers.Dense(400, activation=tf.nn.relu),\n",
    "    tf.keras.layers.Dense(sample_size*dimension, activation=tf.nn.softmax)\n",
    "])\n",
    "#adam = tf.keras.optimizers.Adam(lr=0.001, decay=1e-6)\n",
    "model3.compile(optimizer=\"Adam\",\n",
    "              loss=tf.keras.losses.mean_squared_error,\n",
    "               metrics=[\"mse\"])\n",
    "model3.fit(train_x, train_y, epochs=5)\n",
    "\n",
    "#res = eval_model(get_pred_errors(model3, test_x, test_y), test_attack_level, th_int=0.01)\n",
    "#print(max(res[\"F1\"])) "
   ]
  },
  {
   "cell_type": "code",
   "execution_count": 29,
   "metadata": {},
   "outputs": [
    {
     "name": "stdout",
     "output_type": "stream",
     "text": [
      "data_dim: 1200\n",
      "Epoch 1/5\n",
      "60478/60478 [==============================] - 23s 388us/sample - loss: 0.0638 - mean_squared_error: 0.0638\n",
      "Epoch 2/5\n",
      "60478/60478 [==============================] - 22s 366us/sample - loss: 0.0608 - mean_squared_error: 0.0608- loss: 0.0609 - mean_squared_error:  - ETA\n",
      "Epoch 3/5\n",
      "60478/60478 [==============================] - 23s 380us/sample - loss: 0.0597 - mean_squared_error: 0.0597- l\n",
      "Epoch 4/5\n",
      "60478/60478 [==============================] - 24s 398us/sample - loss: 0.0592 - mean_squared_error: 0.0592\n",
      "Epoch 5/5\n",
      "60478/60478 [==============================] - 26s 428us/sample - loss: 0.0585 - mean_squared_error: 0.0585\n"
     ]
    },
    {
     "data": {
      "text/plain": [
       "<tensorflow.python.keras.callbacks.History at 0x1b53428a688>"
      ]
     },
     "execution_count": 29,
     "metadata": {},
     "output_type": "execute_result"
    }
   ],
   "source": [
    "data_dim = sample_size * dimension\n",
    "print(\"data_dim:\", data_dim)\n",
    "\n",
    "# change the output layer to relu\n",
    "model1 = tf.keras.models.Sequential([\n",
    "    tf.keras.layers.Flatten(input_shape=(sample_size,dimension)),\n",
    "    tf.keras.layers.Dense(200, activation=tf.nn.relu),\n",
    "    \n",
    "    tf.keras.layers.Dense(100, activation=tf.nn.relu),\n",
    "    tf.keras.layers.Dense(50, activation=tf.nn.relu),\n",
    "    \n",
    "    tf.keras.layers.Dense(100, activation=tf.nn.relu),\n",
    "    tf.keras.layers.Dense(400, activation=tf.nn.relu),\n",
    "    tf.keras.layers.Dense(sample_size*dimension, activation=tf.nn.relu)\n",
    "])\n",
    "#adam = tf.keras.optimizers.Adam(lr=0.001, decay=1e-6)\n",
    "model1.compile(optimizer=\"Adam\",\n",
    "              loss=tf.keras.losses.mean_squared_error,\n",
    "               metrics=[\"mse\"])\n",
    "model1.fit(train_x, train_y, epochs=5)\n",
    "\n",
    "#res = eval_model(get_pred_errors(model3, test_x, test_y), test_attack_level, th_int=0.01)\n",
    "#print(max(res[\"F1\"])) "
   ]
  },
  {
   "cell_type": "code",
   "execution_count": 30,
   "metadata": {},
   "outputs": [
    {
     "name": "stdout",
     "output_type": "stream",
     "text": [
      "data_dim: 1200\n",
      "Epoch 1/5\n",
      "60478/60478 [==============================] - 67s 1ms/sample - loss: 0.0602 - mean_squared_error: 0.0602\n",
      "Epoch 2/5\n",
      "60478/60478 [==============================] - 68s 1ms/sample - loss: 0.0453 - mean_squared_error: 0.0453\n",
      "Epoch 3/5\n",
      "60478/60478 [==============================] - 67s 1ms/sample - loss: 0.0415 - mean_squared_error: 0.0415\n",
      "Epoch 4/5\n",
      "60478/60478 [==============================] - 67s 1ms/sample - loss: 0.0353 - mean_squared_error: 0.0353\n",
      "Epoch 5/5\n",
      "60478/60478 [==============================] - 68s 1ms/sample - loss: 0.0306 - mean_squared_error: 0.0306\n"
     ]
    },
    {
     "data": {
      "text/plain": [
       "<tensorflow.python.keras.callbacks.History at 0x1b543cae6c8>"
      ]
     },
     "execution_count": 30,
     "metadata": {},
     "output_type": "execute_result"
    }
   ],
   "source": [
    "data_dim = sample_size * dimension\n",
    "print(\"data_dim:\", data_dim)\n",
    "\n",
    "# change the output layer to softmax, add linear output \n",
    "model2 = tf.keras.models.Sequential([\n",
    "    tf.keras.layers.Flatten(input_shape=(sample_size,dimension)),\n",
    "    tf.keras.layers.Dense(200, activation=tf.nn.relu),\n",
    "    \n",
    "    tf.keras.layers.Dense(100, activation=tf.nn.relu),\n",
    "    tf.keras.layers.Dense(50, activation=tf.nn.relu),\n",
    "    \n",
    "    tf.keras.layers.Dense(100, activation=tf.nn.relu),\n",
    "    tf.keras.layers.Dense(400, activation=tf.nn.relu),\n",
    "    tf.keras.layers.Dense(sample_size*dimension, activation=tf.nn.softmax), \n",
    "    tf.keras.layers.Dense(sample_size*dimension)\n",
    "])\n",
    "#adam = tf.keras.optimizers.Adam(lr=0.001, decay=1e-6)\n",
    "model2.compile(optimizer=\"Adam\",\n",
    "              loss=tf.keras.losses.mean_squared_error,\n",
    "               metrics=[\"mse\"])\n",
    "model2.fit(train_x, train_y, epochs=5)\n",
    "\n",
    "#res = eval_model(get_pred_errors(model3, test_x, test_y), test_attack_level, th_int=0.01)\n",
    "#print(max(res[\"F1\"])) "
   ]
  },
  {
   "cell_type": "code",
   "execution_count": 8,
   "metadata": {},
   "outputs": [],
   "source": [
    "pred_y = model3.predict(test_x)\n",
    "# prepare to visualize the predicted values\n",
    "vis_nums = [0]\n",
    "rec_step = sample_size//test_sample_step\n",
    "pred_y_data = np.zeros((anomaly_pc.shape[0], anomaly_pc.shape[1]-1))\n",
    "for vis_num in vis_nums:\n",
    "    max_j = np.min(((anomaly_pc.shape[0]-vis_num*test_sample_step)//sample_size, (pred_y.shape[0]-vis_num)//rec_step))\n",
    "    for j in range(max_j):\n",
    "        #if(vis_num+j)\n",
    "        pred_y_data[(vis_num*test_sample_step + j*sample_size):(vis_num*test_sample_step+(j+1)*sample_size),:] \\\n",
    "            =pred_y[vis_num+j*rec_step].reshape(sample_size,dimension)"
   ]
  },
  {
   "cell_type": "code",
   "execution_count": null,
   "metadata": {},
   "outputs": [],
   "source": [
    "plt.figure(figsize=(20,10*normal_pc.shape[1]))\n",
    "x_=np.arange(anomaly_pc.shape[0])\n",
    "for i in range(normal_pc.shape[1]):\n",
    "    plt.subplot(normal_pc.shape[1], 2, 2*i+1)\n",
    "    plt.plot(x_, anomaly_pc[:,i],color=\"b\")\n",
    "    plt.plot(x_, pred_y_data[:,i], color =\"r\")\n",
    "    plt.subplot(normal_pc.shape[1], 2, 2*i+2)\n",
    "    plt.plot(x_, np.abs(anomaly_pc[:,i]-pred_y_data[:,i]))"
   ]
  },
  {
   "cell_type": "code",
   "execution_count": 13,
   "metadata": {},
   "outputs": [
    {
     "name": "stdout",
     "output_type": "stream",
     "text": [
      "corr:  [[1.         0.32015775]\n",
      " [0.32015775 1.        ]]\n",
      "normal_err:  count    81140.000000\n",
      "mean         0.173673\n",
      "std          0.129782\n",
      "min          0.000000\n",
      "25%          0.079485\n",
      "50%          0.139347\n",
      "75%          0.220002\n",
      "max          1.000000\n",
      "dtype: float64\n",
      "anomaly_err: count    5245.000000\n",
      "mean        0.364527\n",
      "std         0.204623\n",
      "min         0.074301\n",
      "25%         0.207142\n",
      "50%         0.353180\n",
      "75%         0.478971\n",
      "max         0.943271\n",
      "dtype: float64\n",
      "0.3237929318068691\n"
     ]
    },
    {
     "data": {
      "image/png": "[encoded data removed]",
      "text/plain": [
       "<Figure size 432x288 with 3 Axes>"
      ]
     },
     "metadata": {
      "needs_background": "light"
     },
     "output_type": "display_data"
    }
   ],
   "source": [
    "res = eval_model(get_pred_errors(model3, test_x, test_y), test_attack_level, th_int=0.01)\n",
    "print(max(res[\"F1\"])) "
   ]
  },
  {
   "cell_type": "code",
   "execution_count": null,
   "metadata": {},
   "outputs": [],
   "source": [
    "pred_y = model1.predict(test_x)\n",
    "# prepare to visualize the predicted values\n",
    "vis_nums = [0]\n",
    "rec_step = sample_size//test_sample_step\n",
    "pred_y_data = np.zeros((anomaly_pc.shape[0], anomaly_pc.shape[1]-1))\n",
    "for vis_num in vis_nums:\n",
    "    max_j = np.min(((anomaly_pc.shape[0]-vis_num*test_sample_step)//sample_size, (pred_y.shape[0]-vis_num)//rec_step))\n",
    "    for j in range(max_j):\n",
    "        #if(vis_num+j)\n",
    "        pred_y_data[(vis_num*test_sample_step + j*sample_size):(vis_num*test_sample_step+(j+1)*sample_size),:] \\\n",
    "            =pred_y[vis_num+j*rec_step].reshape(sample_size,dimension)\n",
    "plt.figure(figsize=(20,10*normal_pc.shape[1]))\n",
    "x_=np.arange(anomaly_pc.shape[0])\n",
    "for i in range(normal_pc.shape[1]):\n",
    "    plt.subplot(normal_pc.shape[1], 2, 2*i+1)\n",
    "    plt.plot(x_, anomaly_pc[:,i],color=\"b\")\n",
    "    plt.plot(x_, pred_y_data[:,i], color =\"r\")\n",
    "    plt.subplot(normal_pc.shape[1], 2, 2*i+2)\n",
    "    plt.plot(x_, np.abs(anomaly_pc[:,i]-pred_y_data[:,i]))"
   ]
  },
  {
   "cell_type": "code",
   "execution_count": null,
   "metadata": {},
   "outputs": [],
   "source": [
    "pred_y = model2.predict(test_x)\n",
    "# prepare to visualize the predicted values\n",
    "vis_nums = [0]\n",
    "rec_step = sample_size//test_sample_step\n",
    "pred_y_data = np.zeros((anomaly_pc.shape[0], anomaly_pc.shape[1]-1))\n",
    "for vis_num in vis_nums:\n",
    "    max_j = np.min(((anomaly_pc.shape[0]-vis_num*test_sample_step)//sample_size, (pred_y.shape[0]-vis_num)//rec_step))\n",
    "    for j in range(max_j):\n",
    "        #if(vis_num+j)\n",
    "        pred_y_data[(vis_num*test_sample_step + j*sample_size):(vis_num*test_sample_step+(j+1)*sample_size),:] \\\n",
    "            =pred_y[vis_num+j*rec_step].reshape(sample_size,dimension)\n",
    "plt.figure(figsize=(20,10*normal_pc.shape[1]))\n",
    "x_=np.arange(anomaly_pc.shape[0])\n",
    "for i in range(normal_pc.shape[1]):\n",
    "    plt.subplot(normal_pc.shape[1], 2, 2*i+1)\n",
    "    plt.plot(x_, anomaly_pc[:,i],color=\"b\")\n",
    "    plt.plot(x_, pred_y_data[:,i], color =\"r\")\n",
    "    plt.subplot(normal_pc.shape[1], 2, 2*i+2)\n",
    "    plt.plot(x_, np.abs(anomaly_pc[:,i]-pred_y_data[:,i]))"
   ]
  },
  {
   "cell_type": "code",
   "execution_count": null,
   "metadata": {},
   "outputs": [],
   "source": [
    "model2.fit(train_x, train_y, epochs=5)\n",
    "pred_y = model2.predict(test_x)\n",
    "# prepare to visualize the predicted values\n",
    "vis_nums = [0]\n",
    "rec_step = sample_size//test_sample_step\n",
    "pred_y_data = np.zeros((anomaly_pc.shape[0], anomaly_pc.shape[1]-1))\n",
    "for vis_num in vis_nums:\n",
    "    max_j = np.min(((anomaly_pc.shape[0]-vis_num*test_sample_step)//sample_size, (pred_y.shape[0]-vis_num)//rec_step))\n",
    "    for j in range(max_j):\n",
    "        #if(vis_num+j)\n",
    "        pred_y_data[(vis_num*test_sample_step + j*sample_size):(vis_num*test_sample_step+(j+1)*sample_size),:] \\\n",
    "            =pred_y[vis_num+j*rec_step].reshape(sample_size,dimension)\n",
    "plt.figure(figsize=(20,10*normal_pc.shape[1]))\n",
    "x_=np.arange(anomaly_pc.shape[0])\n",
    "for i in range(normal_pc.shape[1]):\n",
    "    plt.subplot(normal_pc.shape[1], 2, 2*i+1)\n",
    "    plt.plot(x_, anomaly_pc[:,i],color=\"b\")\n",
    "    plt.plot(x_, pred_y_data[:,i], color =\"r\")\n",
    "    plt.subplot(normal_pc.shape[1], 2, 2*i+2)\n",
    "    plt.plot(x_, np.abs(anomaly_pc[:,i]-pred_y_data[:,i]))"
   ]
  },
  {
   "cell_type": "code",
   "execution_count": null,
   "metadata": {},
   "outputs": [],
   "source": [
    "pred_y = model2.predict(test_x)\n",
    "# prepare to visualize the predicted values\n",
    "vis_nums = [0]\n",
    "rec_step = sample_size//test_sample_step\n",
    "pred_y_data = np.zeros((anomaly_pc.shape[0], anomaly_pc.shape[1]-1))\n",
    "for vis_num in vis_nums:\n",
    "    max_j = np.min(((anomaly_pc.shape[0]-vis_num*test_sample_step)//sample_size, (pred_y.shape[0]-vis_num)//rec_step))\n",
    "    for j in range(max_j):\n",
    "        #if(vis_num+j)\n",
    "        pred_y_data[(vis_num*test_sample_step + j*sample_size):(vis_num*test_sample_step+(j+1)*sample_size),:] \\\n",
    "            =pred_y[vis_num+j*rec_step].reshape(sample_size,dimension)\n",
    "plt.figure(figsize=(20,10*normal_pc.shape[1]))\n",
    "x_=np.arange(anomaly_pc.shape[0])\n",
    "for i in range(normal_pc.shape[1]):\n",
    "    plt.subplot(normal_pc.shape[1], 2, 2*i+1)\n",
    "    plt.plot(x_, anomaly_pc[:,i],color=\"b\")\n",
    "    plt.plot(x_, pred_y_data[:,i], color =\"r\")\n",
    "    plt.subplot(normal_pc.shape[1], 2, 2*i+2)\n",
    "    plt.plot(x_, np.abs(anomaly_pc[:,i]-pred_y_data[:,i]))"
   ]
  },
  {
   "cell_type": "code",
   "execution_count": 8,
   "metadata": {},
   "outputs": [
    {
     "name": "stdout",
     "output_type": "stream",
     "text": [
      "data_dim: 1200\n",
      "WARNING:tensorflow:From /Users/e0446225/anaconda3/lib/python3.7/site-packages/tensorflow/python/ops/init_ops.py:1251: calling VarianceScaling.__init__ (from tensorflow.python.ops.init_ops) with dtype is deprecated and will be removed in a future version.\n",
      "Instructions for updating:\n",
      "Call initializer instance with the dtype argument instead of passing it to the constructor\n",
      "Epoch 1/5\n",
      "60478/60478 [==============================] - 15s 255us/sample - loss: 0.0077 - mean_squared_error: 0.0077\n",
      "Epoch 2/5\n",
      "60478/60478 [==============================] - 15s 251us/sample - loss: 0.0031 - mean_squared_error: 0.0031\n",
      "Epoch 3/5\n",
      "60478/60478 [==============================] - 15s 249us/sample - loss: 0.0025 - mean_squared_error: 0.0025\n",
      "Epoch 4/5\n",
      "60478/60478 [==============================] - 15s 251us/sample - loss: 0.0024 - mean_squared_error: 0.0024\n",
      "Epoch 5/5\n",
      "60478/60478 [==============================] - 15s 249us/sample - loss: 0.0020 - mean_squared_error: 0.0020\n"
     ]
    },
    {
     "data": {
      "text/plain": [
       "<tensorflow.python.keras.callbacks.History at 0x11501a9b0>"
      ]
     },
     "execution_count": 8,
     "metadata": {},
     "output_type": "execute_result"
    }
   ],
   "source": [
    "data_dim = sample_size * dimension\n",
    "print(\"data_dim:\", data_dim)\n",
    "\n",
    "# change the output layer to relu, add linear\n",
    "model_relu_linear = tf.keras.models.Sequential([\n",
    "    tf.keras.layers.Flatten(input_shape=(sample_size,dimension)),\n",
    "    tf.keras.layers.Dense(200, activation=tf.nn.relu),\n",
    "    \n",
    "    tf.keras.layers.Dense(100, activation=tf.nn.relu),\n",
    "    tf.keras.layers.Dense(50, activation=tf.nn.relu),\n",
    "    \n",
    "    tf.keras.layers.Dense(100, activation=tf.nn.relu),\n",
    "    tf.keras.layers.Dense(400, activation=tf.nn.relu),\n",
    "    tf.keras.layers.Dense(sample_size*dimension, activation=tf.nn.relu),\n",
    "    tf.keras.layers.Dense(sample_size*dimension)\n",
    "])\n",
    "#adam = tf.keras.optimizers.Adam(lr=0.001, decay=1e-6)\n",
    "model_relu_linear.compile(optimizer=\"Adam\",\n",
    "              loss=tf.keras.losses.mean_squared_error,\n",
    "               metrics=[\"mse\"])\n",
    "model_relu_linear.fit(train_x, train_y, epochs=5)\n",
    "\n",
    "#res = eval_model(get_pred_errors(model3, test_x, test_y), test_attack_level, th_int=0.01)\n",
    "#print(max(res[\"F1\"])) "
   ]
  },
  {
   "cell_type": "code",
   "execution_count": 36,
   "metadata": {},
   "outputs": [
    {
     "name": "stdout",
     "output_type": "stream",
     "text": [
      "corr:  [[1.         0.43014813]\n",
      " [0.43014813 1.        ]]\n",
      "normal_err:  count    81140.000000\n",
      "mean         0.029371\n",
      "std          0.031294\n",
      "min          0.000580\n",
      "25%          0.011498\n",
      "50%          0.020002\n",
      "75%          0.035395\n",
      "max          0.617886\n",
      "dtype: float64\n",
      "anomaly_err: count    5245.000000\n",
      "mean        0.142986\n",
      "std         0.197024\n",
      "min         0.000000\n",
      "25%         0.029115\n",
      "50%         0.055330\n",
      "75%         0.147822\n",
      "max         1.000000\n",
      "dtype: float64\n",
      "0.40038999025024374\n"
     ]
    },
    {
     "data": {
      "image/png": "[encoded data removed]",
      "text/plain": [
       "<Figure size 432x288 with 3 Axes>"
      ]
     },
     "metadata": {
      "needs_background": "light"
     },
     "output_type": "display_data"
    }
   ],
   "source": [
    "res = eval_model(get_pred_errors(model_relu_linear, test_x, test_y), test_attack_level, th_int=0.01)\n",
    "print(max(res[\"F1\"])) "
   ]
  },
  {
   "cell_type": "code",
   "execution_count": 47,
   "metadata": {},
   "outputs": [
    {
     "data": {
      "text/plain": [
       "0.3951603430048161"
      ]
     },
     "execution_count": 47,
     "metadata": {},
     "output_type": "execute_result"
    }
   ],
   "source": []
  },
  {
   "cell_type": "code",
   "execution_count": 7,
   "metadata": {},
   "outputs": [
    {
     "ename": "NameError",
     "evalue": "name 'model_relu_linear' is not defined",
     "output_type": "error",
     "traceback": [
      "\u001b[0;31m---------------------------------------------------------------------------\u001b[0m",
      "\u001b[0;31mNameError\u001b[0m                                 Traceback (most recent call last)",
      "\u001b[0;32m<ipython-input-7-86b95f3bf37d>\u001b[0m in \u001b[0;36m<module>\u001b[0;34m\u001b[0m\n\u001b[0;32m----> 1\u001b[0;31m \u001b[0mmodel_relu_linear\u001b[0m\u001b[0;34m.\u001b[0m\u001b[0mfit\u001b[0m\u001b[0;34m(\u001b[0m\u001b[0mtrain_x\u001b[0m\u001b[0;34m,\u001b[0m \u001b[0mtrain_y\u001b[0m\u001b[0;34m,\u001b[0m \u001b[0mepochs\u001b[0m\u001b[0;34m=\u001b[0m\u001b[0;36m5\u001b[0m\u001b[0;34m)\u001b[0m\u001b[0;34m\u001b[0m\u001b[0;34m\u001b[0m\u001b[0m\n\u001b[0m\u001b[1;32m      2\u001b[0m \u001b[0mpred_y\u001b[0m \u001b[0;34m=\u001b[0m \u001b[0mmodel_relu_linear\u001b[0m\u001b[0;34m.\u001b[0m\u001b[0mpredict\u001b[0m\u001b[0;34m(\u001b[0m\u001b[0mtest_x\u001b[0m\u001b[0;34m)\u001b[0m\u001b[0;34m\u001b[0m\u001b[0;34m\u001b[0m\u001b[0m\n\u001b[1;32m      3\u001b[0m \u001b[0;31m# prepare to visualize the predicted values\u001b[0m\u001b[0;34m\u001b[0m\u001b[0;34m\u001b[0m\u001b[0;34m\u001b[0m\u001b[0m\n\u001b[1;32m      4\u001b[0m \u001b[0mvis_nums\u001b[0m \u001b[0;34m=\u001b[0m \u001b[0;34m[\u001b[0m\u001b[0;36m0\u001b[0m\u001b[0;34m]\u001b[0m\u001b[0;34m\u001b[0m\u001b[0;34m\u001b[0m\u001b[0m\n\u001b[1;32m      5\u001b[0m \u001b[0mrec_step\u001b[0m \u001b[0;34m=\u001b[0m \u001b[0msample_size\u001b[0m\u001b[0;34m//\u001b[0m\u001b[0mtest_sample_step\u001b[0m\u001b[0;34m\u001b[0m\u001b[0;34m\u001b[0m\u001b[0m\n",
      "\u001b[0;31mNameError\u001b[0m: name 'model_relu_linear' is not defined"
     ]
    }
   ],
   "source": [
    "model_relu_linear.fit(train_x, train_y, epochs=5)\n",
    "pred_y = model_relu_linear.predict(test_x)\n",
    "# prepare to visualize the predicted values\n",
    "vis_nums = [0]\n",
    "rec_step = sample_size//test_sample_step\n",
    "pred_y_data = np.zeros((anomaly_pc.shape[0], anomaly_pc.shape[1]-1))\n",
    "for vis_num in vis_nums:\n",
    "    max_j = np.min(((anomaly_pc.shape[0]-vis_num*test_sample_step)//sample_size, (pred_y.shape[0]-vis_num)//rec_step))\n",
    "    for j in range(max_j):\n",
    "        #if(vis_num+j)\n",
    "        pred_y_data[(vis_num*test_sample_step + j*sample_size):(vis_num*test_sample_step+(j+1)*sample_size),:] \\\n",
    "            =pred_y[vis_num+j*rec_step].reshape(sample_size,dimension)\n",
    "plt.figure(figsize=(20,10*normal_pc.shape[1]))\n",
    "x_=np.arange(anomaly_pc.shape[0])\n",
    "for i in range(normal_pc.shape[1]):\n",
    "    plt.subplot(normal_pc.shape[1], 2, 2*i+1)\n",
    "    plt.plot(x_, anomaly_pc[:,i],color=\"b\")\n",
    "    plt.plot(x_, pred_y_data[:,i], color =\"r\")\n",
    "    plt.subplot(normal_pc.shape[1], 2, 2*i+2)\n",
    "    plt.plot(x_, np.abs(anomaly_pc[:,i]-pred_y_data[:,i]))"
   ]
  },
  {
   "cell_type": "code",
   "execution_count": 49,
   "metadata": {},
   "outputs": [
    {
     "name": "stdout",
     "output_type": "stream",
     "text": [
      "corr:  [[1.         0.42994264]\n",
      " [0.42994264 1.        ]]\n",
      "normal_err:  count    81140.000000\n",
      "mean         0.028469\n",
      "std          0.031855\n",
      "min          0.000000\n",
      "25%          0.011325\n",
      "50%          0.018495\n",
      "75%          0.032788\n",
      "max          0.729593\n",
      "dtype: float64\n",
      "anomaly_err: count    5245.000000\n",
      "mean        0.134981\n",
      "std         0.177023\n",
      "min         0.001742\n",
      "25%         0.030551\n",
      "50%         0.057636\n",
      "75%         0.163474\n",
      "max         1.000000\n",
      "dtype: float64\n",
      "0.3946188340807175\n"
     ]
    },
    {
     "data": {
      "image/png": "[encoded data removed]",
      "text/plain": [
       "<Figure size 432x288 with 3 Axes>"
      ]
     },
     "metadata": {
      "needs_background": "light"
     },
     "output_type": "display_data"
    }
   ],
   "source": [
    "res = eval_model(get_pred_errors(model_relu_linear, test_x, test_y), test_attack_level, th_int=0.01)\n",
    "print(max(res[\"F1\"])) \n"
   ]
  },
  {
   "cell_type": "code",
   "execution_count": 10,
   "metadata": {},
   "outputs": [],
   "source": [
    "start = []\n",
    "end = []\n",
    "for i in range(anomaly_pc.shape[0]-1):\n",
    "    if(anomaly_pc[i][-1]==0 and anomaly_pc[i+1][-1]==1):\n",
    "        #print(\"0->1\", i, i+1)\n",
    "        start.append(i+1)\n",
    "    elif(anomaly_pc[i][-1]==1 and anomaly_pc[i+1][-1]==0):\n",
    "        #print(\"1->0\", i, i+1)\n",
    "        end.append(i+1)\n",
    "\n",
    "attack_ = np.concatenate((start, end)).reshape(2, len(start)).transpose(1,0)"
   ]
  },
  {
   "cell_type": "code",
   "execution_count": null,
   "metadata": {
    "scrolled": false
   },
   "outputs": [],
   "source": [
    "plt.figure(figsize=(20,10*normal_pc.shape[1]))\n",
    "\n",
    "range2 = np.arange(55000,67000)\n",
    "for i in range(normal_pc.shape[1]):\n",
    "    plt.subplot(normal_pc.shape[1], 2, 2*i+1)\n",
    "    plt.plot(range2, anomaly_pc[range2,:][:,i],color=\"b\")\n",
    "    plt.plot(range2, pred_y_data[range2,:][:,i], color =\"g\")\n",
    "    for j in range(len(start)):\n",
    "        if(start[j] in range2 or end[j] in range2):\n",
    "            plt.axvspan(start[j], end[j], alpha=0.3, color='red')\n",
    "    plt.title(\"pc\"+str(i))\n",
    "            \n",
    "    plt.subplot(normal_pc.shape[1], 2, 2*i+2)\n",
    "    plt.plot(range2, np.abs(anomaly_pc[range2,:][:,i]-pred_y_data[range2,:][:,i]))\n",
    "    for j in range(len(start)):\n",
    "        if(start[j] in range2 or end[j] in range2):\n",
    "            plt.axvspan(start[j], end[j], alpha=0.3, color='red')\n",
    "    plt.title(\"pc\"+str(i))"
   ]
  },
  {
   "cell_type": "code",
   "execution_count": null,
   "metadata": {
    "scrolled": false
   },
   "outputs": [],
   "source": [
    "plt.figure(figsize=(20,10*normal_pc.shape[1]))\n",
    "\n",
    "range2 = np.arange(68000,80000)\n",
    "for i in range(normal_pc.shape[1]):\n",
    "    plt.subplot(normal_pc.shape[1], 2, 2*i+1)\n",
    "    plt.plot(range2, anomaly_pc[range2,:][:,i],color=\"b\")\n",
    "    plt.plot(range2, pred_y_data[range2,:][:,i], color =\"g\")\n",
    "    for j in range(len(start)):\n",
    "        if(start[j] in range2 or end[j] in range2):\n",
    "            plt.axvspan(start[j], end[j], alpha=0.3, color='red')\n",
    "    plt.title(\"pc\"+str(i))\n",
    "            \n",
    "    plt.subplot(normal_pc.shape[1], 2, 2*i+2)\n",
    "    plt.plot(range2, np.abs(anomaly_pc[range2,:][:,i]-pred_y_data[range2,:][:,i]))\n",
    "    for j in range(len(start)):\n",
    "        if(start[j] in range2 or end[j] in range2):\n",
    "            plt.axvspan(start[j], end[j], alpha=0.3, color='red')\n",
    "    plt.title(\"pc\"+str(i))"
   ]
  },
  {
   "cell_type": "code",
   "execution_count": null,
   "metadata": {},
   "outputs": [],
   "source": []
  }
 ],
 "metadata": {
  "kernelspec": {
   "display_name": "Python 3",
   "language": "python",
   "name": "python3"
  },
  "language_info": {
   "codemirror_mode": {
    "name": "ipython",
    "version": 3
   },
   "file_extension": ".py",
   "mimetype": "text/x-python",
   "name": "python",
   "nbconvert_exporter": "python",
   "pygments_lexer": "ipython3",
   "version": "3.7.3"
  }
 },
 "nbformat": 4,
 "nbformat_minor": 2
}
