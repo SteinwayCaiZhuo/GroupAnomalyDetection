{
 "cells": [
  {
   "cell_type": "code",
   "execution_count": 9,
   "metadata": {},
   "outputs": [],
   "source": [
    "import numpy as np\n",
    "from sklearn.decomposition import PCA\n",
    "import pandas as pd\n",
    "import matplotlib.pyplot as plt\n",
    "import tensorflow as tf\n",
    "from sklearn.metrics import mean_squared_error\n",
    "from sklearn.preprocessing import normalize\n",
    "from sklearn.preprocessing import MinMaxScaler\n",
    "from scipy import interpolate\n",
    "import json"
   ]
  },
  {
   "cell_type": "code",
   "execution_count": 10,
   "metadata": {},
   "outputs": [],
   "source": [
    "normal_np = np.load(\"../../data/SWaT/swat_normal.npy\")\n",
    "anomaly_np = np.load(\"../../data/SWaT/swat_anomaly.npy\")"
   ]
  },
  {
   "cell_type": "code",
   "execution_count": 11,
   "metadata": {},
   "outputs": [
    {
     "name": "stdout",
     "output_type": "stream",
     "text": [
      "All 0 error\n",
      "sensor  4  : After scaling to train, anomaly abs max =  2.0\n",
      "sensor  10  : After scaling to train, anomaly abs max =  2.0\n",
      "sensor  11  : After scaling to train, anomaly abs max =  1.0\n",
      "sensor  13  : After scaling to train, anomaly abs max =  2.0\n",
      "sensor  15  : After scaling to train, anomaly abs max =  2.0\n",
      "sensor  29  : After scaling to train, anomaly abs max =  1.0\n",
      "sensor  31  : After scaling to train, anomaly abs max =  2.0\n",
      "sensor  32  : After scaling to train, anomaly abs max =  1.0\n",
      "sensor  43  : After scaling to train, anomaly abs max =  1.0\n",
      "sensor  48  : After scaling to train, anomaly abs max =  1.0\n",
      "sensor  50  : After scaling to train, anomaly abs max =  1.0\n"
     ]
    }
   ],
   "source": [
    "scaler = MinMaxScaler()\n",
    "scaler.fit(normal_np)\n",
    "non_constant_scale_index = [i for i in range(normal_np.shape[1])\\\n",
    "               if(np.abs(scaler.data_max_[i] - scaler.data_min_[i])>0)]\n",
    "if(np.min(np.abs(scaler.data_max_ - scaler.data_min_))==0):\n",
    "    print(\"All 0 error\")\n",
    "normal_np_scaled = scaler.transform(normal_np)\n",
    "anomaly_np_scaled = np.concatenate((scaler.transform(anomaly_np[:,:-1]), \\\n",
    "                                    anomaly_np[:,-1].reshape(len(anomaly_np),1)), axis = 1)\n",
    "for i in range(normal_np.shape[1]):\n",
    "    if(i not in non_constant_scale_index):\n",
    "        if(np.max(np.abs(normal_np[:,i]))==0 \\\n",
    "           and np.max(np.abs(anomaly_np[:,i]))>0 ):\n",
    "            anomaly_np_scaled[:,i] = anomaly_np[:,i]/np.max(np.abs(anomaly_np[:,i]))\n",
    "            print(\"sensor: \", i, \": train all 0 test not 0\")\n",
    "        elif(np.max(np.abs(normal_np[:, i]))>0):\n",
    "            normal_np_scaled[:,i] = normal_np[:,i]/np.max(np.abs(normal_np[:, i]))\n",
    "            anomaly_np_scaled[:, i] = anomaly_np[:, i]/np.max(np.abs(normal_np[:, i]))\n",
    "            print(\"sensor \", i, \" : After scaling to train, anomaly abs max = \", \\\n",
    "                  np.max(np.abs(anomaly_np_scaled[:, i])))\n",
    "        else:\n",
    "            print(\"Train, test all 0 , sensor \", i)"
   ]
  },
  {
   "cell_type": "code",
   "execution_count": 12,
   "metadata": {},
   "outputs": [],
   "source": [
    "np.save(\"../../data/SWaT/normal_scaled.npy\", normal_np_scaled)\n",
    "np.save(\"../../data/SWaT/anomaly_scaled.npy\", anomaly_np_scaled)"
   ]
  },
  {
   "cell_type": "code",
   "execution_count": 17,
   "metadata": {},
   "outputs": [
    {
     "name": "stdout",
     "output_type": "stream",
     "text": [
      "sum:  0.999745184632723\n"
     ]
    }
   ],
   "source": [
    "#PCA\n",
    "pc_dim=30\n",
    "pca = PCA(n_components = pc_dim)\n",
    "pca.fit(normal_np_scaled)\n",
    "print(\"sum: \", sum(pca.explained_variance_ratio_))\n",
    "#print(pca.singular_values_)\n"
   ]
  },
  {
   "cell_type": "code",
   "execution_count": 18,
   "metadata": {},
   "outputs": [
    {
     "name": "stdout",
     "output_type": "stream",
     "text": [
      "PCA finished\n"
     ]
    }
   ],
   "source": [
    "normal_pc = pca.transform(normal_np_scaled)\n",
    "anomaly_pc = np.concatenate((pca.transform(anomaly_np_scaled[:,:-1]), \\\n",
    "                                    anomaly_np_scaled[:,-1].reshape(len(anomaly_np),1)), axis = 1)\n",
    "\n",
    "np.save(\"../../data/SWaT/normal_pc.npy\", normal_pc)\n",
    "np.save(\"../../data/SWaT/anomaly_pc.npy\", anomaly_pc)\n",
    "print(\"PCA finished\")"
   ]
  },
  {
   "cell_type": "code",
   "execution_count": null,
   "metadata": {},
   "outputs": [],
   "source": []
  }
 ],
 "metadata": {
  "kernelspec": {
   "display_name": "Python 3",
   "language": "python",
   "name": "python3"
  },
  "language_info": {
   "codemirror_mode": {
    "name": "ipython",
    "version": 3
   },
   "file_extension": ".py",
   "mimetype": "text/x-python",
   "name": "python",
   "nbconvert_exporter": "python",
   "pygments_lexer": "ipython3",
   "version": "3.7.3"
  }
 },
 "nbformat": 4,
 "nbformat_minor": 2
}
