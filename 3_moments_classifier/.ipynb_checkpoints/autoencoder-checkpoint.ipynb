{
 "cells": [
  {
   "cell_type": "code",
   "execution_count": 13,
   "metadata": {},
   "outputs": [],
   "source": [
    "import numpy as np\n",
    "from sklearn.decomposition import PCA\n",
    "import pandas as pd\n",
    "import matplotlib.pyplot as plt\n",
    "import tensorflow as tf\n",
    "from sklearn.metrics import mean_squared_error\n",
    "from sklearn.preprocessing import normalize\n",
    "from sklearn.preprocessing import MinMaxScaler\n",
    "from scipy import interpolate\n",
    "import json\n",
    "from joblib import dump, load"
   ]
  },
  {
   "cell_type": "code",
   "execution_count": null,
   "metadata": {},
   "outputs": [],
   "source": [
    "normal_pc = np.load(\"../../data/WADI/moment_normal.npy\")"
   ]
  },
  {
   "cell_type": "code",
   "execution_count": 15,
   "metadata": {},
   "outputs": [],
   "source": [
    "# scale normal data\n",
    "scaler = MinMaxScaler()\n",
    "scaler.fit(normal_pc)\n",
    "normal_pc = scaler.transform(normal_pc)"
   ]
  },
  {
   "cell_type": "code",
   "execution_count": 16,
   "metadata": {},
   "outputs": [
    {
     "name": "stdout",
     "output_type": "stream",
     "text": [
      "train_sample_step:  5 , train_size:  74450\n"
     ]
    }
   ],
   "source": [
    "normal_len = len(normal_pc)\n",
    "\n",
    "dimension = normal_pc.shape[1]\n",
    "sample_size = 1\n",
    "\n",
    "# Train data prepare\n",
    "train_sample_step = 5\n",
    "train_size = (normal_len-sample_size)//train_sample_step\n",
    "print(\"train_sample_step: \", train_sample_step, \", train_size: \", train_size)\n",
    "\n",
    "train_x = np.zeros((train_size, sample_size, dimension), dtype=\"double\")\n",
    "for i in range(train_size):\n",
    "    train_x[i, :, :] = normal_pc\\\n",
    "    [i*train_sample_step: (i*train_sample_step+sample_size), :]\n",
    "train_y = np.zeros((train_size, sample_size*dimension), dtype = \"double\")\n",
    "for i in range(train_size):\n",
    "    train_y[i] = train_x[i,:,:].ravel()"
   ]
  },
  {
   "cell_type": "code",
   "execution_count": 24,
   "metadata": {},
   "outputs": [],
   "source": [
    "def genRegions(max_len):\n",
    "    regions=[]\n",
    "    for i in np.logspace(1, np.log10(max_len), 12):\n",
    "        print(\"len = \", i)\n",
    "        for j in np.arange(0, max_len-i, (i+1)//2):\n",
    "            regions.append([int(j),int(j+i)])\n",
    "    return np.array(regions)"
   ]
  },
  {
   "cell_type": "code",
   "execution_count": 22,
   "metadata": {},
   "outputs": [],
   "source": [
    "# for test data\n",
    "pca = load(\"moment_pca.joblib\")\n",
    "anomaly_origin = np.load(\"../../data/WADI/anomaly_pc4.npy\")"
   ]
  },
  {
   "cell_type": "code",
   "execution_count": 27,
   "metadata": {},
   "outputs": [
    {
     "name": "stdout",
     "output_type": "stream",
     "text": [
      "len =  10.0\n",
      "len =  24.27903814303295\n",
      "len =  58.94716931508489\n",
      "len =  143.1180572224766\n",
      "len =  347.4768770261286\n",
      "len =  843.6404351139337\n",
      "len =  2048.277830313611\n",
      "len =  4973.021556971294\n",
      "len =  12074.018006783128\n",
      "len =  29314.554372635394\n",
      "len =  71172.91837592273\n",
      "len =  172801.00000000006\n"
     ]
    }
   ],
   "source": [
    "test_regions = genRegions(anomaly_origin.shape[0])\n",
    "dim = anomaly_origin.shape[1]-1\n",
    "m3_dim=10\n",
    "delete_labels = []\n",
    "for i in range(dim):\n",
    "    for j in range(dim):\n",
    "        if(j<i):\n",
    "            delete_labels.append(dim+i*dim+j)\n",
    "for i in range(m3_dim):\n",
    "    for j in range(m3_dim):\n",
    "        for k in range(m3_dim):\n",
    "            if(j<i or k<i or k<j):\n",
    "                delete_labels.append(dim+dim*dim+i*m3_dim*m3_dim + j*m3_dim+k)\n",
    "                \n",
    "keep_labels = np.array([i for i in range(dim+dim*dim+m3_dim*m3_dim*m3_dim) if i not in delete_labels])\n",
    "\n",
    "\n",
    "test_final_features = np.zeros((test_regions.shape[0],len(keep_labels)))"
   ]
  },
  {
   "cell_type": "code",
   "execution_count": 29,
   "metadata": {},
   "outputs": [
    {
     "name": "stdout",
     "output_type": "stream",
     "text": [
      "i =  3999 region.len 10\n",
      "i =  7999 region.len 10\n",
      "i =  11999 region.len 10\n",
      "i =  15999 region.len 10\n",
      "i =  19999 region.len 10\n",
      "i =  23999 region.len 10\n",
      "i =  27999 region.len 10\n",
      "i =  31999 region.len 10\n",
      "i =  35999 region.len 24\n",
      "i =  39999 region.len 24\n",
      "i =  43999 region.len 24\n",
      "i =  47999 region.len 24\n",
      "i =  51999 region.len 58\n",
      "i =  55999 region.len 143\n"
     ]
    }
   ],
   "source": [
    "moment3 = np.zeros((m3_dim, m3_dim, m3_dim))\n",
    "for i in range(0, test_regions.shape[0]):\n",
    "    region_bnd=test_regions[i]\n",
    "    region = range(region_bnd[0], region_bnd[1])\n",
    "    #print(\"region.len\", len(region))\n",
    "    #region = range(10,30)\n",
    "    if((i+1)%4000==0):\n",
    "        print(\"i = \", i,\"region.len\", len(region))\n",
    "\n",
    "    moment1 = np.sum(anomaly_origin[region,:][:,:-1], axis=0)/len(region)\n",
    "    moment2 = np.matmul(anomaly_origin[region,:][:,:-1].transpose(), anomaly_origin[region,:][:,:-1])/len(region)    \n",
    "    for j in range(m3_dim):\n",
    "        for k in range(i,m3_dim):\n",
    "            for l in range(j,m3_dim):\n",
    "                ans = np.sum(anomaly_origin[region,:][:,l]*anomaly_origin[region,:][:,j]*anomaly_origin[region,:][:,k])\n",
    "                moment3[l][j][k]= ans\n",
    "                moment3[l][k][j]= ans\n",
    "                moment3[j][l][k]= ans\n",
    "                moment3[j][k][l]= ans\n",
    "                moment3[k][j][l]= ans\n",
    "                moment3[k][l][j]= ans\n",
    "    moment3 /= len(region)\n",
    "    test_final_feature_i = np.concatenate((moment1.ravel(), moment2.ravel(), moment3.ravel()))[keep_labels]\n",
    "    #final_feature_i = pca.transform(final_feature_i.reshape(1,-1))\n",
    "    test_final_features[i] =  test_final_feature_i\n",
    "test_final_features_pca = pca.transform(test_final_features)"
   ]
  },
  {
   "cell_type": "code",
   "execution_count": 32,
   "metadata": {},
   "outputs": [],
   "source": [
    "test_region_size = np.array([region[1] - region[0] for region in test_regions])"
   ]
  },
  {
   "cell_type": "code",
   "execution_count": 34,
   "metadata": {},
   "outputs": [],
   "source": [
    "anomaly_pc = np.concatenate((test_final_features_pca, test_region_size.reshape(-1,1)), axis = 1)"
   ]
  },
  {
   "cell_type": "code",
   "execution_count": 54,
   "metadata": {},
   "outputs": [
    {
     "name": "stdout",
     "output_type": "stream",
     "text": [
      "test_sample_step:  1\n",
      "test_size: 58989\n"
     ]
    }
   ],
   "source": [
    "\n",
    "anomaly_len = len(anomaly_pc)\n",
    "test_sample_step=1\n",
    "test_size = (anomaly_len-sample_size+1)//test_sample_step\n",
    "print(\"test_sample_step: \", test_sample_step)\n",
    "test_index = np.array([i*test_sample_step for i in range(test_size)])\n",
    "test_x = np.zeros((test_size, sample_size, dimension), dtype = \"double\")\n",
    "for i in range(test_size):\n",
    "    test_x[i,:,:] = anomaly_pc[test_index[i]:(test_index[i]+sample_size),]\n",
    "test_y = np.zeros((test_size, sample_size*dimension), dtype = \"double\")\n",
    "for i in range(test_size):\n",
    "    test_y[i] = test_x[i,:,:].ravel()\n",
    "#test_attack_level = np.array([np.mean(anomaly_pc\\\n",
    " #                                     [i:(i+sample_size), -1]) for i in test_index])\n",
    "print(\"test_size:\", test_size)"
   ]
  },
  {
   "cell_type": "code",
   "execution_count": 46,
   "metadata": {},
   "outputs": [
    {
     "data": {
      "text/plain": [
       "array([0.19770015, 0.25122294, 0.14802215])"
      ]
     },
     "execution_count": 46,
     "metadata": {},
     "output_type": "execute_result"
    }
   ],
   "source": [
    "a = np.random.random(12).reshape(3,4)\n",
    "b = np.random.random(12).reshape(3,4)\n",
    "mean_squared_error(a.T,b.T, multioutput=\"raw_values\")\n"
   ]
  },
  {
   "cell_type": "code",
   "execution_count": null,
   "metadata": {},
   "outputs": [],
   "source": [
    "#def get anomaly_time_score(anomaly_len, test_y,test_pred, test_attack_label, test_regions)"
   ]
  },
  {
   "cell_type": "code",
   "execution_count": 60,
   "metadata": {},
   "outputs": [],
   "source": [
    "def eval_measure(test, pred, test_th = 0.02, pred_th = 0.24):\n",
    "    TP, FP, TN, FN = 0,0,0,0\n",
    "    for i in range(len(test)):\n",
    "        if(test[i] >test_th):\n",
    "            if(pred[i]>pred_th):\n",
    "                TP+=1\n",
    "            elif(pred[i]<=pred_th):\n",
    "                FN +=1\n",
    "        elif(test[i]<=test_th):\n",
    "            if(pred[i]>pred_th):\n",
    "                FP +=1\n",
    "            elif(pred[i]<=pred_th):\n",
    "                TN+=1\n",
    "    if(TP+FP==0):\n",
    "        print(\"TP+FP==0\")\n",
    "        return (0,0,0)\n",
    "    if(TP+FN==0):\n",
    "        print(\"TP+FN==0\")\n",
    "        return (0,0,0)\n",
    "\n",
    "    pre = TP/(TP+FP)\n",
    "    rec = TP/(TP+FN)\n",
    "    F1 = 2*pre*rec/(pre+rec)\n",
    "    #print(\"pre: \", pre, \";  rec: \", rec, \"; F1: \", F1)\n",
    "    return (pre, rec, F1)\n",
    "def get_attack_interval(label):\n",
    "    starts = []\n",
    "    ends = []\n",
    "\n",
    "    for i in range(len(label)-1):\n",
    "        if(label[i] == 0 and label[i+1]== 1):\n",
    "            starts.append(i+1)\n",
    "        if(label[i]==1 and label[i+1] == 0):\n",
    "            ends.append(i+1)\n",
    "    int_num = np.min((len(starts), len(ends)))\n",
    "    return np.concatenate((starts[:int_num], ends[:int_num])).reshape(2, int_num).transpose(1,0)\n",
    "\n",
    "def eval_model(anomaly_len, anomaly_attack, test_y,test_pred, test_attack_label, test_regions):\n",
    "    err = mean_squared_error(test_y.T, test_pred.T, multioutput=\"raw_values\")\n",
    "    print(err.shape)\n",
    "    print(test_attack_label.shape)\n",
    "    print(\"coef:\", np.corrcoef(err, test_attack_label))\n",
    "    if(len(err)!=len(test_regions)):\n",
    "        print(\"length != error\")\n",
    "    \n",
    "    anomaly_time_scores = np.zeros(anomaly_len)\n",
    "    anomaly_time_weights = np.zeros(anomaly_len)\n",
    "    anomaly_time_average = np.zeros(anomaly_len)\n",
    "    #print(\"anomaly time scores .shape\", anomaly_time_scores.shape)\n",
    "    for i in range(len(test_regions)):\n",
    "        start, end = test_regions[i][0], test_regions[i][1]\n",
    "        #print(\"start:\", start)\n",
    "        ##print(\"end\",end)\n",
    "        ##print()\n",
    "        anomaly_time_scores[start:end] += err[i]\n",
    "        anomaly_time_weights[start:end] += 1\n",
    "    non_zero_id = [i for i in range(anomaly_len) if anomaly_time_weights[i] != 0]\n",
    "    zero_id = [i for i in range(anomaly_len) if anomaly_time_weights[i] == 0]\n",
    "    print(\"have %d zeros\"%(len(zero_id)))\n",
    "    anomaly_time_average[non_zero_id] = anomaly_time_scores[non_zero_id]/anomaly_time_weights[non_zero_id]\n",
    "    \n",
    "    for pred_th in np.linspace(np.quantile(anomaly_time_average, 0.7), np.quantile(anomaly_time_average,0.92),10):\n",
    "        res = eval_measure(anomaly_attack[non_zero_id], anomaly_time_average[non_zero_id], test_th=0.5, pred_th=pred_th)\n",
    "    print(\"for pred_th = \", pred_th, \"res = \", res)\n",
    "    plt.figure(figsize=(20, 10))\n",
    "\n",
    "    range2 = non_zero_id\n",
    "    plt.plot(range2, anomaly_time_average[range2], color = \"b\")\n",
    "    anomaly_intervals_gth = get_attack_interval(anomaly_attack)\n",
    "    for i in range(len(anomaly_intervals_gth)):\n",
    "        plt.axvspan(anomaly_intervals_gth[i][0], anomaly_intervals_gth[i][1], alpha= 0.3, color =\"red\")\n",
    "    plt.show()\n",
    "    return anomaly_time_average, zero_id"
   ]
  },
  {
   "cell_type": "code",
   "execution_count": 17,
   "metadata": {},
   "outputs": [
    {
     "name": "stdout",
     "output_type": "stream",
     "text": [
      "data_dim: 601\n",
      "Epoch 1/5\n",
      "74450/74450 [==============================] - 17s 227us/sample - loss: 0.0038 - mean_squared_error: 0.0038\n",
      "Epoch 2/5\n",
      "74450/74450 [==============================] - 17s 226us/sample - loss: 0.0029 - mean_squared_error: 0.0029\n",
      "Epoch 3/5\n",
      "74450/74450 [==============================] - 17s 223us/sample - loss: 0.0024 - mean_squared_error: 0.0024\n",
      "Epoch 4/5\n",
      "74450/74450 [==============================] - 17s 224us/sample - loss: 0.0020 - mean_squared_error: 0.0020\n",
      "Epoch 5/5\n",
      "74450/74450 [==============================] - 17s 223us/sample - loss: 0.0018 - mean_squared_error: 0.0018\n"
     ]
    },
    {
     "data": {
      "text/plain": [
       "<tensorflow.python.keras.callbacks.History at 0x1a464b3a50>"
      ]
     },
     "execution_count": 17,
     "metadata": {},
     "output_type": "execute_result"
    }
   ],
   "source": [
    "# training\n",
    "\n",
    "data_dim = sample_size * dimension\n",
    "print(\"data_dim:\", data_dim)\n",
    "\n",
    "# change the output layer to relu, add linear\n",
    "model_relu_linear = tf.keras.models.Sequential([\n",
    "    tf.keras.layers.Flatten(input_shape=(sample_size,dimension)),\n",
    "    tf.keras.layers.Dense(200, activation=tf.nn.relu),\n",
    "    \n",
    "    tf.keras.layers.Dense(100, activation=tf.nn.relu),\n",
    "    tf.keras.layers.Dense(50, activation=tf.nn.relu),\n",
    "    \n",
    "    tf.keras.layers.Dense(100, activation=tf.nn.relu),\n",
    "    tf.keras.layers.Dense(400, activation=tf.nn.relu),\n",
    "    tf.keras.layers.Dense(sample_size*dimension, activation=tf.nn.relu),\n",
    "    tf.keras.layers.Dense(sample_size*dimension)\n",
    "])\n",
    "#adam = tf.keras.optimizers.Adam(lr=0.001, decay=1e-6)\n",
    "model_relu_linear.compile(optimizer=\"Adam\",\n",
    "              loss=tf.keras.losses.mean_squared_error,\n",
    "               metrics=[\"mse\"])\n",
    "model_relu_linear.fit(train_x, train_y, epochs=5)\n",
    "\n",
    "#res = eval_model(get_pred_errors(model3, test_x, test_y), test_attack_level, th_int=0.01)\n",
    "#print(max(res[\"F1\"])) "
   ]
  },
  {
   "cell_type": "code",
   "execution_count": 38,
   "metadata": {},
   "outputs": [
    {
     "name": "stdout",
     "output_type": "stream",
     "text": [
      "Epoch 1/5\n",
      "74450/74450 [==============================] - 17s 223us/sample - loss: 0.0016 - mean_squared_error: 0.0016\n",
      "Epoch 2/5\n",
      "74450/74450 [==============================] - 17s 222us/sample - loss: 0.0015 - mean_squared_error: 0.0015\n",
      "Epoch 3/5\n",
      "74450/74450 [==============================] - 16s 221us/sample - loss: 0.0014 - mean_squared_error: 0.0014\n",
      "Epoch 4/5\n",
      "74450/74450 [==============================] - 16s 221us/sample - loss: 0.0013 - mean_squared_error: 0.0013\n",
      "Epoch 5/5\n",
      "74450/74450 [==============================] - 17s 223us/sample - loss: 0.0013 - mean_squared_error: 0.0013\n"
     ]
    },
    {
     "data": {
      "text/plain": [
       "<tensorflow.python.keras.callbacks.History at 0x1a467df650>"
      ]
     },
     "execution_count": 38,
     "metadata": {},
     "output_type": "execute_result"
    }
   ],
   "source": [
    "model_relu_linear.fit(train_x, train_y, epochs=5)"
   ]
  },
  {
   "cell_type": "code",
   "execution_count": 39,
   "metadata": {},
   "outputs": [],
   "source": [
    "test_attack_level = np.zeros(len(test_regions))\n",
    "for i in range(len(test_regions)):\n",
    "    region=test_regions[i]\n",
    "    region_range = range(region[0], region[1])\n",
    "    attacks = np.sum(anomaly_origin[:,-1][region_range])\n",
    "    ratio_score = attacks/len(region_range)\n",
    "    attacks_score = 1/(1+np.exp(-attacks/10))*2-1\n",
    "    ratio_weight = 0.5\n",
    "    test_attack_level[i] = ratio_weight*ratio_score + (1-ratio_weight)*attacks_score"
   ]
  },
  {
   "cell_type": "code",
   "execution_count": 55,
   "metadata": {},
   "outputs": [],
   "source": [
    "test_pred = model_relu_linear.predict(test_x)\n"
   ]
  },
  {
   "cell_type": "code",
   "execution_count": 61,
   "metadata": {},
   "outputs": [
    {
     "name": "stdout",
     "output_type": "stream",
     "text": [
      "(58989,)\n",
      "(58989,)\n",
      "coef: [[1.         0.02345857]\n",
      " [0.02345857 1.        ]]\n",
      "have 1 zeros\n",
      "for pred_th =  1004526.9495447014 res =  (0.08385789740250343, 0.11201314390644632, 0.09591194968553458)\n"
     ]
    },
    {
     "data": {
      "image/png": "[encoded data removed]",
      "text/plain": [
       "<Figure size 1440x720 with 1 Axes>"
      ]
     },
     "metadata": {
      "needs_background": "light"
     },
     "output_type": "display_data"
    }
   ],
   "source": [
    "res = eval_model(anomaly_origin.shape[0], anomaly_origin[:,-1], test_y, test_pred, test_attack_level, test_regions)\n"
   ]
  },
  {
   "cell_type": "code",
   "execution_count": 47,
   "metadata": {},
   "outputs": [
    {
     "data": {
      "text/plain": [
       "0.3951603430048161"
      ]
     },
     "execution_count": 47,
     "metadata": {},
     "output_type": "execute_result"
    }
   ],
   "source": []
  },
  {
   "cell_type": "code",
   "execution_count": 7,
   "metadata": {},
   "outputs": [
    {
     "ename": "NameError",
     "evalue": "name 'model_relu_linear' is not defined",
     "output_type": "error",
     "traceback": [
      "\u001b[0;31m---------------------------------------------------------------------------\u001b[0m",
      "\u001b[0;31mNameError\u001b[0m                                 Traceback (most recent call last)",
      "\u001b[0;32m<ipython-input-7-86b95f3bf37d>\u001b[0m in \u001b[0;36m<module>\u001b[0;34m\u001b[0m\n\u001b[0;32m----> 1\u001b[0;31m \u001b[0mmodel_relu_linear\u001b[0m\u001b[0;34m.\u001b[0m\u001b[0mfit\u001b[0m\u001b[0;34m(\u001b[0m\u001b[0mtrain_x\u001b[0m\u001b[0;34m,\u001b[0m \u001b[0mtrain_y\u001b[0m\u001b[0;34m,\u001b[0m \u001b[0mepochs\u001b[0m\u001b[0;34m=\u001b[0m\u001b[0;36m5\u001b[0m\u001b[0;34m)\u001b[0m\u001b[0;34m\u001b[0m\u001b[0;34m\u001b[0m\u001b[0m\n\u001b[0m\u001b[1;32m      2\u001b[0m \u001b[0mpred_y\u001b[0m \u001b[0;34m=\u001b[0m \u001b[0mmodel_relu_linear\u001b[0m\u001b[0;34m.\u001b[0m\u001b[0mpredict\u001b[0m\u001b[0;34m(\u001b[0m\u001b[0mtest_x\u001b[0m\u001b[0;34m)\u001b[0m\u001b[0;34m\u001b[0m\u001b[0;34m\u001b[0m\u001b[0m\n\u001b[1;32m      3\u001b[0m \u001b[0;31m# prepare to visualize the predicted values\u001b[0m\u001b[0;34m\u001b[0m\u001b[0;34m\u001b[0m\u001b[0;34m\u001b[0m\u001b[0m\n\u001b[1;32m      4\u001b[0m \u001b[0mvis_nums\u001b[0m \u001b[0;34m=\u001b[0m \u001b[0;34m[\u001b[0m\u001b[0;36m0\u001b[0m\u001b[0;34m]\u001b[0m\u001b[0;34m\u001b[0m\u001b[0;34m\u001b[0m\u001b[0m\n\u001b[1;32m      5\u001b[0m \u001b[0mrec_step\u001b[0m \u001b[0;34m=\u001b[0m \u001b[0msample_size\u001b[0m\u001b[0;34m//\u001b[0m\u001b[0mtest_sample_step\u001b[0m\u001b[0;34m\u001b[0m\u001b[0;34m\u001b[0m\u001b[0m\n",
      "\u001b[0;31mNameError\u001b[0m: name 'model_relu_linear' is not defined"
     ]
    }
   ],
   "source": [
    "model_relu_linear.fit(train_x, train_y, epochs=5)\n",
    "pred_y = model_relu_linear.predict(test_x)\n",
    "# prepare to visualize the predicted values\n",
    "vis_nums = [0]\n",
    "rec_step = sample_size//test_sample_step\n",
    "pred_y_data = np.zeros((anomaly_pc.shape[0], anomaly_pc.shape[1]-1))\n",
    "for vis_num in vis_nums:\n",
    "    max_j = np.min(((anomaly_pc.shape[0]-vis_num*test_sample_step)//sample_size, (pred_y.shape[0]-vis_num)//rec_step))\n",
    "    for j in range(max_j):\n",
    "        #if(vis_num+j)\n",
    "        pred_y_data[(vis_num*test_sample_step + j*sample_size):(vis_num*test_sample_step+(j+1)*sample_size),:] \\\n",
    "            =pred_y[vis_num+j*rec_step].reshape(sample_size,dimension)\n",
    "plt.figure(figsize=(20,10*normal_pc.shape[1]))\n",
    "x_=np.arange(anomaly_pc.shape[0])\n",
    "for i in range(normal_pc.shape[1]):\n",
    "    plt.subplot(normal_pc.shape[1], 2, 2*i+1)\n",
    "    plt.plot(x_, anomaly_pc[:,i],color=\"b\")\n",
    "    plt.plot(x_, pred_y_data[:,i], color =\"r\")\n",
    "    plt.subplot(normal_pc.shape[1], 2, 2*i+2)\n",
    "    plt.plot(x_, np.abs(anomaly_pc[:,i]-pred_y_data[:,i]))"
   ]
  },
  {
   "cell_type": "code",
   "execution_count": 49,
   "metadata": {},
   "outputs": [
    {
     "name": "stdout",
     "output_type": "stream",
     "text": [
      "corr:  [[1.         0.42994264]\n",
      " [0.42994264 1.        ]]\n",
      "normal_err:  count    81140.000000\n",
      "mean         0.028469\n",
      "std          0.031855\n",
      "min          0.000000\n",
      "25%          0.011325\n",
      "50%          0.018495\n",
      "75%          0.032788\n",
      "max          0.729593\n",
      "dtype: float64\n",
      "anomaly_err: count    5245.000000\n",
      "mean        0.134981\n",
      "std         0.177023\n",
      "min         0.001742\n",
      "25%         0.030551\n",
      "50%         0.057636\n",
      "75%         0.163474\n",
      "max         1.000000\n",
      "dtype: float64\n",
      "0.3946188340807175\n"
     ]
    },
    {
     "data": {
      "image/png": "[encoded data removed]",
      "text/plain": [
       "<Figure size 432x288 with 3 Axes>"
      ]
     },
     "metadata": {
      "needs_background": "light"
     },
     "output_type": "display_data"
    }
   ],
   "source": [
    "res = eval_model(get_pred_errors(model_relu_linear, test_x, test_y), test_attack_level, th_int=0.01)\n",
    "print(max(res[\"F1\"])) \n"
   ]
  },
  {
   "cell_type": "code",
   "execution_count": 10,
   "metadata": {},
   "outputs": [],
   "source": [
    "start = []\n",
    "end = []\n",
    "for i in range(anomaly_pc.shape[0]-1):\n",
    "    if(anomaly_pc[i][-1]==0 and anomaly_pc[i+1][-1]==1):\n",
    "        #print(\"0->1\", i, i+1)\n",
    "        start.append(i+1)\n",
    "    elif(anomaly_pc[i][-1]==1 and anomaly_pc[i+1][-1]==0):\n",
    "        #print(\"1->0\", i, i+1)\n",
    "        end.append(i+1)\n",
    "\n",
    "attack_ = np.concatenate((start, end)).reshape(2, len(start)).transpose(1,0)"
   ]
  },
  {
   "cell_type": "code",
   "execution_count": null,
   "metadata": {
    "scrolled": false
   },
   "outputs": [],
   "source": [
    "plt.figure(figsize=(20,10*normal_pc.shape[1]))\n",
    "\n",
    "range2 = np.arange(55000,67000)\n",
    "for i in range(normal_pc.shape[1]):\n",
    "    plt.subplot(normal_pc.shape[1], 2, 2*i+1)\n",
    "    plt.plot(range2, anomaly_pc[range2,:][:,i],color=\"b\")\n",
    "    plt.plot(range2, pred_y_data[range2,:][:,i], color =\"g\")\n",
    "    for j in range(len(start)):\n",
    "        if(start[j] in range2 or end[j] in range2):\n",
    "            plt.axvspan(start[j], end[j], alpha=0.3, color='red')\n",
    "    plt.title(\"pc\"+str(i))\n",
    "            \n",
    "    plt.subplot(normal_pc.shape[1], 2, 2*i+2)\n",
    "    plt.plot(range2, np.abs(anomaly_pc[range2,:][:,i]-pred_y_data[range2,:][:,i]))\n",
    "    for j in range(len(start)):\n",
    "        if(start[j] in range2 or end[j] in range2):\n",
    "            plt.axvspan(start[j], end[j], alpha=0.3, color='red')\n",
    "    plt.title(\"pc\"+str(i))"
   ]
  },
  {
   "cell_type": "code",
   "execution_count": null,
   "metadata": {
    "scrolled": false
   },
   "outputs": [],
   "source": [
    "plt.figure(figsize=(20,10*normal_pc.shape[1]))\n",
    "\n",
    "range2 = np.arange(68000,80000)\n",
    "for i in range(normal_pc.shape[1]):\n",
    "    plt.subplot(normal_pc.shape[1], 2, 2*i+1)\n",
    "    plt.plot(range2, anomaly_pc[range2,:][:,i],color=\"b\")\n",
    "    plt.plot(range2, pred_y_data[range2,:][:,i], color =\"g\")\n",
    "    for j in range(len(start)):\n",
    "        if(start[j] in range2 or end[j] in range2):\n",
    "            plt.axvspan(start[j], end[j], alpha=0.3, color='red')\n",
    "    plt.title(\"pc\"+str(i))\n",
    "            \n",
    "    plt.subplot(normal_pc.shape[1], 2, 2*i+2)\n",
    "    plt.plot(range2, np.abs(anomaly_pc[range2,:][:,i]-pred_y_data[range2,:][:,i]))\n",
    "    for j in range(len(start)):\n",
    "        if(start[j] in range2 or end[j] in range2):\n",
    "            plt.axvspan(start[j], end[j], alpha=0.3, color='red')\n",
    "    plt.title(\"pc\"+str(i))"
   ]
  },
  {
   "cell_type": "code",
   "execution_count": null,
   "metadata": {},
   "outputs": [],
   "source": []
  }
 ],
 "metadata": {
  "kernelspec": {
   "display_name": "Python 3",
   "language": "python",
   "name": "python3"
  },
  "language_info": {
   "codemirror_mode": {
    "name": "ipython",
    "version": 3
   },
   "file_extension": ".py",
   "mimetype": "text/x-python",
   "name": "python",
   "nbconvert_exporter": "python",
   "pygments_lexer": "ipython3",
   "version": "3.7.4"
  }
 },
 "nbformat": 4,
 "nbformat_minor": 2
}
